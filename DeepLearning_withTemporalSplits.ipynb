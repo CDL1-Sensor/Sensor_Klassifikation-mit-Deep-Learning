{
 "cells": [
  {
   "attachments": {},
   "cell_type": "markdown",
   "metadata": {},
   "source": [
    "# Sensor Based Activity Recoginition \n",
    "Challenge: cdl1 - Sensor based Activity Recognition  \n",
    "Team: Lea Bütler, Manjavy Kirupa, Etienne Roulet, Si Ben Tran  \n",
    "\n",
    "Aufgabe: DL Modell erstellen\n",
    "\n",
    "Hier in diesem Notebook erstellen wir unsere Deep Learning Modelle."
   ]
  },
  {
   "cell_type": "code",
   "execution_count": 23,
   "metadata": {},
   "outputs": [
    {
     "name": "stdout",
     "output_type": "stream",
     "text": [
      "[PhysicalDevice(name='/physical_device:CPU:0', device_type='CPU'), PhysicalDevice(name='/physical_device:GPU:0', device_type='GPU')]\n"
     ]
    }
   ],
   "source": [
    "import tensorflow as tf\n",
    "from sklearn.model_selection import KFold\n",
    "import numpy as np\n",
    "import logging\n",
    "from datetime import datetime\n",
    "import dataclasses\n",
    "import pandas as pd\n",
    "import tensorflow as tf\n",
    "from sklearn.preprocessing import LabelEncoder\n",
    "from sklearn import model_selection as ms\n",
    "from sklearn.model_selection import train_test_split, TimeSeriesSplit\n",
    "from keras.utils import to_categorical\n",
    "from sklearn.model_selection import train_test_split\n",
    "from keras.utils import to_categorical\n",
    "import os\n",
    "from tensorflow.keras.callbacks import TensorBoard\n",
    "import matplotlib.pyplot as plt\n",
    "import numpy as np\n",
    "\n",
    "tf.debugging.set_log_device_placement(False)\n",
    "\n",
    "# datetime as filename for logging\n",
    "now = datetime.now()\n",
    "date_time_string = now.strftime(\"%Y-%m-%d_%H-%M-%S\")\n",
    "\n",
    "logging.basicConfig(level=logging.INFO, filename = f\"{date_time_string}.txt\", filemode='a')\n",
    "print(tf.config.list_physical_devices())"
   ]
  },
  {
   "attachments": {},
   "cell_type": "markdown",
   "metadata": {},
   "source": [
    "# Daten einlesen"
   ]
  },
  {
   "cell_type": "code",
   "execution_count": 24,
   "metadata": {},
   "outputs": [],
   "source": [
    "from dataclasses import dataclass\n",
    "# Static Parameters\n",
    "@dataclass\n",
    "class Parameters():\n",
    "    batch_size: int = 128\n",
    "    epochs: int = 10\n",
    "    verbosity: str = \"auto\"\n",
    "    step_size: int = 374\n",
    "    number_folds: int = 2\n",
    "    output_size: int = 6"
   ]
  },
  {
   "cell_type": "code",
   "execution_count": 25,
   "metadata": {},
   "outputs": [
    {
     "data": {
      "text/html": [
       "<div>\n",
       "<style scoped>\n",
       "    .dataframe tbody tr th:only-of-type {\n",
       "        vertical-align: middle;\n",
       "    }\n",
       "\n",
       "    .dataframe tbody tr th {\n",
       "        vertical-align: top;\n",
       "    }\n",
       "\n",
       "    .dataframe thead th {\n",
       "        text-align: right;\n",
       "    }\n",
       "</style>\n",
       "<table border=\"1\" class=\"dataframe\">\n",
       "  <thead>\n",
       "    <tr style=\"text-align: right;\">\n",
       "      <th></th>\n",
       "      <th>Unnamed: 0</th>\n",
       "      <th>time</th>\n",
       "      <th>Accelerometer_x</th>\n",
       "      <th>Accelerometer_y</th>\n",
       "      <th>Accelerometer_z</th>\n",
       "      <th>Gyroscope_x</th>\n",
       "      <th>Gyroscope_y</th>\n",
       "      <th>Gyroscope_z</th>\n",
       "      <th>Magnetometer_x</th>\n",
       "      <th>Magnetometer_y</th>\n",
       "      <th>Magnetometer_z</th>\n",
       "      <th>Orientation_qx</th>\n",
       "      <th>Orientation_qy</th>\n",
       "      <th>Orientation_qz</th>\n",
       "      <th>id</th>\n",
       "      <th>user</th>\n",
       "      <th>class</th>\n",
       "      <th>id_combined</th>\n",
       "    </tr>\n",
       "  </thead>\n",
       "  <tbody>\n",
       "    <tr>\n",
       "      <th>0</th>\n",
       "      <td>1</td>\n",
       "      <td>2023-02-27 15:02:17.156</td>\n",
       "      <td>0.000</td>\n",
       "      <td>9.722</td>\n",
       "      <td>1.278</td>\n",
       "      <td>0.0</td>\n",
       "      <td>0.0</td>\n",
       "      <td>0.0</td>\n",
       "      <td>0.000000</td>\n",
       "      <td>0.0</td>\n",
       "      <td>0.000000</td>\n",
       "      <td>-0.21775</td>\n",
       "      <td>-0.719579</td>\n",
       "      <td>0.631111</td>\n",
       "      <td>01_SamsungA22-2023-02-27_15-02-03</td>\n",
       "      <td>Ben_Tran</td>\n",
       "      <td>Laufen</td>\n",
       "      <td>01_SamsungA22-2023-02-27_15-02-03Ben_TranLaufen</td>\n",
       "    </tr>\n",
       "    <tr>\n",
       "      <th>1</th>\n",
       "      <td>2</td>\n",
       "      <td>2023-02-27 15:02:31.574</td>\n",
       "      <td>-0.728</td>\n",
       "      <td>9.779</td>\n",
       "      <td>0.000</td>\n",
       "      <td>0.0</td>\n",
       "      <td>0.0</td>\n",
       "      <td>0.0</td>\n",
       "      <td>0.000000</td>\n",
       "      <td>0.0</td>\n",
       "      <td>0.000000</td>\n",
       "      <td>-0.42065</td>\n",
       "      <td>0.568356</td>\n",
       "      <td>-0.598058</td>\n",
       "      <td>01_SamsungA22-2023-02-27_15-02-03</td>\n",
       "      <td>Ben_Tran</td>\n",
       "      <td>Laufen</td>\n",
       "      <td>01_SamsungA22-2023-02-27_15-02-03Ben_TranLaufen</td>\n",
       "    </tr>\n",
       "    <tr>\n",
       "      <th>2</th>\n",
       "      <td>3</td>\n",
       "      <td>2023-02-27 15:02:16.685</td>\n",
       "      <td>0.000</td>\n",
       "      <td>0.000</td>\n",
       "      <td>0.000</td>\n",
       "      <td>0.0</td>\n",
       "      <td>0.0</td>\n",
       "      <td>0.0</td>\n",
       "      <td>0.000000</td>\n",
       "      <td>43.5</td>\n",
       "      <td>-13.143750</td>\n",
       "      <td>0.00000</td>\n",
       "      <td>0.000000</td>\n",
       "      <td>0.000000</td>\n",
       "      <td>01_SamsungA22-2023-02-27_15-02-03</td>\n",
       "      <td>Ben_Tran</td>\n",
       "      <td>Laufen</td>\n",
       "      <td>01_SamsungA22-2023-02-27_15-02-03Ben_TranLaufen</td>\n",
       "    </tr>\n",
       "    <tr>\n",
       "      <th>3</th>\n",
       "      <td>4</td>\n",
       "      <td>2023-02-27 15:02:32.295</td>\n",
       "      <td>0.000</td>\n",
       "      <td>0.000</td>\n",
       "      <td>0.000</td>\n",
       "      <td>0.0</td>\n",
       "      <td>0.0</td>\n",
       "      <td>0.0</td>\n",
       "      <td>-13.012501</td>\n",
       "      <td>0.0</td>\n",
       "      <td>20.587502</td>\n",
       "      <td>0.00000</td>\n",
       "      <td>0.000000</td>\n",
       "      <td>0.000000</td>\n",
       "      <td>01_SamsungA22-2023-02-27_15-02-03</td>\n",
       "      <td>Ben_Tran</td>\n",
       "      <td>Laufen</td>\n",
       "      <td>01_SamsungA22-2023-02-27_15-02-03Ben_TranLaufen</td>\n",
       "    </tr>\n",
       "    <tr>\n",
       "      <th>4</th>\n",
       "      <td>5</td>\n",
       "      <td>2023-02-27 15:02:33.285</td>\n",
       "      <td>0.000</td>\n",
       "      <td>0.000</td>\n",
       "      <td>0.000</td>\n",
       "      <td>0.0</td>\n",
       "      <td>0.0</td>\n",
       "      <td>0.0</td>\n",
       "      <td>-22.612501</td>\n",
       "      <td>0.0</td>\n",
       "      <td>20.268751</td>\n",
       "      <td>0.00000</td>\n",
       "      <td>0.000000</td>\n",
       "      <td>0.000000</td>\n",
       "      <td>01_SamsungA22-2023-02-27_15-02-03</td>\n",
       "      <td>Ben_Tran</td>\n",
       "      <td>Laufen</td>\n",
       "      <td>01_SamsungA22-2023-02-27_15-02-03Ben_TranLaufen</td>\n",
       "    </tr>\n",
       "  </tbody>\n",
       "</table>\n",
       "</div>"
      ],
      "text/plain": [
       "   Unnamed: 0                     time  Accelerometer_x  Accelerometer_y   \n",
       "0           1  2023-02-27 15:02:17.156            0.000            9.722  \\\n",
       "1           2  2023-02-27 15:02:31.574           -0.728            9.779   \n",
       "2           3  2023-02-27 15:02:16.685            0.000            0.000   \n",
       "3           4  2023-02-27 15:02:32.295            0.000            0.000   \n",
       "4           5  2023-02-27 15:02:33.285            0.000            0.000   \n",
       "\n",
       "   Accelerometer_z  Gyroscope_x  Gyroscope_y  Gyroscope_z  Magnetometer_x   \n",
       "0            1.278          0.0          0.0          0.0        0.000000  \\\n",
       "1            0.000          0.0          0.0          0.0        0.000000   \n",
       "2            0.000          0.0          0.0          0.0        0.000000   \n",
       "3            0.000          0.0          0.0          0.0      -13.012501   \n",
       "4            0.000          0.0          0.0          0.0      -22.612501   \n",
       "\n",
       "   Magnetometer_y  Magnetometer_z  Orientation_qx  Orientation_qy   \n",
       "0             0.0        0.000000        -0.21775       -0.719579  \\\n",
       "1             0.0        0.000000        -0.42065        0.568356   \n",
       "2            43.5      -13.143750         0.00000        0.000000   \n",
       "3             0.0       20.587502         0.00000        0.000000   \n",
       "4             0.0       20.268751         0.00000        0.000000   \n",
       "\n",
       "   Orientation_qz                                 id      user   class   \n",
       "0        0.631111  01_SamsungA22-2023-02-27_15-02-03  Ben_Tran  Laufen  \\\n",
       "1       -0.598058  01_SamsungA22-2023-02-27_15-02-03  Ben_Tran  Laufen   \n",
       "2        0.000000  01_SamsungA22-2023-02-27_15-02-03  Ben_Tran  Laufen   \n",
       "3        0.000000  01_SamsungA22-2023-02-27_15-02-03  Ben_Tran  Laufen   \n",
       "4        0.000000  01_SamsungA22-2023-02-27_15-02-03  Ben_Tran  Laufen   \n",
       "\n",
       "                                       id_combined  \n",
       "0  01_SamsungA22-2023-02-27_15-02-03Ben_TranLaufen  \n",
       "1  01_SamsungA22-2023-02-27_15-02-03Ben_TranLaufen  \n",
       "2  01_SamsungA22-2023-02-27_15-02-03Ben_TranLaufen  \n",
       "3  01_SamsungA22-2023-02-27_15-02-03Ben_TranLaufen  \n",
       "4  01_SamsungA22-2023-02-27_15-02-03Ben_TranLaufen  "
      ]
     },
     "execution_count": 25,
     "metadata": {},
     "output_type": "execute_result"
    }
   ],
   "source": [
    "df = pd.read_csv(\"../Sensor_Data-Wrangling-und-EDA/Alle_Messungen_trimmed.csv\") \n",
    "df.head()"
   ]
  },
  {
   "cell_type": "code",
   "execution_count": 26,
   "metadata": {},
   "outputs": [
    {
     "name": "stdout",
     "output_type": "stream",
     "text": [
      "(2344488, 18)\n"
     ]
    }
   ],
   "source": [
    "# convert the string time column to datetime\n",
    "epoch = pd.Timestamp('1970-01-01')\n",
    "\n",
    "df['time'] = pd.to_datetime(df['time'])\n",
    "df['time'] = (df['time'] - epoch).apply(lambda x: int(x.total_seconds() * 1000))\n",
    "\n",
    "print(df.shape)"
   ]
  },
  {
   "cell_type": "code",
   "execution_count": 27,
   "metadata": {},
   "outputs": [
    {
     "name": "stdout",
     "output_type": "stream",
     "text": [
      "(4063, 18)\n",
      "(2340425, 18)\n"
     ]
    }
   ],
   "source": [
    "# select etiennes laufen dataset 01\n",
    "df_etienne = df[df[\"id_combined\"] == \"01_iPhone13pro-2023-03-21_16-55-47Etienne_RouletLaufen\"]\n",
    "# split df_etienne into 2 parts \n",
    "df_etienne_laufen = df_etienne.sample(frac=0.6, random_state=42)\n",
    "print(df_etienne_laufen.shape)\n",
    "\n",
    "# export to csv\n",
    "df_etienne_laufen.to_csv(\"Etienne_Messung_Laufen.csv\", index=False)\n",
    "\n",
    "# remove rows from df that are in df_etienne_laufen\n",
    "df = df.drop(df_etienne_laufen.index)\n",
    "\n",
    "# print new shape of df\n",
    "print(df.shape)"
   ]
  },
  {
   "cell_type": "code",
   "execution_count": 28,
   "metadata": {},
   "outputs": [
    {
     "name": "stdout",
     "output_type": "stream",
     "text": [
      "{'Laufen': 0, 'Rennen': 1, 'Sitzen': 2, 'Stehen': 3, 'Treppenlaufen': 4, 'Velofahren': 5}\n"
     ]
    }
   ],
   "source": [
    "df = df.drop(columns=[\"id\", \"user\", \"id_combined\"])\n",
    "df.drop(['Unnamed: 0'], axis=1, inplace=True)\n",
    "# get all types of the df\n",
    "le = LabelEncoder()\n",
    "df[\"class\"] = le.fit_transform(df[\"class\"])\n",
    "# print dictionary of the classes and its encoded values\n",
    "print(dict(zip(le.classes_, le.transform(le.classes_))))"
   ]
  },
  {
   "cell_type": "code",
   "execution_count": 29,
   "metadata": {},
   "outputs": [],
   "source": [
    "# Set the window size and step size\n",
    "window_size = 300\n",
    "step_size = 100\n",
    "\n",
    "# Reshape X to 2D format (samples, features)\n",
    "X = df.values[:, 1:13]\n",
    "\n",
    "# Define y\n",
    "y = df[\"class\"].values\n",
    "\n",
    "# Create a sliding window of X with the specified window and step sizes\n",
    "X_windows = np.array([X[i:i+window_size,:] for i in range(0,X.shape[0]-window_size+1,step_size)])\n",
    "\n",
    "# Reshape X_windows to 3D format (samples, timesteps, features)\n",
    "timesteps = X_windows.shape[1]\n",
    "n_features = X_windows.shape[2]\n",
    "X_windows = X_windows.reshape(-1, timesteps, n_features)\n",
    "\n",
    "# Create the corresponding y labels for the sliding windows\n",
    "y_windows = np.array([y[i+window_size-1] for i in range(0,X.shape[0]-window_size+1,step_size)])\n",
    "y_windows = to_categorical(y_windows, num_classes=6)\n",
    "\n",
    "# Split the dataset into training and testing sets\n",
    "X_train, X_test, y_train, y_test = train_test_split(X_windows, y_windows, test_size=0.2, random_state=42, stratify=y_windows)\n"
   ]
  },
  {
   "cell_type": "code",
   "execution_count": 30,
   "metadata": {},
   "outputs": [
    {
     "data": {
      "text/plain": [
       "((2340425, 12),\n",
       " (2340425,),\n",
       " (18721, 300, 12),\n",
       " (18721, 6),\n",
       " (4681, 300, 12),\n",
       " (4681, 6))"
      ]
     },
     "execution_count": 30,
     "metadata": {},
     "output_type": "execute_result"
    }
   ],
   "source": [
    "X.shape, y.shape, X_train.shape, y_train.shape, X_test.shape, y_test.shape"
   ]
  },
  {
   "cell_type": "code",
   "execution_count": 31,
   "metadata": {},
   "outputs": [],
   "source": [
    "x_train = X_train\n",
    "x_test = X_test\n",
    "y_train = y_train\n",
    "y_test = y_test"
   ]
  },
  {
   "cell_type": "code",
   "execution_count": 39,
   "metadata": {},
   "outputs": [],
   "source": [
    "# Something like this as first Model\n",
    "\n",
    "# Something like this as Third Model\n",
    "def create_model_3(name=\"model_3\"):\n",
    "    model = tf.keras.Sequential([\n",
    "        tf.keras.layers.Reshape((-1, 12), input_shape=(12,)),\n",
    "        tf.keras.layers.Conv1D(32, 5, strides=2, padding='same', activation='relu'),\n",
    "        tf.keras.layers.Conv1D(16, 3, strides=2, padding='same', activation='relu'),\n",
    "        tf.keras.layers.Flatten(),\n",
    "        tf.keras.layers.Dense(6, activation='softmax')\n",
    "    ], name=name)\n",
    "    model.compile(optimizer='adam', loss=tf.keras.losses.SparseCategoricalCrossentropy(from_logits=False), metrics=['accuracy'])\n",
    "    return model\n",
    "\n",
    "def create_model_4(name=\"model_4\"):\n",
    "    model = tf.keras.Sequential([\n",
    "        # Add a 1D convolutional layer\n",
    "        tf.keras.layers.Conv1D(filters=64, kernel_size=2, activation='relu', padding='same', input_shape=(timesteps, n_features)),\n",
    "        \n",
    "        # Add LSTM layer\n",
    "        tf.keras.layers.LSTM(100),\n",
    "\n",
    "        # Add a dense output layer\n",
    "        tf.keras.layers.Dense(6, activation='softmax')  # Change activation function based on the nature of the output\n",
    "    ], name=name)\n",
    "    model.compile(optimizer='adam',   loss='categorical_crossentropy', metrics=['accuracy', tf.keras.metrics.Precision(), tf.keras.metrics.Recall()])  \n",
    "    return model\n",
    "\n",
    "def create_model_5(name=\"model_5\"):\n",
    "    model = tf.keras.Sequential([\n",
    "        # Add a 1D convolutional layer\n",
    "        tf.keras.layers.Conv1D(filters=16, kernel_size=2, activation='relu', padding='same', input_shape=(timesteps, n_features)),\n",
    "        tf.keras.layers.MaxPooling1D(pool_size=2),\n",
    "        tf.keras.layers.Conv1D(filters=6, kernel_size=2, activation='relu', padding='same'),\n",
    "        tf.keras.layers.MaxPooling1D(pool_size=2),\n",
    "\n",
    "        # flatten output\n",
    "        tf.keras.layers.Flatten(),\n",
    "\n",
    "        # Add a dense output layer\n",
    "        tf.keras.layers.Dense(100, activation='relu'),\n",
    "        tf.keras.layers.Dense(6, activation='softmax')  # Change activation function based on the nature of the output\n",
    "    ], name=name)\n",
    "\n",
    "    model.compile(optimizer='adam',   loss='categorical_crossentropy', metrics=['accuracy', tf.keras.metrics.Precision(), tf.keras.metrics.Recall()])\n",
    "    return model"
   ]
  },
  {
   "cell_type": "code",
   "execution_count": 40,
   "metadata": {},
   "outputs": [
    {
     "name": "stdout",
     "output_type": "stream",
     "text": [
      "Model create_model_4\n",
      "Epoch 1/10\n",
      "49/49 [==============================] - 7s 108ms/step - loss: 1.2982 - accuracy: 0.4980 - precision_17: 0.7430 - recall_17: 0.2214 - val_loss: 1.0507 - val_accuracy: 0.6412 - val_precision_17: 0.8585 - val_recall_17: 0.3402\n",
      "Epoch 2/10\n",
      "49/49 [==============================] - 4s 83ms/step - loss: 0.9107 - accuracy: 0.6845 - precision_17: 0.8370 - recall_17: 0.4672 - val_loss: 0.7623 - val_accuracy: 0.7551 - val_precision_17: 0.8505 - val_recall_17: 0.5905\n",
      "Epoch 3/10\n",
      "49/49 [==============================] - 4s 79ms/step - loss: 0.6787 - accuracy: 0.7762 - precision_17: 0.8735 - recall_17: 0.6485 - val_loss: 0.6194 - val_accuracy: 0.7936 - val_precision_17: 0.8605 - val_recall_17: 0.7008\n",
      "Epoch 4/10\n",
      "49/49 [==============================] - 4s 77ms/step - loss: 0.5221 - accuracy: 0.8353 - precision_17: 0.9017 - recall_17: 0.7481 - val_loss: 0.4971 - val_accuracy: 0.8346 - val_precision_17: 0.8877 - val_recall_17: 0.7649\n",
      "Epoch 5/10\n",
      "49/49 [==============================] - 4s 77ms/step - loss: 0.4330 - accuracy: 0.8625 - precision_17: 0.9040 - recall_17: 0.8072 - val_loss: 0.4283 - val_accuracy: 0.8801 - val_precision_17: 0.9189 - val_recall_17: 0.8192\n",
      "Epoch 6/10\n",
      "49/49 [==============================] - 4s 77ms/step - loss: 0.3662 - accuracy: 0.8870 - precision_17: 0.9231 - recall_17: 0.8486 - val_loss: 0.3776 - val_accuracy: 0.8806 - val_precision_17: 0.9164 - val_recall_17: 0.8466\n",
      "Epoch 7/10\n",
      "49/49 [==============================] - 4s 80ms/step - loss: 0.3211 - accuracy: 0.8987 - precision_17: 0.9225 - recall_17: 0.8712 - val_loss: 0.3241 - val_accuracy: 0.9008 - val_precision_17: 0.9218 - val_recall_17: 0.8798\n",
      "Epoch 8/10\n",
      "49/49 [==============================] - 4s 78ms/step - loss: 0.2770 - accuracy: 0.9167 - precision_17: 0.9372 - recall_17: 0.8946 - val_loss: 0.2807 - val_accuracy: 0.9205 - val_precision_17: 0.9353 - val_recall_17: 0.9029\n",
      "Epoch 9/10\n",
      "49/49 [==============================] - 4s 78ms/step - loss: 0.2330 - accuracy: 0.9292 - precision_17: 0.9438 - recall_17: 0.9141 - val_loss: 0.2719 - val_accuracy: 0.9098 - val_precision_17: 0.9241 - val_recall_17: 0.8950\n",
      "Epoch 10/10\n",
      "49/49 [==============================] - 4s 81ms/step - loss: 0.2127 - accuracy: 0.9367 - precision_17: 0.9499 - recall_17: 0.9213 - val_loss: 0.2430 - val_accuracy: 0.9298 - val_precision_17: 0.9386 - val_recall_17: 0.9207\n",
      "195/195 [==============================] - 5s 23ms/step - loss: 0.2430 - accuracy: 0.9298 - precision_17: 0.9386 - recall_17: 0.9207\n",
      "Model create_model_5\n",
      "Epoch 1/10\n",
      "49/49 [==============================] - 3s 50ms/step - loss: 4.2178 - accuracy: 0.3382 - precision_18: 0.3454 - recall_18: 0.2665 - val_loss: 2.2610 - val_accuracy: 0.4236 - val_precision_18: 0.4790 - val_recall_18: 0.3487\n",
      "Epoch 2/10\n",
      "49/49 [==============================] - 2s 32ms/step - loss: 2.0215 - accuracy: 0.4459 - precision_18: 0.5172 - recall_18: 0.3213 - val_loss: 1.9855 - val_accuracy: 0.4755 - val_precision_18: 0.5044 - val_recall_18: 0.3644\n",
      "Epoch 3/10\n",
      "49/49 [==============================] - 2s 31ms/step - loss: 1.5037 - accuracy: 0.5127 - precision_18: 0.5842 - recall_18: 0.3596 - val_loss: 1.4602 - val_accuracy: 0.5577 - val_precision_18: 0.5992 - val_recall_18: 0.3702\n",
      "Epoch 4/10\n",
      "49/49 [==============================] - 2s 33ms/step - loss: 1.2306 - accuracy: 0.5690 - precision_18: 0.6385 - recall_18: 0.4208 - val_loss: 1.2474 - val_accuracy: 0.5502 - val_precision_18: 0.6633 - val_recall_18: 0.4518\n",
      "Epoch 5/10\n",
      "49/49 [==============================] - 1s 30ms/step - loss: 1.0664 - accuracy: 0.6209 - precision_18: 0.6960 - recall_18: 0.4909 - val_loss: 1.0499 - val_accuracy: 0.6372 - val_precision_18: 0.6985 - val_recall_18: 0.4849\n",
      "Epoch 6/10\n",
      "49/49 [==============================] - 1s 31ms/step - loss: 0.9187 - accuracy: 0.6720 - precision_18: 0.7368 - recall_18: 0.5634 - val_loss: 1.1122 - val_accuracy: 0.6383 - val_precision_18: 0.6821 - val_recall_18: 0.5832\n",
      "Epoch 7/10\n",
      "49/49 [==============================] - 1s 29ms/step - loss: 0.8737 - accuracy: 0.6880 - precision_18: 0.7466 - recall_18: 0.5973 - val_loss: 0.8904 - val_accuracy: 0.7059 - val_precision_18: 0.7669 - val_recall_18: 0.6058\n",
      "Epoch 8/10\n",
      "49/49 [==============================] - 1s 30ms/step - loss: 0.7252 - accuracy: 0.7375 - precision_18: 0.7901 - recall_18: 0.6544 - val_loss: 0.8015 - val_accuracy: 0.7293 - val_precision_18: 0.7769 - val_recall_18: 0.6609\n",
      "Epoch 9/10\n",
      "49/49 [==============================] - 1s 30ms/step - loss: 0.6500 - accuracy: 0.7705 - precision_18: 0.8175 - recall_18: 0.6989 - val_loss: 0.7607 - val_accuracy: 0.7446 - val_precision_18: 0.7896 - val_recall_18: 0.6819\n",
      "Epoch 10/10\n",
      "49/49 [==============================] - 1s 30ms/step - loss: 0.5788 - accuracy: 0.7851 - precision_18: 0.8342 - recall_18: 0.7271 - val_loss: 0.7536 - val_accuracy: 0.7756 - val_precision_18: 0.8225 - val_recall_18: 0.7175\n",
      "195/195 [==============================] - 3s 14ms/step - loss: 0.7536 - accuracy: 0.7756 - precision_18: 0.8225 - recall_18: 0.7175\n",
      "Model create_model_4\n",
      "Epoch 1/10\n",
      "98/98 [==============================] - 10s 83ms/step - loss: 0.9862 - accuracy: 0.6582 - precision_19: 0.8692 - recall_19: 0.4170 - val_loss: 0.6125 - val_accuracy: 0.8226 - val_precision_19: 0.9101 - val_recall_19: 0.7088\n",
      "Epoch 2/10\n",
      "98/98 [==============================] - 7s 69ms/step - loss: 0.4628 - accuracy: 0.8521 - precision_19: 0.9006 - recall_19: 0.7971 - val_loss: 0.4007 - val_accuracy: 0.8728 - val_precision_19: 0.9039 - val_recall_19: 0.8321\n",
      "Epoch 3/10\n",
      "98/98 [==============================] - 7s 68ms/step - loss: 0.3396 - accuracy: 0.8965 - precision_19: 0.9207 - recall_19: 0.8681 - val_loss: 0.3120 - val_accuracy: 0.9032 - val_precision_19: 0.9206 - val_recall_19: 0.8841\n",
      "Epoch 4/10\n",
      "98/98 [==============================] - 7s 69ms/step - loss: 0.2724 - accuracy: 0.9161 - precision_19: 0.9315 - recall_19: 0.8978 - val_loss: 0.2792 - val_accuracy: 0.9139 - val_precision_19: 0.9294 - val_recall_19: 0.8990\n",
      "Epoch 5/10\n",
      "98/98 [==============================] - 7s 69ms/step - loss: 0.2299 - accuracy: 0.9305 - precision_19: 0.9424 - recall_19: 0.9157 - val_loss: 0.2909 - val_accuracy: 0.9058 - val_precision_19: 0.9232 - val_recall_19: 0.8941\n",
      "Epoch 6/10\n",
      "98/98 [==============================] - 7s 69ms/step - loss: 0.2186 - accuracy: 0.9329 - precision_19: 0.9430 - recall_19: 0.9219 - val_loss: 0.2327 - val_accuracy: 0.9287 - val_precision_19: 0.9375 - val_recall_19: 0.9184\n",
      "Epoch 7/10\n",
      "98/98 [==============================] - 7s 68ms/step - loss: 0.1857 - accuracy: 0.9434 - precision_19: 0.9519 - recall_19: 0.9342 - val_loss: 0.2115 - val_accuracy: 0.9343 - val_precision_19: 0.9404 - val_recall_19: 0.9287\n",
      "Epoch 8/10\n",
      "98/98 [==============================] - 7s 68ms/step - loss: 0.1569 - accuracy: 0.9506 - precision_19: 0.9573 - recall_19: 0.9439 - val_loss: 0.1905 - val_accuracy: 0.9421 - val_precision_19: 0.9491 - val_recall_19: 0.9362\n",
      "Epoch 9/10\n",
      "98/98 [==============================] - 7s 68ms/step - loss: 0.1563 - accuracy: 0.9513 - precision_19: 0.9574 - recall_19: 0.9460 - val_loss: 0.1901 - val_accuracy: 0.9438 - val_precision_19: 0.9508 - val_recall_19: 0.9386\n",
      "Epoch 10/10\n",
      "98/98 [==============================] - 7s 69ms/step - loss: 0.1608 - accuracy: 0.9509 - precision_19: 0.9593 - recall_19: 0.9444 - val_loss: 0.1770 - val_accuracy: 0.9462 - val_precision_19: 0.9561 - val_recall_19: 0.9417\n",
      "195/195 [==============================] - 5s 26ms/step - loss: 0.1770 - accuracy: 0.9462 - precision_19: 0.9561 - recall_19: 0.9417\n",
      "Model create_model_5\n",
      "Epoch 1/10\n",
      "98/98 [==============================] - 7s 34ms/step - loss: 1.8602 - accuracy: 0.4987 - precision_20: 0.5772 - recall_20: 0.3527 - val_loss: 1.1248 - val_accuracy: 0.6186 - val_precision_20: 0.7227 - val_recall_20: 0.4361\n",
      "Epoch 2/10\n",
      "98/98 [==============================] - 3s 26ms/step - loss: 0.9726 - accuracy: 0.6755 - precision_20: 0.7564 - recall_20: 0.5107 - val_loss: 0.9368 - val_accuracy: 0.7112 - val_precision_20: 0.7763 - val_recall_20: 0.5752\n",
      "Epoch 3/10\n",
      "98/98 [==============================] - 2s 25ms/step - loss: 0.7153 - accuracy: 0.7533 - precision_20: 0.8125 - recall_20: 0.6241 - val_loss: 0.7629 - val_accuracy: 0.7559 - val_precision_20: 0.8073 - val_recall_20: 0.6473\n",
      "Epoch 4/10\n",
      "98/98 [==============================] - 2s 25ms/step - loss: 0.5838 - accuracy: 0.8054 - precision_20: 0.8554 - recall_20: 0.7186 - val_loss: 0.6433 - val_accuracy: 0.7944 - val_precision_20: 0.8623 - val_recall_20: 0.7123\n",
      "Epoch 5/10\n",
      "98/98 [==============================] - 2s 25ms/step - loss: 0.4922 - accuracy: 0.8320 - precision_20: 0.8811 - recall_20: 0.7733 - val_loss: 0.5699 - val_accuracy: 0.8160 - val_precision_20: 0.8642 - val_recall_20: 0.7649\n",
      "Epoch 6/10\n",
      "98/98 [==============================] - 2s 24ms/step - loss: 0.4722 - accuracy: 0.8388 - precision_20: 0.8815 - recall_20: 0.7912 - val_loss: 0.5642 - val_accuracy: 0.8123 - val_precision_20: 0.8497 - val_recall_20: 0.7575\n",
      "Epoch 7/10\n",
      "98/98 [==============================] - 2s 24ms/step - loss: 0.3990 - accuracy: 0.8678 - precision_20: 0.9025 - recall_20: 0.8214 - val_loss: 0.5301 - val_accuracy: 0.8237 - val_precision_20: 0.8498 - val_recall_20: 0.7915\n",
      "Epoch 8/10\n",
      "98/98 [==============================] - 2s 24ms/step - loss: 0.3396 - accuracy: 0.8887 - precision_20: 0.9110 - recall_20: 0.8605 - val_loss: 0.5173 - val_accuracy: 0.8444 - val_precision_20: 0.8679 - val_recall_20: 0.8139\n",
      "Epoch 9/10\n",
      "98/98 [==============================] - 2s 24ms/step - loss: 0.3113 - accuracy: 0.9024 - precision_20: 0.9223 - recall_20: 0.8787 - val_loss: 0.5366 - val_accuracy: 0.8332 - val_precision_20: 0.8539 - val_recall_20: 0.7997\n",
      "Epoch 10/10\n",
      "98/98 [==============================] - 2s 24ms/step - loss: 0.2818 - accuracy: 0.9104 - precision_20: 0.9271 - recall_20: 0.8923 - val_loss: 0.4308 - val_accuracy: 0.8707 - val_precision_20: 0.8864 - val_recall_20: 0.8575\n",
      "195/195 [==============================] - 3s 14ms/step - loss: 0.4308 - accuracy: 0.8707 - precision_20: 0.8864 - recall_20: 0.8575\n",
      "Model_1_Fold_2\n"
     ]
    }
   ],
   "source": [
    "best_model_history = None  # Keep track of the best model's history\n",
    "model_histories = []\n",
    "# Perform cross-validation\n",
    "models = [create_model_4, create_model_5]\n",
    "best_model = None\n",
    "num_folds = Parameters.number_folds\n",
    "tscv = TimeSeriesSplit(n_splits=num_folds)\n",
    "fold_acc_scores = []\n",
    "\n",
    "\n",
    "for i, (train, test) in enumerate(tscv.split(x_train)):\n",
    "    logging.info(f'Fold {i+1}')\n",
    "    train_x, train_y = x_train[train], y_train[train]\n",
    "    test_x, test_y = x_train[test], y_train[test]\n",
    "    \n",
    "    fold_histories = []\n",
    "\n",
    "    \n",
    "    for j, model_creator in enumerate(models):\n",
    "        print(f\"Model {model_creator.__name__}\")\n",
    "        model_name = f\"Model_{j+1}_Fold_{i+1}\"\n",
    "        model = model_creator(name=model_name)\n",
    "        logging.info(f'Model {j+1}')\n",
    "        history = model.fit(train_x, train_y, epochs=Parameters.epochs, batch_size=Parameters.batch_size, validation_data=(test_x, test_y), verbose=Parameters.verbosity)\n",
    "        test_loss, acc, prec, recal = model.evaluate(test_x, test_y, verbose=Parameters.verbosity)\n",
    "        logging.info(f'Validation accuracy: {acc}')\n",
    "        \n",
    "        fold_histories.append(history.history)\n",
    "        \n",
    "        for epoch in range(Parameters.epochs):\n",
    "            # Log accuracy after each epoch\n",
    "            acc_epoch = history.history['val_accuracy'][epoch]\n",
    "            logging.info(f'Epoch {epoch + 1}, Validation accuracy: {acc_epoch}')\n",
    "        fold_acc_scores.append((i, j, acc))\n",
    "        \n",
    "        if best_model_history is None or acc > best_model_acc:\n",
    "            best_model_history = history\n",
    "            best_model = model  # Store the trained model instance\n",
    "            best_model_acc = acc\n",
    "    \n",
    "    model_histories.append(fold_histories)\n",
    "\n",
    "# Find the best model\n",
    "best_model_index = np.argmax([score[2] for score in fold_acc_scores])\n",
    "best_fold_idx, best_model_idx, _ = max(fold_acc_scores, key=lambda x: x[2])\n",
    "best_model_history = model_histories[best_fold_idx][best_model_idx]\n",
    "print(best_model.name)"
   ]
  },
  {
   "cell_type": "code",
   "execution_count": 38,
   "metadata": {},
   "outputs": [
    {
     "name": "stdout",
     "output_type": "stream",
     "text": [
      "sequential_15\n"
     ]
    }
   ],
   "source": [
    "print(best_model.name)"
   ]
  },
  {
   "cell_type": "code",
   "execution_count": null,
   "metadata": {},
   "outputs": [
    {
     "name": "stdout",
     "output_type": "stream",
     "text": [
      "[1.0202075242996216, 0.49514561891555786, 0.36048176884651184, 0.27627015113830566, 0.24819490313529968, 0.20942606031894684, 0.18308234214782715, 0.16555391252040863, 0.17524702847003937, 0.13404244184494019]\n"
     ]
    },
    {
     "data": {
      "image/png": "[encoded data removed]",
      "text/plain": [
       "<Figure size 640x480 with 1 Axes>"
      ]
     },
     "metadata": {},
     "output_type": "display_data"
    },
    {
     "data": {
      "image/png": "[encoded data removed]",
      "text/plain": [
       "<Figure size 640x480 with 1 Axes>"
      ]
     },
     "metadata": {},
     "output_type": "display_data"
    }
   ],
   "source": [
    "\n",
    "import matplotlib.pyplot as plt\n",
    "import numpy as np\n",
    "\n",
    "print(best_model_history['loss'])\n",
    "# summarize history for accuracy\n",
    "plt.plot(best_model_history['accuracy'])\n",
    "plt.plot(best_model_history['val_accuracy'])\n",
    "plt.title('model accuracy')\n",
    "plt.ylabel('accuracy')\n",
    "plt.xlabel('epoch')\n",
    "plt.legend(['train', 'test'], loc='upper left')\n",
    "plt.show()\n",
    "# summarize history for loss\n",
    "plt.plot(best_model_history['loss'])\n",
    "plt.plot(best_model_history['val_loss'])\n",
    "plt.title('model loss')\n",
    "plt.ylabel('loss')\n",
    "plt.xlabel('epoch')\n",
    "plt.legend(['train', 'test'], loc='upper left')\n",
    "plt.show()"
   ]
  },
  {
   "cell_type": "code",
   "execution_count": 41,
   "metadata": {},
   "outputs": [
    {
     "name": "stdout",
     "output_type": "stream",
     "text": [
      "147/147 [==============================] - 3s 16ms/step\n"
     ]
    },
    {
     "data": {
      "image/png": "[encoded data removed]",
      "text/plain": [
       "<Figure size 640x480 with 2 Axes>"
      ]
     },
     "metadata": {},
     "output_type": "display_data"
    },
    {
     "data": {
      "text/plain": [
       "array([0.95125914, 0.97849462, 0.9843318 , 0.95123901, 0.88204225,\n",
       "       0.93561532])"
      ]
     },
     "metadata": {},
     "output_type": "display_data"
    }
   ],
   "source": [
    "from sklearn.metrics import confusion_matrix, ConfusionMatrixDisplay\n",
    "import matplotlib.pyplot as plt\n",
    "#for multiclass classification\n",
    "y_pred = best_model.predict(x_test)\n",
    "y_test_labels = y_test.argmax(axis=1)\n",
    "y_pred_labels = y_pred.argmax(axis=1)\n",
    "\n",
    "cm = confusion_matrix(y_test_labels, y_pred_labels)\n",
    "disp = ConfusionMatrixDisplay(confusion_matrix=cm, display_labels=le.classes_)\n",
    "# get f1 score of each class\n",
    "from sklearn.metrics import f1_score\n",
    "f1 = f1_score(y_test_labels, y_pred_labels, average=None)\n",
    "# get f1 score of each class\n",
    "\n",
    "disp.plot()\n",
    "plt.show()\n",
    "display(f1)"
   ]
  },
  {
   "cell_type": "code",
   "execution_count": 42,
   "metadata": {},
   "outputs": [],
   "source": [
    "df_etienne = pd.read_csv(\"Eitenne_Messungen_Laufen.csv\")\n",
    "df_etienne = df_etienne.drop(columns=[\"id\", \"user\", \"id_combined\"])\n",
    "# convert the string time column to datetime\n",
    "epoch = pd.Timestamp('1970-01-01')\n",
    "df_etienne['time'] = pd.to_datetime(df_etienne['time'])\n",
    "df_etienne['time'] = (df_etienne['time'] - epoch).apply(lambda x: int(x.total_seconds() * 1000))\n",
    "df_etienne.drop(['Unnamed: 0'], axis=1, inplace=True)\n",
    "# get all types of the df\n",
    "le = LabelEncoder()\n",
    "df_etienne[\"class\"] = le.fit_transform(df_etienne[\"class\"])"
   ]
  },
  {
   "cell_type": "code",
   "execution_count": null,
   "metadata": {},
   "outputs": [],
   "source": [
    "le.classes_"
   ]
  },
  {
   "cell_type": "code",
   "execution_count": 43,
   "metadata": {},
   "outputs": [
    {
     "name": "stdout",
     "output_type": "stream",
     "text": [
      "2/2 [==============================] - 0s 129ms/step\n",
      "Class 0 count: 27\n",
      "Class 1 count: 0\n",
      "Class 2 count: 0\n",
      "Class 3 count: 0\n",
      "Class 4 count: 11\n"
     ]
    }
   ],
   "source": [
    "# Set the window size and step size\n",
    "window_size = 300\n",
    "step_size = 100\n",
    "\n",
    "# Reshape X to 2D format (samples, features)\n",
    "X = df_etienne.values[:, 1:13]\n",
    "\n",
    "# Create a sliding window of X with the specified window and step sizes\n",
    "X_windows = np.array([X[i:i+window_size,:] for i in range(0,X.shape[0]-window_size+1,step_size)])\n",
    "\n",
    "# Reshape X_windows to 3D format (samples, timesteps, features)\n",
    "timesteps = X_windows.shape[1]\n",
    "n_features = X_windows.shape[2]\n",
    "X_windows = X_windows.reshape(-1, timesteps, n_features)\n",
    "\n",
    "y_pred_probs = best_model.predict(X_windows)\n",
    "\n",
    "# Get the predicted class labels for each input window\n",
    "y_pred_labels = np.argmax(y_pred_probs, axis=1)\n",
    "\n",
    "# Print the predicted class labels\n",
    "# get the median of the predicted labels\n",
    "sol = np.median(y_pred_labels)\n",
    "\n",
    "class_counts = np.bincount(y_pred_labels)\n",
    "for i, count in enumerate(class_counts):\n",
    "    print(f\"Class {i} count: {count}\")\n"
   ]
  },
  {
   "cell_type": "code",
   "execution_count": 49,
   "metadata": {},
   "outputs": [
    {
     "ename": "NameError",
     "evalue": "name 'json' is not defined",
     "output_type": "error",
     "traceback": [
      "\u001b[0;31m---------------------------------------------------------------------------\u001b[0m",
      "\u001b[0;31mNameError\u001b[0m                                 Traceback (most recent call last)",
      "Cell \u001b[0;32mIn[49], line 15\u001b[0m\n\u001b[1;32m     13\u001b[0m weights_as_list \u001b[39m=\u001b[39m [w\u001b[39m.\u001b[39mtolist() \u001b[39mfor\u001b[39;00m w \u001b[39min\u001b[39;00m weights]\n\u001b[1;32m     14\u001b[0m \u001b[39mwith\u001b[39;00m \u001b[39mopen\u001b[39m(\u001b[39m\"\u001b[39m\u001b[39mweights.json\u001b[39m\u001b[39m\"\u001b[39m, \u001b[39m\"\u001b[39m\u001b[39mw\u001b[39m\u001b[39m\"\u001b[39m) \u001b[39mas\u001b[39;00m f:\n\u001b[0;32m---> 15\u001b[0m     json\u001b[39m.\u001b[39mdump(weights_as_list, f)\n",
      "\u001b[0;31mNameError\u001b[0m: name 'json' is not defined"
     ]
    }
   ],
   "source": [
    "# export Model to json Tensorflow file\n",
    "import json\n",
    "best_model.save('saved_model/sensor_model.h5')\n",
    "\n",
    "model = tf.keras.models.load_model('saved_model/sensor_model.h5')\n",
    "\n",
    "# Save model architecture to JSON\n",
    "model_json = model.to_json()\n",
    "with open(\"model.json\", \"w\") as json_file:\n",
    "    json_file.write(model_json)\n",
    "\n",
    "# Save model weights to a JSON file\n",
    "weights = model.get_weights()\n",
    "weights_as_list = [w.tolist() for w in weights]\n",
    "with open(\"weights.json\", \"w\") as f:\n",
    "    json.dump(weights_as_list, f)\n"
   ]
  }
 ],
 "metadata": {
  "kernelspec": {
   "display_name": "Python 3",
   "language": "python",
   "name": "python3"
  },
  "language_info": {
   "codemirror_mode": {
    "name": "ipython",
    "version": 3
   },
   "file_extension": ".py",
   "mimetype": "text/x-python",
   "name": "python",
   "nbconvert_exporter": "python",
   "pygments_lexer": "ipython3",
   "version": "3.9.7"
  },
  "orig_nbformat": 4
 },
 "nbformat": 4,
 "nbformat_minor": 2
}
