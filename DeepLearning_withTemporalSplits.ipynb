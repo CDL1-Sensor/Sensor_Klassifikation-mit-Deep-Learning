{
 "cells": [
  {
   "cell_type": "code",
   "execution_count": 1,
   "metadata": {},
   "outputs": [
    {
     "name": "stdout",
     "output_type": "stream",
     "text": [
      "[PhysicalDevice(name='/physical_device:CPU:0', device_type='CPU')]\n"
     ]
    }
   ],
   "source": [
    "import tensorflow as tf\n",
    "from sklearn.model_selection import KFold\n",
    "import numpy as np\n",
    "import logging\n",
    "from datetime import datetime\n",
    "import dataclasses\n",
    "import pandas as pd\n",
    "import tensorflow as tf\n",
    "from sklearn.preprocessing import LabelEncoder\n",
    "from sklearn import model_selection as ms\n",
    "from sklearn.model_selection import train_test_split, TimeSeriesSplit\n",
    "from keras.utils import to_categorical\n",
    "from sklearn.model_selection import train_test_split\n",
    "from keras.utils import to_categorical\n",
    "import os\n",
    "from tensorflow.keras.callbacks import TensorBoard\n",
    "\n",
    "tf.debugging.set_log_device_placement(False)\n",
    "\n",
    "# datetime as filename for logging\n",
    "now = datetime.now()\n",
    "date_time_string = now.strftime(\"%Y-%m-%d_%H-%M-%S\")\n",
    "\n",
    "logging.basicConfig(level=logging.INFO, filename = f\"{date_time_string}.txt\", filemode='a')\n",
    "print(tf.config.list_physical_devices())"
   ]
  },
  {
   "cell_type": "code",
   "execution_count": 2,
   "metadata": {},
   "outputs": [],
   "source": [
    "from dataclasses import dataclass\n",
    "# Static Parameters\n",
    "@dataclass\n",
    "class Parameters():\n",
    "    batch_size: int = 128\n",
    "    epochs: int = 2\n",
    "    verbosity: str = \"auto\"\n",
    "    step_size: int = 374\n",
    "    number_folds: int = 2\n",
    "    output_size: int = 6"
   ]
  },
  {
   "cell_type": "code",
   "execution_count": 3,
   "metadata": {},
   "outputs": [
    {
     "data": {
      "text/html": [
       "<div>\n",
       "<style scoped>\n",
       "    .dataframe tbody tr th:only-of-type {\n",
       "        vertical-align: middle;\n",
       "    }\n",
       "\n",
       "    .dataframe tbody tr th {\n",
       "        vertical-align: top;\n",
       "    }\n",
       "\n",
       "    .dataframe thead th {\n",
       "        text-align: right;\n",
       "    }\n",
       "</style>\n",
       "<table border=\"1\" class=\"dataframe\">\n",
       "  <thead>\n",
       "    <tr style=\"text-align: right;\">\n",
       "      <th></th>\n",
       "      <th>Unnamed: 0</th>\n",
       "      <th>time</th>\n",
       "      <th>Accelerometer_x</th>\n",
       "      <th>Accelerometer_y</th>\n",
       "      <th>Accelerometer_z</th>\n",
       "      <th>Gyroscope_x</th>\n",
       "      <th>Gyroscope_y</th>\n",
       "      <th>Gyroscope_z</th>\n",
       "      <th>Magnetometer_x</th>\n",
       "      <th>Magnetometer_y</th>\n",
       "      <th>Magnetometer_z</th>\n",
       "      <th>Orientation_qx</th>\n",
       "      <th>Orientation_qy</th>\n",
       "      <th>Orientation_qz</th>\n",
       "      <th>id</th>\n",
       "      <th>user</th>\n",
       "      <th>class</th>\n",
       "      <th>id_combined</th>\n",
       "    </tr>\n",
       "  </thead>\n",
       "  <tbody>\n",
       "    <tr>\n",
       "      <th>0</th>\n",
       "      <td>1</td>\n",
       "      <td>2023-02-27 15:02:17.156</td>\n",
       "      <td>0.0</td>\n",
       "      <td>9.722</td>\n",
       "      <td>1.278</td>\n",
       "      <td>0.0</td>\n",
       "      <td>0.0</td>\n",
       "      <td>0.0</td>\n",
       "      <td>0.0</td>\n",
       "      <td>0.0</td>\n",
       "      <td>0.0</td>\n",
       "      <td>-0.21775</td>\n",
       "      <td>-0.719579</td>\n",
       "      <td>0.631111</td>\n",
       "      <td>01_SamsungA22-2023-02-27_15-02-03</td>\n",
       "      <td>Ben_Tran</td>\n",
       "      <td>Laufen</td>\n",
       "      <td>01_SamsungA22-2023-02-27_15-02-03Ben_TranLaufen</td>\n",
       "    </tr>\n",
       "  </tbody>\n",
       "</table>\n",
       "</div>"
      ],
      "text/plain": [
       "   Unnamed: 0                     time  Accelerometer_x  Accelerometer_y  \\\n",
       "0           1  2023-02-27 15:02:17.156              0.0            9.722   \n",
       "\n",
       "   Accelerometer_z  Gyroscope_x  Gyroscope_y  Gyroscope_z  Magnetometer_x  \\\n",
       "0            1.278          0.0          0.0          0.0             0.0   \n",
       "\n",
       "   Magnetometer_y  Magnetometer_z  Orientation_qx  Orientation_qy  \\\n",
       "0             0.0             0.0        -0.21775       -0.719579   \n",
       "\n",
       "   Orientation_qz                                 id      user   class  \\\n",
       "0        0.631111  01_SamsungA22-2023-02-27_15-02-03  Ben_Tran  Laufen   \n",
       "\n",
       "                                       id_combined  \n",
       "0  01_SamsungA22-2023-02-27_15-02-03Ben_TranLaufen  "
      ]
     },
     "execution_count": 3,
     "metadata": {},
     "output_type": "execute_result"
    }
   ],
   "source": [
    "df = pd.read_csv(\"Alle_Messungen_trimmed.csv\") \n",
    "df.head(1)"
   ]
  },
  {
   "cell_type": "code",
   "execution_count": 4,
   "metadata": {},
   "outputs": [],
   "source": [
    "# convert the string time column to datetime\n",
    "epoch = pd.Timestamp('1970-01-01')\n",
    "\n",
    "df['time'] = pd.to_datetime(df['time'])\n",
    "df['time'] = (df['time'] - epoch).apply(lambda x: int(x.total_seconds() * 1000))"
   ]
  },
  {
   "cell_type": "code",
   "execution_count": 5,
   "metadata": {},
   "outputs": [],
   "source": [
    "df = df.drop(columns=[\"id\", \"user\", \"id_combined\"])\n",
    "df.drop(['Unnamed: 0'], axis=1, inplace=True)\n",
    "# get all types of the df\n",
    "le = LabelEncoder()\n",
    "df[\"class\"] = le.fit_transform(df[\"class\"])"
   ]
  },
  {
   "cell_type": "code",
   "execution_count": 6,
   "metadata": {},
   "outputs": [],
   "source": [
    "# Set the window size and step size\n",
    "window_size = 300\n",
    "step_size = 100\n",
    "\n",
    "# Reshape X to 2D format (samples, features)\n",
    "X = df.values[:, 1:13]\n",
    "\n",
    "# Define y\n",
    "y = df[\"class\"].values\n",
    "\n",
    "# Create a sliding window of X with the specified window and step sizes\n",
    "X_windows = np.array([X[i:i+window_size,:] for i in range(0,X.shape[0]-window_size+1,step_size)])\n",
    "\n",
    "# Reshape X_windows to 3D format (samples, timesteps, features)\n",
    "timesteps = X_windows.shape[1]\n",
    "n_features = X_windows.shape[2]\n",
    "X_windows = X_windows.reshape(-1, timesteps, n_features)\n",
    "\n",
    "# Create the corresponding y labels for the sliding windows\n",
    "y_windows = np.array([y[i+window_size-1] for i in range(0,X.shape[0]-window_size+1,step_size)])\n",
    "y_windows = to_categorical(y_windows, num_classes=6)\n",
    "\n",
    "# Split the dataset into training and testing sets\n",
    "X_train, X_test, y_train, y_test = train_test_split(X_windows, y_windows, test_size=0.2, random_state=42, stratify=y_windows)\n"
   ]
  },
  {
   "cell_type": "code",
   "execution_count": null,
   "metadata": {},
   "outputs": [],
   "source": []
  },
  {
   "cell_type": "code",
   "execution_count": 7,
   "metadata": {},
   "outputs": [
    {
     "data": {
      "text/plain": [
       "((2497481, 12),\n",
       " (2497481,),\n",
       " (19977, 300, 12),\n",
       " (19977, 6),\n",
       " (4995, 300, 12),\n",
       " (4995, 6))"
      ]
     },
     "execution_count": 7,
     "metadata": {},
     "output_type": "execute_result"
    }
   ],
   "source": [
    "X.shape, y.shape, X_train.shape, y_train.shape, X_test.shape, y_test.shape"
   ]
  },
  {
   "cell_type": "code",
   "execution_count": 8,
   "metadata": {},
   "outputs": [],
   "source": [
    "x_train = X_train\n",
    "x_test = X_test\n",
    "y_train = y_train\n",
    "y_test = y_test"
   ]
  },
  {
   "cell_type": "code",
   "execution_count": 9,
   "metadata": {},
   "outputs": [],
   "source": [
    "# Something like this as first Model\n",
    "def create_model_1():\n",
    "    model = tf.keras.Sequential([\n",
    "            tf.keras.layers.Dense(16, activation='relu', input_shape=(12,)),\n",
    "            tf.keras.layers.Dropout(0.5),\n",
    "            tf.keras.layers.Dense(8, activation='relu', input_shape=(12,)),\n",
    "            tf.keras.layers.Dense(6, activation='softmax')\n",
    "    ])\n",
    "    model.compile(optimizer='adam', loss=tf.keras.losses.SparseCategoricalCrossentropy(from_logits=False), metrics=['accuracy'])\n",
    "    return model\n",
    "\n",
    "\n",
    "# Something like this as second Model\n",
    "def create_model_2():\n",
    "    model = tf.keras.Sequential([\n",
    "        tf.keras.layers.Reshape((-1, 12), input_shape=(12,)),\n",
    "        tf.keras.layers.Conv1D(32, 5, strides=2, padding='same', activation='relu'),\n",
    "        tf.keras.layers.Conv1D(16, 3, strides=2, padding='same', activation='relu'),\n",
    "        tf.keras.layers.Flatten(),\n",
    "        tf.keras.layers.Dense(6, activation='softmax')\n",
    "    ])\n",
    "    model.compile(optimizer='adam', loss=tf.keras.losses.SparseCategoricalCrossentropy(from_logits=False), metrics=['accuracy'])\n",
    "    return model\n",
    "\n",
    "# Something like this as Third Model\n",
    "def create_model_3():\n",
    "    model = tf.keras.Sequential([\n",
    "        tf.keras.layers.Reshape((-1, 12), input_shape=(12,)),\n",
    "        tf.keras.layers.Conv1D(32, 5, strides=2, padding='same', activation='relu'),\n",
    "        tf.keras.layers.Conv1D(16, 3, strides=2, padding='same', activation='relu'),\n",
    "        tf.keras.layers.Flatten(),\n",
    "        tf.keras.layers.Dense(6, activation='softmax')\n",
    "    ])\n",
    "    model.compile(optimizer='adam', loss=tf.keras.losses.SparseCategoricalCrossentropy(from_logits=False), metrics=['accuracy'])\n",
    "    return model\n",
    "\n",
    "def create_model_4():\n",
    "    model = tf.keras.Sequential([\n",
    "        # Add a 1D convolutional layer\n",
    "        tf.keras.layers.Conv1D(filters=64, kernel_size=2, activation='relu', padding='same', input_shape=(timesteps, n_features)),\n",
    "        \n",
    "        # Add LSTM layer\n",
    "        tf.keras.layers.LSTM(100),\n",
    "\n",
    "        # Add a dense output layer\n",
    "        tf.keras.layers.Dense(6, activation='softmax')  # Change activation function based on the nature of the output\n",
    "    ])\n",
    "    model.compile(optimizer='adam',   loss='categorical_crossentropy', metrics=['accuracy', tf.keras.metrics.Precision(), tf.keras.metrics.Recall()])  \n",
    "    return model"
   ]
  },
  {
   "cell_type": "code",
   "execution_count": 10,
   "metadata": {},
   "outputs": [
    {
     "name": "stdout",
     "output_type": "stream",
     "text": [
      "Epoch 1/2\n",
      "53/53 [==============================] - 99s 2s/step - loss: 1.2256 - accuracy: 0.5544 - precision: 0.7795 - recall: 0.2575 - val_loss: 0.9379 - val_accuracy: 0.6914 - val_precision: 0.8556 - val_recall: 0.4609\n",
      "Epoch 2/2\n",
      "53/53 [==============================] - 102s 2s/step - loss: 0.7577 - accuracy: 0.7488 - precision: 0.8810 - recall: 0.6023 - val_loss: 0.6811 - val_accuracy: 0.7650 - val_precision: 0.8490 - val_recall: 0.6381\n",
      "209/209 [==============================] - 14s 68ms/step - loss: 0.6811 - accuracy: 0.7650 - precision: 0.8490 - recall: 0.6381\n",
      "Epoch 1/2\n",
      "105/105 [==============================] - 180s 2s/step - loss: 1.0152 - accuracy: 0.6407 - precision_1: 0.8546 - recall_1: 0.4015 - val_loss: 0.6623 - val_accuracy: 0.7791 - val_precision_1: 0.8731 - val_recall_1: 0.6746\n",
      "Epoch 2/2\n",
      "105/105 [==============================] - 174s 2s/step - loss: 0.5458 - accuracy: 0.8231 - precision_1: 0.8922 - recall_1: 0.7364 - val_loss: 0.4230 - val_accuracy: 0.8730 - val_precision_1: 0.9122 - val_recall_1: 0.8290\n",
      "209/209 [==============================] - 12s 55ms/step - loss: 0.4230 - accuracy: 0.8730 - precision_1: 0.9122 - recall_1: 0.8290\n"
     ]
    }
   ],
   "source": [
    "best_model_history = None  # Keep track of the best model's history\n",
    "model_histories = []\n",
    "# Perform cross-validation\n",
    "models = [create_model_4]\n",
    "best_model = None\n",
    "num_folds = Parameters.number_folds\n",
    "tscv = TimeSeriesSplit(n_splits=num_folds)\n",
    "fold_acc_scores = []\n",
    "\n",
    "\n",
    "for i, (train, test) in enumerate(tscv.split(x_train)):\n",
    "    logging.info(f'Fold {i+1}')\n",
    "    train_x, train_y = x_train[train], y_train[train]\n",
    "    test_x, test_y = x_train[test], y_train[test]\n",
    "    \n",
    "    fold_histories = []\n",
    "\n",
    "    \n",
    "    for j, model_creator in enumerate(models):\n",
    "        model = model_creator()\n",
    "        logging.info(f'Model {j+1}')\n",
    "        history = model.fit(train_x, train_y, epochs=Parameters.epochs, batch_size=Parameters.batch_size, validation_data=(test_x, test_y), verbose=Parameters.verbosity)\n",
    "        test_loss, acc, prec, recal = model.evaluate(test_x, test_y, verbose=Parameters.verbosity)\n",
    "        logging.info(f'Validation accuracy: {acc}')\n",
    "        \n",
    "        fold_histories.append(history.history)\n",
    "        \n",
    "        for epoch in range(Parameters.epochs):\n",
    "            # Log accuracy after each epoch\n",
    "            acc_epoch = history.history['val_accuracy'][epoch]\n",
    "            logging.info(f'Epoch {epoch + 1}, Validation accuracy: {acc_epoch}')\n",
    "        fold_acc_scores.append((i, j, acc))\n",
    "        \n",
    "        if best_model_history is None or acc > best_model_acc:\n",
    "            best_model_history = history\n",
    "            best_model = model  # Store the trained model instance\n",
    "            best_model_acc = acc\n",
    "    \n",
    "    model_histories.append(fold_histories)\n",
    "\n",
    "# Find the best model\n",
    "best_model_index = np.argmax([score[2] for score in fold_acc_scores])\n",
    "best_fold_idx, best_model_idx, _ = max(fold_acc_scores, key=lambda x: x[2])\n",
    "best_model_history = model_histories[best_fold_idx][best_model_idx]"
   ]
  },
  {
   "cell_type": "code",
   "execution_count": null,
   "metadata": {},
   "outputs": [
    {
     "name": "stdout",
     "output_type": "stream",
     "text": [
      "[1.015231728553772, 0.5458211302757263]\n"
     ]
    },
    {
     "data": {
      "image/png": "[encoded data removed]",
      "text/plain": [
       "<Figure size 640x480 with 1 Axes>"
      ]
     },
     "metadata": {},
     "output_type": "display_data"
    },
    {
     "data": {
      "image/png": "[encoded data removed]",
      "text/plain": [
       "<Figure size 640x480 with 1 Axes>"
      ]
     },
     "metadata": {},
     "output_type": "display_data"
    }
   ],
   "source": [
    "\n",
    "import matplotlib.pyplot as plt\n",
    "import numpy as np\n",
    "\n",
    "print(best_model_history['loss'])\n",
    "# summarize history for accuracy\n",
    "plt.plot(best_model_history['accuracy'])\n",
    "plt.plot(best_model_history['val_accuracy'])\n",
    "plt.title('model accuracy')\n",
    "plt.ylabel('accuracy')\n",
    "plt.xlabel('epoch')\n",
    "plt.legend(['train', 'test'], loc='upper left')\n",
    "plt.show()\n",
    "# summarize history for loss\n",
    "plt.plot(best_model_history['loss'])\n",
    "plt.plot(best_model_history['val_loss'])\n",
    "plt.title('model loss')\n",
    "plt.ylabel('loss')\n",
    "plt.xlabel('epoch')\n",
    "plt.legend(['train', 'test'], loc='upper left')\n",
    "plt.show()"
   ]
  },
  {
   "cell_type": "code",
   "execution_count": 12,
   "metadata": {},
   "outputs": [],
   "source": [
    "df_yvo = pd.read_csv(\"Yvo_Messung_Velo.csv\")\n",
    "df_yvo = df_yvo.drop(columns=[\"id\", \"user\", \"id_combined\"])\n",
    "# convert the string time column to datetime\n",
    "epoch = pd.Timestamp('1970-01-01')\n",
    "df_yvo['time'] = pd.to_datetime(df_yvo['time'])\n",
    "df_yvo['time'] = (df_yvo['time'] - epoch).apply(lambda x: int(x.total_seconds() * 1000))\n",
    "df_yvo.drop(['Unnamed: 0'], axis=1, inplace=True)\n",
    "# get all types of the df\n",
    "le = LabelEncoder()\n",
    "df_yvo[\"class\"] = le.fit_transform(df_yvo[\"class\"])"
   ]
  },
  {
   "cell_type": "code",
   "execution_count": 13,
   "metadata": {},
   "outputs": [
    {
     "name": "stdout",
     "output_type": "stream",
     "text": [
      " 170/1944 [=>............................] - ETA: 1:29"
     ]
    },
    {
     "ename": "KeyboardInterrupt",
     "evalue": "",
     "output_type": "error",
     "traceback": [
      "\u001b[1;31m---------------------------------------------------------------------------\u001b[0m",
      "\u001b[1;31mKeyboardInterrupt\u001b[0m                         Traceback (most recent call last)",
      "Cell \u001b[1;32mIn[13], line 16\u001b[0m\n\u001b[0;32m     13\u001b[0m n_features \u001b[39m=\u001b[39m X_windows\u001b[39m.\u001b[39mshape[\u001b[39m2\u001b[39m]\n\u001b[0;32m     14\u001b[0m X_windows \u001b[39m=\u001b[39m X_windows\u001b[39m.\u001b[39mreshape(\u001b[39m-\u001b[39m\u001b[39m1\u001b[39m, timesteps, n_features)\n\u001b[1;32m---> 16\u001b[0m y_pred_probs \u001b[39m=\u001b[39m best_model\u001b[39m.\u001b[39;49mpredict(X_windows)\n\u001b[0;32m     18\u001b[0m \u001b[39m# Get the predicted class labels for each input window\u001b[39;00m\n\u001b[0;32m     19\u001b[0m y_pred_labels \u001b[39m=\u001b[39m np\u001b[39m.\u001b[39margmax(y_pred_probs, axis\u001b[39m=\u001b[39m\u001b[39m1\u001b[39m)\n",
      "File \u001b[1;32m~\\AppData\\Roaming\\Python\\Python311\\site-packages\\keras\\utils\\traceback_utils.py:65\u001b[0m, in \u001b[0;36mfilter_traceback.<locals>.error_handler\u001b[1;34m(*args, **kwargs)\u001b[0m\n\u001b[0;32m     63\u001b[0m filtered_tb \u001b[39m=\u001b[39m \u001b[39mNone\u001b[39;00m\n\u001b[0;32m     64\u001b[0m \u001b[39mtry\u001b[39;00m:\n\u001b[1;32m---> 65\u001b[0m     \u001b[39mreturn\u001b[39;00m fn(\u001b[39m*\u001b[39;49margs, \u001b[39m*\u001b[39;49m\u001b[39m*\u001b[39;49mkwargs)\n\u001b[0;32m     66\u001b[0m \u001b[39mexcept\u001b[39;00m \u001b[39mException\u001b[39;00m \u001b[39mas\u001b[39;00m e:\n\u001b[0;32m     67\u001b[0m     filtered_tb \u001b[39m=\u001b[39m _process_traceback_frames(e\u001b[39m.\u001b[39m__traceback__)\n",
      "File \u001b[1;32m~\\AppData\\Roaming\\Python\\Python311\\site-packages\\keras\\engine\\training.py:2382\u001b[0m, in \u001b[0;36mModel.predict\u001b[1;34m(self, x, batch_size, verbose, steps, callbacks, max_queue_size, workers, use_multiprocessing)\u001b[0m\n\u001b[0;32m   2380\u001b[0m \u001b[39mfor\u001b[39;00m step \u001b[39min\u001b[39;00m data_handler\u001b[39m.\u001b[39msteps():\n\u001b[0;32m   2381\u001b[0m     callbacks\u001b[39m.\u001b[39mon_predict_batch_begin(step)\n\u001b[1;32m-> 2382\u001b[0m     tmp_batch_outputs \u001b[39m=\u001b[39m \u001b[39mself\u001b[39;49m\u001b[39m.\u001b[39;49mpredict_function(iterator)\n\u001b[0;32m   2383\u001b[0m     \u001b[39mif\u001b[39;00m data_handler\u001b[39m.\u001b[39mshould_sync:\n\u001b[0;32m   2384\u001b[0m         context\u001b[39m.\u001b[39masync_wait()\n",
      "File \u001b[1;32m~\\AppData\\Roaming\\Python\\Python311\\site-packages\\tensorflow\\python\\util\\traceback_utils.py:150\u001b[0m, in \u001b[0;36mfilter_traceback.<locals>.error_handler\u001b[1;34m(*args, **kwargs)\u001b[0m\n\u001b[0;32m    148\u001b[0m filtered_tb \u001b[39m=\u001b[39m \u001b[39mNone\u001b[39;00m\n\u001b[0;32m    149\u001b[0m \u001b[39mtry\u001b[39;00m:\n\u001b[1;32m--> 150\u001b[0m   \u001b[39mreturn\u001b[39;00m fn(\u001b[39m*\u001b[39;49margs, \u001b[39m*\u001b[39;49m\u001b[39m*\u001b[39;49mkwargs)\n\u001b[0;32m    151\u001b[0m \u001b[39mexcept\u001b[39;00m \u001b[39mException\u001b[39;00m \u001b[39mas\u001b[39;00m e:\n\u001b[0;32m    152\u001b[0m   filtered_tb \u001b[39m=\u001b[39m _process_traceback_frames(e\u001b[39m.\u001b[39m__traceback__)\n",
      "File \u001b[1;32m~\\AppData\\Roaming\\Python\\Python311\\site-packages\\tensorflow\\python\\eager\\polymorphic_function\\polymorphic_function.py:894\u001b[0m, in \u001b[0;36mFunction.__call__\u001b[1;34m(self, *args, **kwds)\u001b[0m\n\u001b[0;32m    891\u001b[0m compiler \u001b[39m=\u001b[39m \u001b[39m\"\u001b[39m\u001b[39mxla\u001b[39m\u001b[39m\"\u001b[39m \u001b[39mif\u001b[39;00m \u001b[39mself\u001b[39m\u001b[39m.\u001b[39m_jit_compile \u001b[39melse\u001b[39;00m \u001b[39m\"\u001b[39m\u001b[39mnonXla\u001b[39m\u001b[39m\"\u001b[39m\n\u001b[0;32m    893\u001b[0m \u001b[39mwith\u001b[39;00m OptionalXlaContext(\u001b[39mself\u001b[39m\u001b[39m.\u001b[39m_jit_compile):\n\u001b[1;32m--> 894\u001b[0m   result \u001b[39m=\u001b[39m \u001b[39mself\u001b[39;49m\u001b[39m.\u001b[39;49m_call(\u001b[39m*\u001b[39;49margs, \u001b[39m*\u001b[39;49m\u001b[39m*\u001b[39;49mkwds)\n\u001b[0;32m    896\u001b[0m new_tracing_count \u001b[39m=\u001b[39m \u001b[39mself\u001b[39m\u001b[39m.\u001b[39mexperimental_get_tracing_count()\n\u001b[0;32m    897\u001b[0m without_tracing \u001b[39m=\u001b[39m (tracing_count \u001b[39m==\u001b[39m new_tracing_count)\n",
      "File \u001b[1;32m~\\AppData\\Roaming\\Python\\Python311\\site-packages\\tensorflow\\python\\eager\\polymorphic_function\\polymorphic_function.py:933\u001b[0m, in \u001b[0;36mFunction._call\u001b[1;34m(self, *args, **kwds)\u001b[0m\n\u001b[0;32m    930\u001b[0m \u001b[39mself\u001b[39m\u001b[39m.\u001b[39m_lock\u001b[39m.\u001b[39mrelease()\n\u001b[0;32m    931\u001b[0m \u001b[39m# In this case we have not created variables on the first call. So we can\u001b[39;00m\n\u001b[0;32m    932\u001b[0m \u001b[39m# run the first trace but we should fail if variables are created.\u001b[39;00m\n\u001b[1;32m--> 933\u001b[0m results \u001b[39m=\u001b[39m \u001b[39mself\u001b[39;49m\u001b[39m.\u001b[39;49m_variable_creation_fn(\u001b[39m*\u001b[39;49margs, \u001b[39m*\u001b[39;49m\u001b[39m*\u001b[39;49mkwds)\n\u001b[0;32m    934\u001b[0m \u001b[39mif\u001b[39;00m \u001b[39mself\u001b[39m\u001b[39m.\u001b[39m_created_variables \u001b[39mand\u001b[39;00m \u001b[39mnot\u001b[39;00m ALLOW_DYNAMIC_VARIABLE_CREATION:\n\u001b[0;32m    935\u001b[0m   \u001b[39mraise\u001b[39;00m \u001b[39mValueError\u001b[39;00m(\u001b[39m\"\u001b[39m\u001b[39mCreating variables on a non-first call to a function\u001b[39m\u001b[39m\"\u001b[39m\n\u001b[0;32m    936\u001b[0m                    \u001b[39m\"\u001b[39m\u001b[39m decorated with tf.function.\u001b[39m\u001b[39m\"\u001b[39m)\n",
      "File \u001b[1;32m~\\AppData\\Roaming\\Python\\Python311\\site-packages\\tensorflow\\python\\eager\\polymorphic_function\\tracing_compiler.py:143\u001b[0m, in \u001b[0;36mTracingCompiler.__call__\u001b[1;34m(self, *args, **kwargs)\u001b[0m\n\u001b[0;32m    140\u001b[0m \u001b[39mwith\u001b[39;00m \u001b[39mself\u001b[39m\u001b[39m.\u001b[39m_lock:\n\u001b[0;32m    141\u001b[0m   (concrete_function,\n\u001b[0;32m    142\u001b[0m    filtered_flat_args) \u001b[39m=\u001b[39m \u001b[39mself\u001b[39m\u001b[39m.\u001b[39m_maybe_define_function(args, kwargs)\n\u001b[1;32m--> 143\u001b[0m \u001b[39mreturn\u001b[39;00m concrete_function\u001b[39m.\u001b[39;49m_call_flat(\n\u001b[0;32m    144\u001b[0m     filtered_flat_args, captured_inputs\u001b[39m=\u001b[39;49mconcrete_function\u001b[39m.\u001b[39;49mcaptured_inputs)\n",
      "File \u001b[1;32m~\\AppData\\Roaming\\Python\\Python311\\site-packages\\tensorflow\\python\\eager\\polymorphic_function\\monomorphic_function.py:1757\u001b[0m, in \u001b[0;36mConcreteFunction._call_flat\u001b[1;34m(self, args, captured_inputs, cancellation_manager)\u001b[0m\n\u001b[0;32m   1753\u001b[0m possible_gradient_type \u001b[39m=\u001b[39m gradients_util\u001b[39m.\u001b[39mPossibleTapeGradientTypes(args)\n\u001b[0;32m   1754\u001b[0m \u001b[39mif\u001b[39;00m (possible_gradient_type \u001b[39m==\u001b[39m gradients_util\u001b[39m.\u001b[39mPOSSIBLE_GRADIENT_TYPES_NONE\n\u001b[0;32m   1755\u001b[0m     \u001b[39mand\u001b[39;00m executing_eagerly):\n\u001b[0;32m   1756\u001b[0m   \u001b[39m# No tape is watching; skip to running the function.\u001b[39;00m\n\u001b[1;32m-> 1757\u001b[0m   \u001b[39mreturn\u001b[39;00m \u001b[39mself\u001b[39m\u001b[39m.\u001b[39m_build_call_outputs(\u001b[39mself\u001b[39;49m\u001b[39m.\u001b[39;49m_inference_function\u001b[39m.\u001b[39;49mcall(\n\u001b[0;32m   1758\u001b[0m       ctx, args, cancellation_manager\u001b[39m=\u001b[39;49mcancellation_manager))\n\u001b[0;32m   1759\u001b[0m forward_backward \u001b[39m=\u001b[39m \u001b[39mself\u001b[39m\u001b[39m.\u001b[39m_select_forward_and_backward_functions(\n\u001b[0;32m   1760\u001b[0m     args,\n\u001b[0;32m   1761\u001b[0m     possible_gradient_type,\n\u001b[0;32m   1762\u001b[0m     executing_eagerly)\n\u001b[0;32m   1763\u001b[0m forward_function, args_with_tangents \u001b[39m=\u001b[39m forward_backward\u001b[39m.\u001b[39mforward()\n",
      "File \u001b[1;32m~\\AppData\\Roaming\\Python\\Python311\\site-packages\\tensorflow\\python\\eager\\polymorphic_function\\monomorphic_function.py:381\u001b[0m, in \u001b[0;36m_EagerDefinedFunction.call\u001b[1;34m(self, ctx, args, cancellation_manager)\u001b[0m\n\u001b[0;32m    379\u001b[0m \u001b[39mwith\u001b[39;00m _InterpolateFunctionError(\u001b[39mself\u001b[39m):\n\u001b[0;32m    380\u001b[0m   \u001b[39mif\u001b[39;00m cancellation_manager \u001b[39mis\u001b[39;00m \u001b[39mNone\u001b[39;00m:\n\u001b[1;32m--> 381\u001b[0m     outputs \u001b[39m=\u001b[39m execute\u001b[39m.\u001b[39;49mexecute(\n\u001b[0;32m    382\u001b[0m         \u001b[39mstr\u001b[39;49m(\u001b[39mself\u001b[39;49m\u001b[39m.\u001b[39;49msignature\u001b[39m.\u001b[39;49mname),\n\u001b[0;32m    383\u001b[0m         num_outputs\u001b[39m=\u001b[39;49m\u001b[39mself\u001b[39;49m\u001b[39m.\u001b[39;49m_num_outputs,\n\u001b[0;32m    384\u001b[0m         inputs\u001b[39m=\u001b[39;49margs,\n\u001b[0;32m    385\u001b[0m         attrs\u001b[39m=\u001b[39;49mattrs,\n\u001b[0;32m    386\u001b[0m         ctx\u001b[39m=\u001b[39;49mctx)\n\u001b[0;32m    387\u001b[0m   \u001b[39melse\u001b[39;00m:\n\u001b[0;32m    388\u001b[0m     outputs \u001b[39m=\u001b[39m execute\u001b[39m.\u001b[39mexecute_with_cancellation(\n\u001b[0;32m    389\u001b[0m         \u001b[39mstr\u001b[39m(\u001b[39mself\u001b[39m\u001b[39m.\u001b[39msignature\u001b[39m.\u001b[39mname),\n\u001b[0;32m    390\u001b[0m         num_outputs\u001b[39m=\u001b[39m\u001b[39mself\u001b[39m\u001b[39m.\u001b[39m_num_outputs,\n\u001b[1;32m   (...)\u001b[0m\n\u001b[0;32m    393\u001b[0m         ctx\u001b[39m=\u001b[39mctx,\n\u001b[0;32m    394\u001b[0m         cancellation_manager\u001b[39m=\u001b[39mcancellation_manager)\n",
      "File \u001b[1;32m~\\AppData\\Roaming\\Python\\Python311\\site-packages\\tensorflow\\python\\eager\\execute.py:52\u001b[0m, in \u001b[0;36mquick_execute\u001b[1;34m(op_name, num_outputs, inputs, attrs, ctx, name)\u001b[0m\n\u001b[0;32m     50\u001b[0m \u001b[39mtry\u001b[39;00m:\n\u001b[0;32m     51\u001b[0m   ctx\u001b[39m.\u001b[39mensure_initialized()\n\u001b[1;32m---> 52\u001b[0m   tensors \u001b[39m=\u001b[39m pywrap_tfe\u001b[39m.\u001b[39;49mTFE_Py_Execute(ctx\u001b[39m.\u001b[39;49m_handle, device_name, op_name,\n\u001b[0;32m     53\u001b[0m                                       inputs, attrs, num_outputs)\n\u001b[0;32m     54\u001b[0m \u001b[39mexcept\u001b[39;00m core\u001b[39m.\u001b[39m_NotOkStatusException \u001b[39mas\u001b[39;00m e:\n\u001b[0;32m     55\u001b[0m   \u001b[39mif\u001b[39;00m name \u001b[39mis\u001b[39;00m \u001b[39mnot\u001b[39;00m \u001b[39mNone\u001b[39;00m:\n",
      "\u001b[1;31mKeyboardInterrupt\u001b[0m: "
     ]
    }
   ],
   "source": [
    "# Set the window size and step size\n",
    "window_size = 300\n",
    "step_size = 100\n",
    "\n",
    "# Reshape X to 2D format (samples, features)\n",
    "X = df_yvo.values[:, 1:13]\n",
    "\n",
    "# Create a sliding window of X with the specified window and step sizes\n",
    "X_windows = np.array([X[i:i+window_size,:] for i in range(0,X.shape[0]-window_size+1,step_size)])\n",
    "\n",
    "# Reshape X_windows to 3D format (samples, timesteps, features)\n",
    "timesteps = X_windows.shape[1]\n",
    "n_features = X_windows.shape[2]\n",
    "X_windows = X_windows.reshape(-1, timesteps, n_features)\n",
    "\n",
    "y_pred_probs = best_model.predict(X_windows)\n",
    "\n",
    "# Get the predicted class labels for each input window\n",
    "y_pred_labels = np.argmax(y_pred_probs, axis=1)\n",
    "\n",
    "# Print the predicted class labels\n",
    "# get the median of the predicted labels\n",
    "sol = np.median(y_pred_labels)\n",
    "\n",
    "class_counts = np.bincount(y_pred_labels)\n",
    "for i, count in enumerate(class_counts):\n",
    "    print(f\"Class {i} count: {count}\")\n"
   ]
  },
  {
   "cell_type": "code",
   "execution_count": null,
   "metadata": {},
   "outputs": [
    {
     "data": {
      "text/plain": [
       "3.0"
      ]
     },
     "execution_count": 75,
     "metadata": {},
     "output_type": "execute_result"
    }
   ],
   "source": [
    "sol"
   ]
  }
 ],
 "metadata": {
  "kernelspec": {
   "display_name": "Python 3",
   "language": "python",
   "name": "python3"
  },
  "language_info": {
   "codemirror_mode": {
    "name": "ipython",
    "version": 3
   },
   "file_extension": ".py",
   "mimetype": "text/x-python",
   "name": "python",
   "nbconvert_exporter": "python",
   "pygments_lexer": "ipython3",
   "version": "3.11.0"
  },
  "orig_nbformat": 4
 },
 "nbformat": 4,
 "nbformat_minor": 2
}
