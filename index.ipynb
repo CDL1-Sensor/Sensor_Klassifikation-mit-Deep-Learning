{
 "cells": [
  {
   "cell_type": "code",
   "execution_count": null,
   "metadata": {},
   "outputs": [],
   "source": [
    "\n",
    "from dataclasses import dataclass\n",
    "\n",
    "@dataclass\n",
    "class Parameters():\n",
    "    batch_size: int = 48\n",
    "    epochs: int = 1\n",
    "    verbosity: int = 1\n",
    "    step_size: int = 374\n",
    "    number_folds: int = 2\n",
    "    "
   ]
  },
  {
   "cell_type": "code",
   "execution_count": null,
   "metadata": {},
   "outputs": [],
   "source": [
    "# Template\n",
    "import tensorflow as tf\n",
    "from tensorflow import keras\n",
    "from tensorflow.keras import layers\n",
    "from sklearn.model_selection import KFold\n",
    "import numpy as np\n",
    "import dataclasses\n",
    "\n",
    "# Load data and preprocess\n",
    "x_train = ...\n",
    "x_test = ...\n",
    "y_train = ...\n",
    "y_test = ...\n",
    "\n",
    "# Load data and preprocess\n",
    "(x_train, y_train), (x_test, y_test) = keras.datasets.mnist.load_data()\n",
    "x_train = x_train.reshape((x_train.shape[0], 28, 28, 1)) / 255.0\n",
    "x_test = x_test.reshape((x_test.shape[0], 28, 28, 1)) / 255.0\n",
    "y_train = keras.utils.to_categorical(y_train)\n",
    "y_test = keras.utils.to_categorical(y_test)\n",
    "\n",
    "\n",
    "    \n",
    "\n",
    "# Something like this as first Model\n",
    "def create_model_1():\n",
    "    model = keras.Sequential([\n",
    "        layers.Conv2D(32, (3,3), activation='relu', input_shape=(28,28,1)),\n",
    "        layers.MaxPooling2D((2,2)),\n",
    "        layers.Flatten(),\n",
    "        layers.Dense(10, activation='softmax')\n",
    "    ])\n",
    "    model.compile(optimizer='adam', loss='categorical_crossentropy', metrics=['accuracy'])\n",
    "    return model\n",
    "\n",
    "# Something like this as second Model\n",
    "def create_model_2():\n",
    "    model = keras.Sequential([\n",
    "        layers.Conv2D(64, (3,3), activation='relu', input_shape=(28,28,1)),\n",
    "        layers.MaxPooling2D((2,2)),\n",
    "        layers.Conv2D(64, (3,3), activation='relu'),\n",
    "        layers.Flatten(),\n",
    "        layers.Dense(10, activation='softmax')\n",
    "    ])\n",
    "    model.compile(optimizer='adam', loss='categorical_crossentropy', metrics=['accuracy'])\n",
    "    return model\n",
    "\n",
    "# Something like this as Third Model\n",
    "def create_model_3():\n",
    "    model = keras.Sequential([\n",
    "        layers.Conv2D(32, (3,3), activation='relu', input_shape=(28,28,1)),\n",
    "        layers.Conv2D(64, (3,3), activation='relu'),\n",
    "        layers.MaxPooling2D((2,2)),\n",
    "        layers.Conv2D(64, (3,3), activation='relu'),\n",
    "        layers.Flatten(),\n",
    "        layers.Dense(10, activation='softmax')\n",
    "    ])\n",
    "    model.compile(optimizer='adam', loss='categorical_crossentropy', metrics=['accuracy'])\n",
    "    return model\n",
    "\n",
    "# Perform cross-validation\n",
    "models = [create_model_1(), create_model_2(), create_model_3()]\n",
    "num_folds = Parameters.number_folds\n",
    "kfold = KFold(n_splits=num_folds, shuffle=True)\n",
    "fold_acc_scores = []\n",
    "for i, (train, test) in enumerate(kfold.split(x_train, y_train)):\n",
    "    print('Fold', i+1)\n",
    "    train_x, train_y = x_train[train], y_train[train]\n",
    "    test_x, test_y = x_train[test], y_train[test]\n",
    "    for j, model in enumerate(models):\n",
    "        print('Model', j+1)\n",
    "        history = model.fit(train_x, train_y, epochs=Parameters.epochs, batch_size=Parameters.batch_size, validation_data=(test_x, test_y), verbose=Parameters.verbosity, steps_per_epoch=Parameters.step_size)\n",
    "        _, acc = model.evaluate(test_x, test_y, verbose=Parameters.verbosity)\n",
    "        print('Validation accuracy:', acc)\n",
    "        fold_acc_scores.append((i, j, acc))\n",
    "\n",
    "# Find the best model\n",
    "best_model_index = np.argmax([score[2] for score in fold_acc_scores])\n",
    "print(fold_acc_scores)\n",
    "print(best_model_index)\n",
    "best_model = models[fold_acc_scores[best_model_index][1]]\n",
    "print(fold_acc_scores)\n",
    "print(best_model_index)\n",
    "print(best_model)\n",
    "print('Best model is model', best_model_index+1)\n",
    "\n",
    "# Evaluate the best model on the test set\n",
    "test_loss, test_acc = best_model.evaluate(x_test, y_test)\n",
    "print('Test accuracy:', test_acc)"
   ]
  },
  {
   "cell_type": "code",
   "execution_count": null,
   "metadata": {},
   "outputs": [],
   "source": [
    "# Create a Baseline Model"
   ]
  },
  {
   "cell_type": "code",
   "execution_count": null,
   "metadata": {},
   "outputs": [],
   "source": [
    "# Compare Baseline vs best_model"
   ]
  },
  {
   "cell_type": "code",
   "execution_count": null,
   "metadata": {},
   "outputs": [],
   "source": [
    "# plot graph for learning curve and loss curve from baseline and best_model"
   ]
  },
  {
   "cell_type": "code",
   "execution_count": null,
   "metadata": {},
   "outputs": [],
   "source": [
    "# summarise best model\n",
    "best_model.summary()\n"
   ]
  },
  {
   "cell_type": "code",
   "execution_count": null,
   "metadata": {},
   "outputs": [],
   "source": [
    "# Export Model for using in tensorflow.js\n",
    "!mkdir -p saved_model\n",
    "best_model.save('saved_model/sensor_model')\n",
    "best_model.save('saved_model/sensor_model.h5')"
   ]
  },
  {
   "cell_type": "code",
   "execution_count": null,
   "metadata": {},
   "outputs": [],
   "source": [
    "# Save the weight for the Js Model\n",
    "best_model.save_weights('./checkpoints/my_checkpoint')\n"
   ]
  },
  {
   "cell_type": "code",
   "execution_count": null,
   "metadata": {},
   "outputs": [],
   "source": [
    "# upload model to server to download it on tensorflow js"
   ]
  },
  {
   "cell_type": "code",
   "execution_count": null,
   "metadata": {},
   "outputs": [],
   "source": []
  }
 ],
 "metadata": {
  "kernelspec": {
   "display_name": "Python 3",
   "language": "python",
   "name": "python3"
  },
  "language_info": {
   "codemirror_mode": {
    "name": "ipython",
    "version": 3
   },
   "file_extension": ".py",
   "mimetype": "text/x-python",
   "name": "python",
   "nbconvert_exporter": "python",
   "pygments_lexer": "ipython3",
   "version": "3.11.0"
  },
  "orig_nbformat": 4,
  "vscode": {
   "interpreter": {
    "hash": "c261aea317cc0286b3b3261fbba9abdec21eaa57589985bb7a274bf54d6cc0a7"
   }
  }
 },
 "nbformat": 4,
 "nbformat_minor": 2
}
