{
 "cells": [
  {
   "cell_type": "code",
   "execution_count": 52,
   "metadata": {},
   "outputs": [
    {
     "data": {
      "text/html": [
       "<div>\n",
       "<style scoped>\n",
       "    .dataframe tbody tr th:only-of-type {\n",
       "        vertical-align: middle;\n",
       "    }\n",
       "\n",
       "    .dataframe tbody tr th {\n",
       "        vertical-align: top;\n",
       "    }\n",
       "\n",
       "    .dataframe thead th {\n",
       "        text-align: right;\n",
       "    }\n",
       "</style>\n",
       "<table border=\"1\" class=\"dataframe\">\n",
       "  <thead>\n",
       "    <tr style=\"text-align: right;\">\n",
       "      <th></th>\n",
       "      <th>Unnamed: 0</th>\n",
       "      <th>time</th>\n",
       "      <th>Accelerometer_x</th>\n",
       "      <th>Accelerometer_y</th>\n",
       "      <th>Accelerometer_z</th>\n",
       "      <th>Gyroscope_x</th>\n",
       "      <th>Gyroscope_y</th>\n",
       "      <th>Gyroscope_z</th>\n",
       "      <th>Magnetometer_x</th>\n",
       "      <th>Magnetometer_y</th>\n",
       "      <th>Magnetometer_z</th>\n",
       "      <th>Orientation_qx</th>\n",
       "      <th>Orientation_qy</th>\n",
       "      <th>Orientation_qz</th>\n",
       "      <th>id</th>\n",
       "      <th>user</th>\n",
       "      <th>class</th>\n",
       "      <th>id_combined</th>\n",
       "    </tr>\n",
       "  </thead>\n",
       "  <tbody>\n",
       "    <tr>\n",
       "      <th>0</th>\n",
       "      <td>1</td>\n",
       "      <td>2023-02-27 15:02:17.156</td>\n",
       "      <td>0.0</td>\n",
       "      <td>9.722</td>\n",
       "      <td>1.278</td>\n",
       "      <td>0.0</td>\n",
       "      <td>0.0</td>\n",
       "      <td>0.0</td>\n",
       "      <td>0.0</td>\n",
       "      <td>0.0</td>\n",
       "      <td>0.0</td>\n",
       "      <td>-0.21775</td>\n",
       "      <td>-0.719579</td>\n",
       "      <td>0.631111</td>\n",
       "      <td>01_SamsungA22-2023-02-27_15-02-03</td>\n",
       "      <td>Ben_Tran</td>\n",
       "      <td>Laufen</td>\n",
       "      <td>01_SamsungA22-2023-02-27_15-02-03Ben_TranLaufen</td>\n",
       "    </tr>\n",
       "  </tbody>\n",
       "</table>\n",
       "</div>"
      ],
      "text/plain": [
       "   Unnamed: 0                     time  Accelerometer_x  Accelerometer_y  \\\n",
       "0           1  2023-02-27 15:02:17.156              0.0            9.722   \n",
       "\n",
       "   Accelerometer_z  Gyroscope_x  Gyroscope_y  Gyroscope_z  Magnetometer_x  \\\n",
       "0            1.278          0.0          0.0          0.0             0.0   \n",
       "\n",
       "   Magnetometer_y  Magnetometer_z  Orientation_qx  Orientation_qy  \\\n",
       "0             0.0             0.0        -0.21775       -0.719579   \n",
       "\n",
       "   Orientation_qz                                 id      user   class  \\\n",
       "0        0.631111  01_SamsungA22-2023-02-27_15-02-03  Ben_Tran  Laufen   \n",
       "\n",
       "                                       id_combined  \n",
       "0  01_SamsungA22-2023-02-27_15-02-03Ben_TranLaufen  "
      ]
     },
     "execution_count": 52,
     "metadata": {},
     "output_type": "execute_result"
    }
   ],
   "source": [
    "import pandas as pd\n",
    "import tensorflow as tf\n",
    "from sklearn.preprocessing import LabelEncoder\n",
    "\n",
    "\n",
    "# read the CSV file into a DataFrame\n",
    "df = pd.read_csv(\"Alle_Messungen_trimmed.csv\")\n",
    "df.head(1)"
   ]
  },
  {
   "cell_type": "code",
   "execution_count": 53,
   "metadata": {},
   "outputs": [],
   "source": [
    "df = df.drop(columns=[\"id\", \"user\", \"id_combined\"])\n",
    "df.drop(['Unnamed: 0'], axis=1, inplace=True)"
   ]
  },
  {
   "cell_type": "code",
   "execution_count": 54,
   "metadata": {},
   "outputs": [
    {
     "data": {
      "text/plain": [
       "time               float64\n",
       "Accelerometer_x    float64\n",
       "Accelerometer_y    float64\n",
       "Accelerometer_z    float64\n",
       "Gyroscope_x        float64\n",
       "Gyroscope_y        float64\n",
       "Gyroscope_z        float64\n",
       "Magnetometer_x     float64\n",
       "Magnetometer_y     float64\n",
       "Magnetometer_z     float64\n",
       "Orientation_qx     float64\n",
       "Orientation_qy     float64\n",
       "Orientation_qz     float64\n",
       "class               object\n",
       "dtype: object"
      ]
     },
     "execution_count": 54,
     "metadata": {},
     "output_type": "execute_result"
    }
   ],
   "source": [
    "# get all types of the df\n",
    "df['time'] = pd.to_datetime(df['time'])\n",
    "df['time'] = df['time'].astype('int64')//1e9\n",
    "df.dtypes"
   ]
  },
  {
   "cell_type": "code",
   "execution_count": 55,
   "metadata": {},
   "outputs": [],
   "source": [
    "le = LabelEncoder()\n",
    "df[\"class\"] = le.fit_transform(df[\"class\"])\n"
   ]
  },
  {
   "cell_type": "code",
   "execution_count": 64,
   "metadata": {},
   "outputs": [],
   "source": [
    "X_train, X_test, y_train, y_test = train_test_split(df.values[:, 1:13], df.values[:, 13], test_size=0.2, random_state=42)\n"
   ]
  },
  {
   "cell_type": "code",
   "execution_count": 56,
   "metadata": {},
   "outputs": [],
   "source": [
    "# convert the DataFrame to a tensor\n",
    "dataset = tf.data.Dataset.from_tensor_slices((df.values[:, 1:13], df.values[:, 13]))"
   ]
  },
  {
   "cell_type": "code",
   "execution_count": 66,
   "metadata": {},
   "outputs": [
    {
     "name": "stdout",
     "output_type": "stream",
     "text": [
      "Epoch 1/10\n",
      "64000/64000 [==============================] - 62s 951us/step - loss: 1.1001 - accuracy: 0.5938 - val_loss: 0.9080 - val_accuracy: 0.6384\n",
      "Epoch 2/10\n",
      "64000/64000 [==============================] - 64s 995us/step - loss: 0.9692 - accuracy: 0.6456 - val_loss: 0.8794 - val_accuracy: 0.6644\n",
      "Epoch 3/10\n",
      "64000/64000 [==============================] - 61s 955us/step - loss: 0.9469 - accuracy: 0.6562 - val_loss: 0.8469 - val_accuracy: 0.6922\n",
      "Epoch 4/10\n",
      "64000/64000 [==============================] - 65s 1ms/step - loss: 0.9384 - accuracy: 0.6580 - val_loss: 0.8340 - val_accuracy: 0.6894\n",
      "Epoch 5/10\n",
      "64000/64000 [==============================] - 65s 1ms/step - loss: 0.9321 - accuracy: 0.6594 - val_loss: 0.8240 - val_accuracy: 0.6867\n",
      "Epoch 6/10\n",
      "64000/64000 [==============================] - 60s 944us/step - loss: 0.9295 - accuracy: 0.6598 - val_loss: 0.8185 - val_accuracy: 0.7019\n",
      "Epoch 7/10\n",
      "64000/64000 [==============================] - 61s 959us/step - loss: 0.9290 - accuracy: 0.6601 - val_loss: 0.8356 - val_accuracy: 0.7000\n",
      "Epoch 8/10\n",
      "64000/64000 [==============================] - 66s 1ms/step - loss: 0.9286 - accuracy: 0.6605 - val_loss: 0.8155 - val_accuracy: 0.6978\n",
      "Epoch 9/10\n",
      "64000/64000 [==============================] - 67s 1ms/step - loss: 0.9276 - accuracy: 0.6607 - val_loss: 0.8033 - val_accuracy: 0.7153\n",
      "Epoch 10/10\n",
      "64000/64000 [==============================] - 70s 1ms/step - loss: 0.9272 - accuracy: 0.6612 - val_loss: 0.8042 - val_accuracy: 0.7057\n"
     ]
    },
    {
     "data": {
      "text/plain": [
       "<keras.callbacks.History at 0x24b2779ead0>"
      ]
     },
     "execution_count": 66,
     "metadata": {},
     "output_type": "execute_result"
    }
   ],
   "source": [
    "# Split into training and testing sets\n",
    "train_size = int(0.7 * len(df))\n",
    "#train_dataset = dataset.take(train_size)\n",
    "#test_dataset = dataset.skip(train_size)\n",
    "\n",
    "train_dataset = tf.data.Dataset.from_tensor_slices((X_train, y_train))\n",
    "test_dataset = tf.data.Dataset.from_tensor_slices((X_test, y_test))\n",
    "\n",
    "# Batch the data\n",
    "batch_size = 32\n",
    "train_dataset = train_dataset.batch(batch_size)\n",
    "test_dataset = test_dataset.batch(batch_size)\n",
    "\n",
    "# Prefetch the data\n",
    "\n",
    "\n",
    "# Define your model\n",
    "model = tf.keras.Sequential([\n",
    "    tf.keras.layers.Dense(16, activation='relu', input_shape=(12,)),\n",
    "    tf.keras.layers.Dropout(0.5),\n",
    "    tf.keras.layers.Dense(8, activation='relu', input_shape=(12,)),\n",
    "    tf.keras.layers.Dense(6, activation='sigmoid')\n",
    "])\n",
    "\n",
    "# Compile the model\n",
    "model.compile(optimizer='adam', loss=tf.keras.losses.SparseCategoricalCrossentropy(from_logits=True), metrics=['accuracy'])\n",
    "\n",
    "# Train the model\n",
    "model.fit(train_dataset, epochs=10, validation_data=test_dataset)"
   ]
  },
  {
   "cell_type": "code",
   "execution_count": 70,
   "metadata": {},
   "outputs": [
    {
     "name": "stdout",
     "output_type": "stream",
     "text": [
      "Epoch 1/10\n",
      "64000/64000 [==============================] - 76s 1ms/step - loss: 0.4540 - accuracy: 0.8439 - val_loss: 0.3474 - val_accuracy: 0.8807\n",
      "Epoch 2/10\n",
      "64000/64000 [==============================] - 74s 1ms/step - loss: 0.3414 - accuracy: 0.8841 - val_loss: 0.3195 - val_accuracy: 0.8916\n",
      "Epoch 3/10\n",
      "64000/64000 [==============================] - 74s 1ms/step - loss: 0.3181 - accuracy: 0.8931 - val_loss: 0.3015 - val_accuracy: 0.8986\n",
      "Epoch 4/10\n",
      "64000/64000 [==============================] - 72s 1ms/step - loss: 0.3056 - accuracy: 0.8977 - val_loss: 0.2935 - val_accuracy: 0.9014\n",
      "Epoch 5/10\n",
      "64000/64000 [==============================] - 68s 1ms/step - loss: 0.2971 - accuracy: 0.9005 - val_loss: 0.2846 - val_accuracy: 0.9039\n",
      "Epoch 6/10\n",
      "64000/64000 [==============================] - 73s 1ms/step - loss: 0.2903 - accuracy: 0.9023 - val_loss: 0.3117 - val_accuracy: 0.8966\n",
      "Epoch 7/10\n",
      "64000/64000 [==============================] - 76s 1ms/step - loss: 0.2855 - accuracy: 0.9041 - val_loss: 0.2847 - val_accuracy: 0.9058\n",
      "Epoch 8/10\n",
      "64000/64000 [==============================] - 75s 1ms/step - loss: 0.2809 - accuracy: 0.9059 - val_loss: 0.2789 - val_accuracy: 0.9079\n",
      "Epoch 9/10\n",
      "64000/64000 [==============================] - 71s 1ms/step - loss: 0.2763 - accuracy: 0.9074 - val_loss: 0.2703 - val_accuracy: 0.9102\n",
      "Epoch 10/10\n",
      "64000/64000 [==============================] - 67s 1ms/step - loss: 0.2723 - accuracy: 0.9086 - val_loss: 0.2650 - val_accuracy: 0.9117\n"
     ]
    },
    {
     "data": {
      "text/plain": [
       "<keras.callbacks.History at 0x24b202407d0>"
      ]
     },
     "execution_count": 70,
     "metadata": {},
     "output_type": "execute_result"
    }
   ],
   "source": [
    "# Define your model\n",
    "# Define your model\n",
    "# Define your model\n",
    "model = tf.keras.Sequential([\n",
    "    tf.keras.layers.Reshape((-1, 12), input_shape=(12,)),\n",
    "    tf.keras.layers.Conv1D(32, 5, strides=2, padding='same', activation='relu'),\n",
    "    tf.keras.layers.Conv1D(16, 3, strides=2, padding='same', activation='relu'),\n",
    "    tf.keras.layers.Flatten(),\n",
    "    tf.keras.layers.Dense(6, activation='sigmoid')\n",
    "])\n",
    "\n",
    "# Compile the model\n",
    "model.compile(optimizer='adam', loss=tf.keras.losses.SparseCategoricalCrossentropy(from_logits=True), metrics=['accuracy'])\n",
    "\n",
    "# Train the model\n",
    "model.fit(train_dataset, epochs=10, validation_data=test_dataset)"
   ]
  },
  {
   "cell_type": "code",
   "execution_count": 73,
   "metadata": {},
   "outputs": [
    {
     "name": "stdout",
     "output_type": "stream",
     "text": [
      "16000/16000 [==============================] - 13s 793us/step - loss: 0.2650 - accuracy: 0.9117\n"
     ]
    },
    {
     "data": {
      "text/plain": [
       "[0.2650096118450165, 0.9116986989974976]"
      ]
     },
     "execution_count": 73,
     "metadata": {},
     "output_type": "execute_result"
    }
   ],
   "source": [
    "model.evaluate(X_test, y_test)"
   ]
  },
  {
   "cell_type": "code",
   "execution_count": 72,
   "metadata": {},
   "outputs": [
    {
     "name": "stdout",
     "output_type": "stream",
     "text": [
      "16000/16000 [==============================] - 10s 629us/step\n"
     ]
    }
   ],
   "source": [
    "y_pred = model.predict(X_test)"
   ]
  },
  {
   "cell_type": "code",
   "execution_count": 79,
   "metadata": {},
   "outputs": [
    {
     "data": {
      "image/png": "[encoded data removed]",
      "text/plain": [
       "<Figure size 640x480 with 2 Axes>"
      ]
     },
     "metadata": {},
     "output_type": "display_data"
    }
   ],
   "source": [
    "# plot a confusion matrix\n",
    "from sklearn.metrics import confusion_matrix, ConfusionMatrixDisplay\n",
    "import matplotlib.pyplot as plt\n",
    "\n",
    "cm = confusion_matrix(y_test, y_pred.argmax(axis=1))\n",
    "disp = ConfusionMatrixDisplay(confusion_matrix=cm, display_labels=le.classes_)\n",
    "disp.plot()\n",
    "plt.show()"
   ]
  },
  {
   "cell_type": "code",
   "execution_count": 78,
   "metadata": {},
   "outputs": [
    {
     "ename": "ValueError",
     "evalue": "Classification metrics can't handle a mix of multiclass and continuous-multioutput targets",
     "output_type": "error",
     "traceback": [
      "\u001b[1;31m---------------------------------------------------------------------------\u001b[0m",
      "\u001b[1;31mValueError\u001b[0m                                Traceback (most recent call last)",
      "Cell \u001b[1;32mIn[78], line 1\u001b[0m\n\u001b[1;32m----> 1\u001b[0m plot_cm(\n\u001b[0;32m      2\u001b[0m   y_test,\n\u001b[0;32m      3\u001b[0m  y_pred,\n\u001b[0;32m      4\u001b[0m   class_names\u001b[39m=\u001b[39;49mle\u001b[39m.\u001b[39;49mclasses_\n\u001b[0;32m      5\u001b[0m )\n",
      "Cell \u001b[1;32mIn[75], line 4\u001b[0m, in \u001b[0;36mplot_cm\u001b[1;34m(y_true, y_pred, class_names)\u001b[0m\n\u001b[0;32m      3\u001b[0m \u001b[39mdef\u001b[39;00m \u001b[39mplot_cm\u001b[39m(y_true, y_pred, class_names):\n\u001b[1;32m----> 4\u001b[0m   cm \u001b[39m=\u001b[39m confusion_matrix(y_true, y_pred)\n\u001b[0;32m      5\u001b[0m   fig, ax \u001b[39m=\u001b[39m plt\u001b[39m.\u001b[39msubplots(figsize\u001b[39m=\u001b[39m(\u001b[39m18\u001b[39m, \u001b[39m16\u001b[39m)) \n\u001b[0;32m      6\u001b[0m   ax \u001b[39m=\u001b[39m sns\u001b[39m.\u001b[39mheatmap(\n\u001b[0;32m      7\u001b[0m       cm, \n\u001b[0;32m      8\u001b[0m       annot\u001b[39m=\u001b[39m\u001b[39mTrue\u001b[39;00m, \n\u001b[1;32m   (...)\u001b[0m\n\u001b[0;32m     11\u001b[0m       ax\u001b[39m=\u001b[39max\n\u001b[0;32m     12\u001b[0m   )\n",
      "File \u001b[1;32mc:\\Python311\\Lib\\site-packages\\sklearn\\metrics\\_classification.py:317\u001b[0m, in \u001b[0;36mconfusion_matrix\u001b[1;34m(y_true, y_pred, labels, sample_weight, normalize)\u001b[0m\n\u001b[0;32m    232\u001b[0m \u001b[39mdef\u001b[39;00m \u001b[39mconfusion_matrix\u001b[39m(\n\u001b[0;32m    233\u001b[0m     y_true, y_pred, \u001b[39m*\u001b[39m, labels\u001b[39m=\u001b[39m\u001b[39mNone\u001b[39;00m, sample_weight\u001b[39m=\u001b[39m\u001b[39mNone\u001b[39;00m, normalize\u001b[39m=\u001b[39m\u001b[39mNone\u001b[39;00m\n\u001b[0;32m    234\u001b[0m ):\n\u001b[0;32m    235\u001b[0m \u001b[39m    \u001b[39m\u001b[39m\"\"\"Compute confusion matrix to evaluate the accuracy of a classification.\u001b[39;00m\n\u001b[0;32m    236\u001b[0m \n\u001b[0;32m    237\u001b[0m \u001b[39m    By definition a confusion matrix :math:`C` is such that :math:`C_{i, j}`\u001b[39;00m\n\u001b[1;32m   (...)\u001b[0m\n\u001b[0;32m    315\u001b[0m \u001b[39m    (0, 2, 1, 1)\u001b[39;00m\n\u001b[0;32m    316\u001b[0m \u001b[39m    \"\"\"\u001b[39;00m\n\u001b[1;32m--> 317\u001b[0m     y_type, y_true, y_pred \u001b[39m=\u001b[39m _check_targets(y_true, y_pred)\n\u001b[0;32m    318\u001b[0m     \u001b[39mif\u001b[39;00m y_type \u001b[39mnot\u001b[39;00m \u001b[39min\u001b[39;00m (\u001b[39m\"\u001b[39m\u001b[39mbinary\u001b[39m\u001b[39m\"\u001b[39m, \u001b[39m\"\u001b[39m\u001b[39mmulticlass\u001b[39m\u001b[39m\"\u001b[39m):\n\u001b[0;32m    319\u001b[0m         \u001b[39mraise\u001b[39;00m \u001b[39mValueError\u001b[39;00m(\u001b[39m\"\u001b[39m\u001b[39m%s\u001b[39;00m\u001b[39m is not supported\u001b[39m\u001b[39m\"\u001b[39m \u001b[39m%\u001b[39m y_type)\n",
      "File \u001b[1;32mc:\\Python311\\Lib\\site-packages\\sklearn\\metrics\\_classification.py:95\u001b[0m, in \u001b[0;36m_check_targets\u001b[1;34m(y_true, y_pred)\u001b[0m\n\u001b[0;32m     92\u001b[0m     y_type \u001b[39m=\u001b[39m {\u001b[39m\"\u001b[39m\u001b[39mmulticlass\u001b[39m\u001b[39m\"\u001b[39m}\n\u001b[0;32m     94\u001b[0m \u001b[39mif\u001b[39;00m \u001b[39mlen\u001b[39m(y_type) \u001b[39m>\u001b[39m \u001b[39m1\u001b[39m:\n\u001b[1;32m---> 95\u001b[0m     \u001b[39mraise\u001b[39;00m \u001b[39mValueError\u001b[39;00m(\n\u001b[0;32m     96\u001b[0m         \u001b[39m\"\u001b[39m\u001b[39mClassification metrics can\u001b[39m\u001b[39m'\u001b[39m\u001b[39mt handle a mix of \u001b[39m\u001b[39m{0}\u001b[39;00m\u001b[39m and \u001b[39m\u001b[39m{1}\u001b[39;00m\u001b[39m targets\u001b[39m\u001b[39m\"\u001b[39m\u001b[39m.\u001b[39mformat(\n\u001b[0;32m     97\u001b[0m             type_true, type_pred\n\u001b[0;32m     98\u001b[0m         )\n\u001b[0;32m     99\u001b[0m     )\n\u001b[0;32m    101\u001b[0m \u001b[39m# We can't have more than one value on y_type => The set is no more needed\u001b[39;00m\n\u001b[0;32m    102\u001b[0m y_type \u001b[39m=\u001b[39m y_type\u001b[39m.\u001b[39mpop()\n",
      "\u001b[1;31mValueError\u001b[0m: Classification metrics can't handle a mix of multiclass and continuous-multioutput targets"
     ]
    }
   ],
   "source": []
  },
  {
   "cell_type": "code",
   "execution_count": null,
   "metadata": {},
   "outputs": [],
   "source": []
  }
 ],
 "metadata": {
  "kernelspec": {
   "display_name": "Python 3",
   "language": "python",
   "name": "python3"
  },
  "language_info": {
   "codemirror_mode": {
    "name": "ipython",
    "version": 3
   },
   "file_extension": ".py",
   "mimetype": "text/x-python",
   "name": "python",
   "nbconvert_exporter": "python",
   "pygments_lexer": "ipython3",
   "version": "3.11.0"
  },
  "orig_nbformat": 4
 },
 "nbformat": 4,
 "nbformat_minor": 2
}
