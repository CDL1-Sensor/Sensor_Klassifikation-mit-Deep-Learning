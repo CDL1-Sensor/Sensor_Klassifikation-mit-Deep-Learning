{
 "cells": [
  {
   "cell_type": "code",
   "execution_count": 6,
   "metadata": {},
   "outputs": [
    {
     "ename": "ValueError",
     "evalue": "setting an array element with a sequence. The requested array has an inhomogeneous shape after 1 dimensions. The detected shape was (2559982,) + inhomogeneous part.",
     "output_type": "error",
     "traceback": [
      "\u001b[1;31m---------------------------------------------------------------------------\u001b[0m",
      "\u001b[1;31mValueError\u001b[0m                                Traceback (most recent call last)",
      "Cell \u001b[1;32mIn[6], line 32\u001b[0m\n\u001b[0;32m     29\u001b[0m     X_seq\u001b[39m.\u001b[39mappend(X[i:i\u001b[39m+\u001b[39mn_steps])\n\u001b[0;32m     31\u001b[0m \u001b[39m# Split the sequences into equal-sized sequences of length n_steps\u001b[39;00m\n\u001b[1;32m---> 32\u001b[0m X_seq \u001b[39m=\u001b[39m np\u001b[39m.\u001b[39;49marray(X_seq)\n\u001b[0;32m     33\u001b[0m X_seq \u001b[39m=\u001b[39m np\u001b[39m.\u001b[39mconcatenate(X_seq, axis\u001b[39m=\u001b[39m\u001b[39m1\u001b[39m)\n\u001b[0;32m     34\u001b[0m X_seq \u001b[39m=\u001b[39m np\u001b[39m.\u001b[39msplit(X_seq, \u001b[39mlen\u001b[39m(X_seq) \u001b[39m/\u001b[39m n_steps)\n",
      "\u001b[1;31mValueError\u001b[0m: setting an array element with a sequence. The requested array has an inhomogeneous shape after 1 dimensions. The detected shape was (2559982,) + inhomogeneous part."
     ]
    }
   ],
   "source": [
    "import pandas as pd\n",
    "import numpy as np\n",
    "import tensorflow as tf\n",
    "from sklearn.preprocessing import LabelEncoder\n",
    "\n",
    "df = pd.read_csv(\"Alle_Messungen_trimmed.csv\")\n",
    "df = df.drop(columns=[\"id\", \"user\", \"id_combined\", \"Unnamed: 0\"])\n",
    "\n",
    "# Convert time column to datetime and then to Unix timestamp\n",
    "df['time'] = pd.to_datetime(df['time']).astype('int64')//1e9\n",
    "\n",
    "# Encode the class labels\n",
    "le = LabelEncoder()\n",
    "df[\"class\"] = le.fit_transform(df[\"class\"])\n",
    "\n",
    "# Set the number of time steps\n",
    "n_steps = 5\n",
    "\n",
    "# Get the input and output sequences\n",
    "X = df.values[:, 1:13]\n",
    "y = df.values[:, 13]\n",
    "\n",
    "# Create sequences with sliding window\n",
    "X_seq = []\n",
    "for i in range(n_steps):\n",
    "    X_seq.append(X[i:len(X)-n_steps+i+1])\n",
    "\n",
    "for i in range(1, len(X)-n_steps+1):\n",
    "    X_seq.append(X[i:i+n_steps])\n",
    "\n",
    "# Split the sequences into equal-sized sequences of length n_steps\n",
    "X_seq = np.array(X_seq)\n",
    "X_seq = np.concatenate(X_seq, axis=1)\n",
    "X_seq = np.split(X_seq, len(X_seq) / n_steps)\n",
    "y_seq = y[n_steps-1:]\n",
    "\n",
    "# Convert sequences to tensorflow dataset\n",
    "dataset = tf.data.Dataset.from_tensor_slices((X_seq, y_seq))\n",
    "\n",
    "# Split the dataset into train and test sets\n",
    "train_size = int(0.7 * len(X_seq))\n",
    "train_dataset = dataset.take(train_size).batch(32).prefetch(tf.data.AUTOTUNE)\n",
    "test_dataset = dataset.skip(train_size).batch(32).prefetch(tf.data.AUTOTUNE)\n",
    "\n",
    "# Define the LSTM model\n",
    "model = tf.keras.Sequential([\n",
    "    tf.keras.layers.LSTM(32, activation='relu', input_shape=(n_steps, 12)),\n",
    "    tf.keras.layers.Dense(1, activation='sigmoid')\n",
    "])\n",
    "\n",
    "# Compile the model\n",
    "model.compile(optimizer='adam', loss='binary_crossentropy', metrics=['accuracy'])\n",
    "\n",
    "# Train the model\n",
    "model.fit(train_dataset, epochs=10, validation_data=test_dataset)\n"
   ]
  }
 ],
 "metadata": {
  "kernelspec": {
   "display_name": "Python 3",
   "language": "python",
   "name": "python3"
  },
  "language_info": {
   "name": "python",
   "version": "3.11.0"
  },
  "orig_nbformat": 4
 },
 "nbformat": 4,
 "nbformat_minor": 2
}
