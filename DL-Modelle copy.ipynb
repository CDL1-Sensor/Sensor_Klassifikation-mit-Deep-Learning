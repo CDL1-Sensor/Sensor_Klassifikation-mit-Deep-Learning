{
 "cells": [
  {
   "attachments": {},
   "cell_type": "markdown",
   "metadata": {},
   "source": [
    "# Sensor Based Activity Recoginition \n",
    "Challenge: cdl1 - Sensor based Activity Recognition  \n",
    "Team: Lea Bütler, Manjavy Kirupa, Etienne Roulet, Si Ben Tran  \n",
    "\n",
    "Aufgabe: DL Modell erstellen\n",
    "\n",
    "Hier in diesem Notebook erstellen wir unsere Deep Learning Modelle."
   ]
  },
  {
   "cell_type": "code",
   "execution_count": 10,
   "metadata": {},
   "outputs": [
    {
     "name": "stdout",
     "output_type": "stream",
     "text": [
      "[PhysicalDevice(name='/physical_device:CPU:0', device_type='CPU')]\n"
     ]
    }
   ],
   "source": [
    "import tensorflow as tf\n",
    "print(tf.config.list_physical_devices())\n",
    "tf.debugging.set_log_device_placement(False)\n"
   ]
  },
  {
   "cell_type": "code",
   "execution_count": 11,
   "metadata": {},
   "outputs": [
    {
     "name": "stdout",
     "output_type": "stream",
     "text": [
      "Note: you may need to restart the kernel to use updated packages.Requirement already satisfied: scikit-learn in c:\\python311\\lib\\site-packages (1.2.1)\n",
      "Requirement already satisfied: numpy>=1.17.3 in c:\\users\\super\\appdata\\roaming\\python\\python311\\site-packages (from scikit-learn) (1.23.5)\n",
      "Requirement already satisfied: scipy>=1.3.2 in c:\\users\\super\\appdata\\roaming\\python\\python311\\site-packages (from scikit-learn) (1.10.1)\n",
      "Requirement already satisfied: joblib>=1.1.1 in c:\\python311\\lib\\site-packages (from scikit-learn) (1.2.0)\n",
      "Requirement already satisfied: threadpoolctl>=2.0.0 in c:\\python311\\lib\\site-packages (from scikit-learn) (3.1.0)\n",
      "\n"
     ]
    },
    {
     "name": "stderr",
     "output_type": "stream",
     "text": [
      "\n",
      "[notice] A new release of pip is available: 23.0.1 -> 23.1.1\n",
      "[notice] To update, run: python.exe -m pip install --upgrade pip\n"
     ]
    }
   ],
   "source": [
    "%pip install scikit-learn"
   ]
  },
  {
   "cell_type": "code",
   "execution_count": 12,
   "metadata": {},
   "outputs": [
    {
     "name": "stdout",
     "output_type": "stream",
     "text": [
      "Requirement already satisfied: pandas in c:\\python311\\lib\\site-packages (1.5.3)\n",
      "Requirement already satisfied: python-dateutil>=2.8.1 in c:\\users\\super\\appdata\\roaming\\python\\python311\\site-packages (from pandas) (2.8.2)\n",
      "Requirement already satisfied: pytz>=2020.1 in c:\\python311\\lib\\site-packages (from pandas) (2022.7.1)\n",
      "Requirement already satisfied: numpy>=1.21.0 in c:\\users\\super\\appdata\\roaming\\python\\python311\\site-packages (from pandas) (1.23.5)\n",
      "Requirement already satisfied: six>=1.5 in c:\\users\\super\\appdata\\roaming\\python\\python311\\site-packages (from python-dateutil>=2.8.1->pandas) (1.16.0)\n",
      "Note: you may need to restart the kernel to use updated packages.\n"
     ]
    },
    {
     "name": "stderr",
     "output_type": "stream",
     "text": [
      "\n",
      "[notice] A new release of pip is available: 23.0.1 -> 23.1.1\n",
      "[notice] To update, run: python.exe -m pip install --upgrade pip\n"
     ]
    }
   ],
   "source": [
    "%pip install pandas"
   ]
  },
  {
   "cell_type": "code",
   "execution_count": 9,
   "metadata": {},
   "outputs": [],
   "source": [
    "\n",
    "import logging\n",
    "from datetime import datetime\n",
    "# datetime as filename for logging\n",
    "now = datetime.now()\n",
    "date_time_string = now.strftime(\"%Y-%m-%d_%H-%M-%S\")\n",
    "\n",
    "logging.basicConfig(level=logging.INFO, filename = f\"{date_time_string}.txt\", filemode='a')"
   ]
  },
  {
   "cell_type": "code",
   "execution_count": 2,
   "metadata": {},
   "outputs": [],
   "source": [
    "\n",
    "from dataclasses import dataclass\n",
    "\n",
    "@dataclass\n",
    "class Parameters():\n",
    "    batch_size: int = 128\n",
    "    epochs: int = 10\n",
    "    verbosity: int = 1\n",
    "    step_size: int = 374\n",
    "    number_folds: int = 2\n",
    "    output_size: int = 6\n",
    "    "
   ]
  },
  {
   "cell_type": "code",
   "execution_count": 3,
   "metadata": {},
   "outputs": [
    {
     "data": {
      "text/html": [
       "<div>\n",
       "<style scoped>\n",
       "    .dataframe tbody tr th:only-of-type {\n",
       "        vertical-align: middle;\n",
       "    }\n",
       "\n",
       "    .dataframe tbody tr th {\n",
       "        vertical-align: top;\n",
       "    }\n",
       "\n",
       "    .dataframe thead th {\n",
       "        text-align: right;\n",
       "    }\n",
       "</style>\n",
       "<table border=\"1\" class=\"dataframe\">\n",
       "  <thead>\n",
       "    <tr style=\"text-align: right;\">\n",
       "      <th></th>\n",
       "      <th>Unnamed: 0</th>\n",
       "      <th>time</th>\n",
       "      <th>Accelerometer_x</th>\n",
       "      <th>Accelerometer_y</th>\n",
       "      <th>Accelerometer_z</th>\n",
       "      <th>Gyroscope_x</th>\n",
       "      <th>Gyroscope_y</th>\n",
       "      <th>Gyroscope_z</th>\n",
       "      <th>Magnetometer_x</th>\n",
       "      <th>Magnetometer_y</th>\n",
       "      <th>Magnetometer_z</th>\n",
       "      <th>Orientation_qx</th>\n",
       "      <th>Orientation_qy</th>\n",
       "      <th>Orientation_qz</th>\n",
       "      <th>id</th>\n",
       "      <th>user</th>\n",
       "      <th>class</th>\n",
       "      <th>id_combined</th>\n",
       "    </tr>\n",
       "  </thead>\n",
       "  <tbody>\n",
       "    <tr>\n",
       "      <th>0</th>\n",
       "      <td>1</td>\n",
       "      <td>2023-02-27 15:02:17.156</td>\n",
       "      <td>0.0</td>\n",
       "      <td>9.722</td>\n",
       "      <td>1.278</td>\n",
       "      <td>0.0</td>\n",
       "      <td>0.0</td>\n",
       "      <td>0.0</td>\n",
       "      <td>0.0</td>\n",
       "      <td>0.0</td>\n",
       "      <td>0.0</td>\n",
       "      <td>-0.21775</td>\n",
       "      <td>-0.719579</td>\n",
       "      <td>0.631111</td>\n",
       "      <td>01_SamsungA22-2023-02-27_15-02-03</td>\n",
       "      <td>Ben_Tran</td>\n",
       "      <td>Laufen</td>\n",
       "      <td>01_SamsungA22-2023-02-27_15-02-03Ben_TranLaufen</td>\n",
       "    </tr>\n",
       "  </tbody>\n",
       "</table>\n",
       "</div>"
      ],
      "text/plain": [
       "   Unnamed: 0                     time  Accelerometer_x  Accelerometer_y  \\\n",
       "0           1  2023-02-27 15:02:17.156              0.0            9.722   \n",
       "\n",
       "   Accelerometer_z  Gyroscope_x  Gyroscope_y  Gyroscope_z  Magnetometer_x  \\\n",
       "0            1.278          0.0          0.0          0.0             0.0   \n",
       "\n",
       "   Magnetometer_y  Magnetometer_z  Orientation_qx  Orientation_qy  \\\n",
       "0             0.0             0.0        -0.21775       -0.719579   \n",
       "\n",
       "   Orientation_qz                                 id      user   class  \\\n",
       "0        0.631111  01_SamsungA22-2023-02-27_15-02-03  Ben_Tran  Laufen   \n",
       "\n",
       "                                       id_combined  \n",
       "0  01_SamsungA22-2023-02-27_15-02-03Ben_TranLaufen  "
      ]
     },
     "execution_count": 3,
     "metadata": {},
     "output_type": "execute_result"
    }
   ],
   "source": [
    "# Loading Data\n",
    "import pandas as pd\n",
    "import tensorflow as tf\n",
    "from sklearn.preprocessing import LabelEncoder\n",
    "from sklearn import model_selection as ms\n",
    "\n",
    "# read the CSV file into a DataFrame\n",
    "df = pd.read_csv(\"Alle_Messungen_trimmed.csv\")\n",
    "df.head(1)"
   ]
  },
  {
   "cell_type": "code",
   "execution_count": 4,
   "metadata": {},
   "outputs": [],
   "source": [
    "df = df.drop(columns=[\"id\", \"user\", \"id_combined\"])\n",
    "df.drop(['Unnamed: 0'], axis=1, inplace=True)\n",
    "# get all types of the df\n",
    "df['time'] = pd.to_datetime(df['time'])\n",
    "df['time'] = df['time'].astype('int64')//1e9\n",
    "le = LabelEncoder()\n",
    "df[\"class\"] = le.fit_transform(df[\"class\"])\n"
   ]
  },
  {
   "cell_type": "code",
   "execution_count": 58,
   "metadata": {},
   "outputs": [
    {
     "data": {
      "text/html": [
       "<div>\n",
       "<style scoped>\n",
       "    .dataframe tbody tr th:only-of-type {\n",
       "        vertical-align: middle;\n",
       "    }\n",
       "\n",
       "    .dataframe tbody tr th {\n",
       "        vertical-align: top;\n",
       "    }\n",
       "\n",
       "    .dataframe thead th {\n",
       "        text-align: right;\n",
       "    }\n",
       "</style>\n",
       "<table border=\"1\" class=\"dataframe\">\n",
       "  <thead>\n",
       "    <tr style=\"text-align: right;\">\n",
       "      <th></th>\n",
       "      <th>time</th>\n",
       "      <th>Accelerometer_x</th>\n",
       "      <th>Accelerometer_y</th>\n",
       "      <th>Accelerometer_z</th>\n",
       "      <th>Gyroscope_x</th>\n",
       "      <th>Gyroscope_y</th>\n",
       "      <th>Gyroscope_z</th>\n",
       "      <th>Magnetometer_x</th>\n",
       "      <th>Magnetometer_y</th>\n",
       "      <th>Magnetometer_z</th>\n",
       "      <th>Orientation_qx</th>\n",
       "      <th>Orientation_qy</th>\n",
       "      <th>Orientation_qz</th>\n",
       "      <th>class</th>\n",
       "    </tr>\n",
       "  </thead>\n",
       "  <tbody>\n",
       "    <tr>\n",
       "      <th>0</th>\n",
       "      <td>1.677510e+09</td>\n",
       "      <td>0.000</td>\n",
       "      <td>9.722</td>\n",
       "      <td>1.278</td>\n",
       "      <td>0.0</td>\n",
       "      <td>0.0</td>\n",
       "      <td>0.0</td>\n",
       "      <td>0.000000</td>\n",
       "      <td>0.0</td>\n",
       "      <td>0.000000</td>\n",
       "      <td>-0.21775</td>\n",
       "      <td>-0.719579</td>\n",
       "      <td>0.631111</td>\n",
       "      <td>0</td>\n",
       "    </tr>\n",
       "    <tr>\n",
       "      <th>1</th>\n",
       "      <td>1.677510e+09</td>\n",
       "      <td>-0.728</td>\n",
       "      <td>9.779</td>\n",
       "      <td>0.000</td>\n",
       "      <td>0.0</td>\n",
       "      <td>0.0</td>\n",
       "      <td>0.0</td>\n",
       "      <td>0.000000</td>\n",
       "      <td>0.0</td>\n",
       "      <td>0.000000</td>\n",
       "      <td>-0.42065</td>\n",
       "      <td>0.568356</td>\n",
       "      <td>-0.598058</td>\n",
       "      <td>0</td>\n",
       "    </tr>\n",
       "    <tr>\n",
       "      <th>2</th>\n",
       "      <td>1.677510e+09</td>\n",
       "      <td>0.000</td>\n",
       "      <td>0.000</td>\n",
       "      <td>0.000</td>\n",
       "      <td>0.0</td>\n",
       "      <td>0.0</td>\n",
       "      <td>0.0</td>\n",
       "      <td>0.000000</td>\n",
       "      <td>43.5</td>\n",
       "      <td>-13.143750</td>\n",
       "      <td>0.00000</td>\n",
       "      <td>0.000000</td>\n",
       "      <td>0.000000</td>\n",
       "      <td>0</td>\n",
       "    </tr>\n",
       "    <tr>\n",
       "      <th>3</th>\n",
       "      <td>1.677510e+09</td>\n",
       "      <td>0.000</td>\n",
       "      <td>0.000</td>\n",
       "      <td>0.000</td>\n",
       "      <td>0.0</td>\n",
       "      <td>0.0</td>\n",
       "      <td>0.0</td>\n",
       "      <td>-13.012501</td>\n",
       "      <td>0.0</td>\n",
       "      <td>20.587502</td>\n",
       "      <td>0.00000</td>\n",
       "      <td>0.000000</td>\n",
       "      <td>0.000000</td>\n",
       "      <td>0</td>\n",
       "    </tr>\n",
       "    <tr>\n",
       "      <th>4</th>\n",
       "      <td>1.677510e+09</td>\n",
       "      <td>0.000</td>\n",
       "      <td>0.000</td>\n",
       "      <td>0.000</td>\n",
       "      <td>0.0</td>\n",
       "      <td>0.0</td>\n",
       "      <td>0.0</td>\n",
       "      <td>-22.612501</td>\n",
       "      <td>0.0</td>\n",
       "      <td>20.268751</td>\n",
       "      <td>0.00000</td>\n",
       "      <td>0.000000</td>\n",
       "      <td>0.000000</td>\n",
       "      <td>0</td>\n",
       "    </tr>\n",
       "  </tbody>\n",
       "</table>\n",
       "</div>"
      ],
      "text/plain": [
       "           time  Accelerometer_x  Accelerometer_y  Accelerometer_z  \\\n",
       "0  1.677510e+09            0.000            9.722            1.278   \n",
       "1  1.677510e+09           -0.728            9.779            0.000   \n",
       "2  1.677510e+09            0.000            0.000            0.000   \n",
       "3  1.677510e+09            0.000            0.000            0.000   \n",
       "4  1.677510e+09            0.000            0.000            0.000   \n",
       "\n",
       "   Gyroscope_x  Gyroscope_y  Gyroscope_z  Magnetometer_x  Magnetometer_y  \\\n",
       "0          0.0          0.0          0.0        0.000000             0.0   \n",
       "1          0.0          0.0          0.0        0.000000             0.0   \n",
       "2          0.0          0.0          0.0        0.000000            43.5   \n",
       "3          0.0          0.0          0.0      -13.012501             0.0   \n",
       "4          0.0          0.0          0.0      -22.612501             0.0   \n",
       "\n",
       "   Magnetometer_z  Orientation_qx  Orientation_qy  Orientation_qz  class  \n",
       "0        0.000000        -0.21775       -0.719579        0.631111      0  \n",
       "1        0.000000        -0.42065        0.568356       -0.598058      0  \n",
       "2      -13.143750         0.00000        0.000000        0.000000      0  \n",
       "3       20.587502         0.00000        0.000000        0.000000      0  \n",
       "4       20.268751         0.00000        0.000000        0.000000      0  "
      ]
     },
     "execution_count": 58,
     "metadata": {},
     "output_type": "execute_result"
    }
   ],
   "source": [
    "df.head()"
   ]
  },
  {
   "cell_type": "code",
   "execution_count": 17,
   "metadata": {},
   "outputs": [],
   "source": [
    "def factors(n):\n",
    "    result = set()\n",
    "    for i in range(1, int(n**0.5) + 1):\n",
    "        div, mod = divmod(n, i)\n",
    "        if mod == 0:\n",
    "            result |= {i, div}\n",
    "    return result\n"
   ]
  },
  {
   "cell_type": "code",
   "execution_count": 28,
   "metadata": {},
   "outputs": [],
   "source": [
    "from sklearn.model_selection import train_test_split\n",
    "from keras.utils import to_categorical\n",
    "import numpy as np\n",
    "\n",
    "# Set the window size and step size\n",
    "import numpy as np\n",
    "\n",
    "# Set the window size and step size\n",
    "window_size = 5\n",
    "step_size = 1\n",
    "\n",
    "# Reshape X to 2D format (samples, features)\n",
    "X = df.values[:, 1:13]\n",
    "\n",
    "# Define y\n",
    "y = df[\"class\"].values\n",
    "\n",
    "# Create a sliding window of X with the specified window and step sizes\n",
    "X_windows = np.array([X[i:i+window_size,:] for i in range(0,X.shape[0]-window_size+1,step_size)])\n",
    "\n",
    "# Reshape X_windows to 3D format (samples, timesteps, features)\n",
    "timesteps = X_windows.shape[1]\n",
    "n_features = X_windows.shape[2]\n",
    "X_windows = X_windows.reshape(-1, timesteps, n_features)\n",
    "\n",
    "# Create the corresponding y labels for the sliding windows\n",
    "y_windows = np.array([y[i+window_size-1] for i in range(0,X.shape[0]-window_size+1,step_size)])\n",
    "y_windows = to_categorical(y_windows, num_classes=6)\n",
    "\n",
    "# Split the dataset into training and testing sets\n",
    "X_train, X_test, y_train, y_test = train_test_split(X_windows, y_windows, test_size=0.2, random_state=42)\n"
   ]
  },
  {
   "cell_type": "code",
   "execution_count": 15,
   "metadata": {},
   "outputs": [
    {
     "data": {
      "text/plain": [
       "((2559982, 12),\n",
       " (2559982,),\n",
       " (2047946, 50, 12),\n",
       " (2047946, 6),\n",
       " (511987, 50, 12),\n",
       " (511987, 6))"
      ]
     },
     "execution_count": 15,
     "metadata": {},
     "output_type": "execute_result"
    }
   ],
   "source": [
    "X.shape, y.shape, X_train.shape, y_train.shape, X_test.shape, y_test.shape"
   ]
  },
  {
   "cell_type": "code",
   "execution_count": 19,
   "metadata": {},
   "outputs": [],
   "source": [
    "#X_train, X_test, y_train, y_test = ms.train_test_split(df.values[:, 1:13], df.values[:, 13], test_size=0.2, random_state=42)\n",
    "#X_train, X_test, y_train, y_test = ms.train_test_split(X, y, test_size=0.2, random_state=42)\n",
    "\n",
    "#dataset = tf.data.Dataset.from_tensor_slices((df.values[:, 1:13], df.values[:, 13]))"
   ]
  },
  {
   "cell_type": "code",
   "execution_count": 29,
   "metadata": {},
   "outputs": [
    {
     "name": "stdout",
     "output_type": "stream",
     "text": [
      "Epoch 1/10\n",
      "8000/8000 [==============================] - 135s 17ms/step - loss: 0.2576 - accuracy: 0.9118 - val_loss: 0.1463 - val_accuracy: 0.9507\n",
      "Epoch 2/10\n",
      "8000/8000 [==============================] - 142s 18ms/step - loss: 0.1263 - accuracy: 0.9574 - val_loss: 0.1106 - val_accuracy: 0.9630\n",
      "Epoch 3/10\n",
      "8000/8000 [==============================] - 139s 17ms/step - loss: 0.0975 - accuracy: 0.9667 - val_loss: 0.0946 - val_accuracy: 0.9681\n",
      "Epoch 4/10\n",
      "8000/8000 [==============================] - 142s 18ms/step - loss: 0.0820 - accuracy: 0.9719 - val_loss: 0.0837 - val_accuracy: 0.9718\n",
      "Epoch 5/10\n",
      "8000/8000 [==============================] - 138s 17ms/step - loss: 0.0730 - accuracy: 0.9750 - val_loss: 0.0765 - val_accuracy: 0.9742\n",
      "Epoch 6/10\n",
      "8000/8000 [==============================] - 140s 17ms/step - loss: 0.0660 - accuracy: 0.9773 - val_loss: 0.0677 - val_accuracy: 0.9774\n",
      "Epoch 7/10\n",
      "8000/8000 [==============================] - 137s 17ms/step - loss: 0.0614 - accuracy: 0.9788 - val_loss: 0.0645 - val_accuracy: 0.9783\n",
      "Epoch 8/10\n",
      "8000/8000 [==============================] - 140s 18ms/step - loss: 0.0572 - accuracy: 0.9802 - val_loss: 0.0622 - val_accuracy: 0.9793\n",
      "Epoch 9/10\n",
      "8000/8000 [==============================] - 137s 17ms/step - loss: 0.0547 - accuracy: 0.9811 - val_loss: 0.0630 - val_accuracy: 0.9793\n",
      "Epoch 10/10\n",
      "8000/8000 [==============================] - 137s 17ms/step - loss: 0.0522 - accuracy: 0.9819 - val_loss: 0.0625 - val_accuracy: 0.9791\n",
      "32000/32000 [==============================] - 54s 2ms/step - loss: 0.0625 - accuracy: 0.9791\n",
      "Epoch 1/10\n",
      "8000/8000 [==============================] - 141s 17ms/step - loss: 0.2567 - accuracy: 0.9121 - val_loss: 0.1574 - val_accuracy: 0.9453\n",
      "Epoch 2/10\n",
      "8000/8000 [==============================] - 148s 19ms/step - loss: 0.1253 - accuracy: 0.9576 - val_loss: 0.1144 - val_accuracy: 0.9613\n",
      "Epoch 3/10\n",
      "8000/8000 [==============================] - 143s 18ms/step - loss: 0.0955 - accuracy: 0.9677 - val_loss: 0.0938 - val_accuracy: 0.9683\n",
      "Epoch 4/10\n",
      "8000/8000 [==============================] - 142s 18ms/step - loss: 0.0807 - accuracy: 0.9727 - val_loss: 0.0815 - val_accuracy: 0.9723\n",
      "Epoch 5/10\n",
      "8000/8000 [==============================] - 142s 18ms/step - loss: 0.0715 - accuracy: 0.9754 - val_loss: 0.0763 - val_accuracy: 0.9738\n",
      "Epoch 6/10\n",
      "8000/8000 [==============================] - 144s 18ms/step - loss: 0.0653 - accuracy: 0.9776 - val_loss: 0.0689 - val_accuracy: 0.9767\n",
      "Epoch 7/10\n",
      "8000/8000 [==============================] - 143s 18ms/step - loss: 0.0611 - accuracy: 0.9790 - val_loss: 0.0706 - val_accuracy: 0.9758\n",
      "Epoch 8/10\n",
      "8000/8000 [==============================] - 149s 19ms/step - loss: 0.0579 - accuracy: 0.9801 - val_loss: 0.0622 - val_accuracy: 0.9791\n",
      "Epoch 9/10\n",
      "8000/8000 [==============================] - 147s 18ms/step - loss: 0.0546 - accuracy: 0.9813 - val_loss: 0.0648 - val_accuracy: 0.9783\n",
      "Epoch 10/10\n",
      "8000/8000 [==============================] - 153s 19ms/step - loss: 0.0522 - accuracy: 0.9821 - val_loss: 0.0628 - val_accuracy: 0.9791\n",
      "32000/32000 [==============================] - 55s 2ms/step - loss: 0.0628 - accuracy: 0.9791\n",
      "16000/16000 [==============================] - 27s 2ms/step - loss: 0.0624 - accuracy: 0.9791\n"
     ]
    }
   ],
   "source": [
    "# Template\n",
    "import tensorflow as tf\n",
    "from sklearn.model_selection import KFold\n",
    "import numpy as np\n",
    "import dataclasses\n",
    "\n",
    "# Load data and preprocess\n",
    "# split train dataset into x_train and y_train\n",
    "x_train = X_train\n",
    "x_test = X_test\n",
    "y_train = y_train\n",
    "y_test = y_test\n",
    "    \n",
    "\n",
    "# Something like this as first Model\n",
    "def create_model_1():\n",
    "    model = tf.keras.Sequential([\n",
    "            tf.keras.layers.Dense(16, activation='relu', input_shape=(12,)),\n",
    "            tf.keras.layers.Dropout(0.5),\n",
    "            tf.keras.layers.Dense(8, activation='relu', input_shape=(12,)),\n",
    "            tf.keras.layers.Dense(6, activation='softmax')\n",
    "    ])\n",
    "    model.compile(optimizer='adam', loss=tf.keras.losses.SparseCategoricalCrossentropy(from_logits=False), metrics=['accuracy'])\n",
    "    return model\n",
    "\n",
    "\n",
    "# Something like this as second Model\n",
    "def create_model_2():\n",
    "    model = tf.keras.Sequential([\n",
    "        tf.keras.layers.Reshape((-1, 12), input_shape=(12,)),\n",
    "        tf.keras.layers.Conv1D(32, 5, strides=2, padding='same', activation='relu'),\n",
    "        tf.keras.layers.Conv1D(16, 3, strides=2, padding='same', activation='relu'),\n",
    "        tf.keras.layers.Flatten(),\n",
    "        tf.keras.layers.Dense(6, activation='softmax')\n",
    "    ])\n",
    "    model.compile(optimizer='adam', loss=tf.keras.losses.SparseCategoricalCrossentropy(from_logits=False), metrics=['accuracy'])\n",
    "    return model\n",
    "\n",
    "# Something like this as Third Model\n",
    "def create_model_3():\n",
    "    model = tf.keras.Sequential([\n",
    "        tf.keras.layers.Reshape((-1, 12), input_shape=(12,)),\n",
    "        tf.keras.layers.Conv1D(32, 5, strides=2, padding='same', activation='relu'),\n",
    "        tf.keras.layers.Conv1D(16, 3, strides=2, padding='same', activation='relu'),\n",
    "        tf.keras.layers.Flatten(),\n",
    "        tf.keras.layers.Dense(6, activation='softmax')\n",
    "    ])\n",
    "    model.compile(optimizer='adam', loss=tf.keras.losses.SparseCategoricalCrossentropy(from_logits=False), metrics=['accuracy'])\n",
    "    return model\n",
    "\n",
    "def create_model_4():\n",
    "    model = tf.keras.Sequential([\n",
    "        # Add a 1D convolutional layer\n",
    "        tf.keras.layers.Conv1D(filters=64, kernel_size=2, activation='relu', padding='same', input_shape=(timesteps, n_features)),\n",
    "        \n",
    "        # Add LSTM layer\n",
    "        tf.keras.layers.LSTM(100),\n",
    "\n",
    "        # Add a dense output layer\n",
    "        tf.keras.layers.Dense(6, activation='softmax')  # Change activation function based on the nature of the output\n",
    "    ])\n",
    "    model.compile(optimizer='adam',   loss='categorical_crossentropy', metrics=['accuracy'])  # Change the loss function based on the nature of the output\n",
    "    return model\n",
    "\n",
    "best_model_history = None  # Keep track of the best model's history\n",
    "model_histories = []\n",
    "# Perform cross-validation\n",
    "models = [create_model_4]\n",
    "best_model = None\n",
    "num_folds = Parameters.number_folds\n",
    "kfold = KFold(n_splits=num_folds, shuffle=True)\n",
    "fold_acc_scores = []\n",
    "\n",
    "for i, (train, test) in enumerate(kfold.split(x_train, y_train)):\n",
    "    logging.info(f'Fold {i+1}')\n",
    "    train_x, train_y = x_train[train], y_train[train]\n",
    "    test_x, test_y = x_train[test], y_train[test]\n",
    "    \n",
    "    fold_histories = []\n",
    "\n",
    "    \n",
    "    for j, model_creator in enumerate(models):\n",
    "        model = model_creator()\n",
    "        logging.info(f'Model {j+1}')\n",
    "        history = model.fit(train_x, train_y, epochs=Parameters.epochs, batch_size=Parameters.batch_size, validation_data=(test_x, test_y), verbose=Parameters.verbosity)\n",
    "        test_loss, acc = model.evaluate(test_x, test_y, verbose=Parameters.verbosity)\n",
    "        logging.info(f'Validation accuracy: {acc}')\n",
    "        \n",
    "        fold_histories.append(history.history)\n",
    "        \n",
    "        for epoch in range(Parameters.epochs):\n",
    "            # Log accuracy after each epoch\n",
    "            acc_epoch = history.history['val_accuracy'][epoch]\n",
    "            logging.info(f'Epoch {epoch + 1}, Validation accuracy: {acc_epoch}')\n",
    "        fold_acc_scores.append((i, j, acc))\n",
    "        \n",
    "        if best_model_history is None or acc > best_model_acc:\n",
    "            best_model_history = history\n",
    "            best_model = model  # Store the trained model instance\n",
    "            best_model_acc = acc\n",
    "    \n",
    "    model_histories.append(fold_histories)\n",
    "\n",
    "# Find the best model\n",
    "best_model_index = np.argmax([score[2] for score in fold_acc_scores])\n",
    "best_fold_idx, best_model_idx, _ = max(fold_acc_scores, key=lambda x: x[2])\n",
    "best_model_history = model_histories[best_fold_idx][best_model_idx]\n",
    "\n",
    "\n",
    "#ogging.info(fold_acc_scores)\n",
    "#logging.info(best_model_index)\n",
    "#(best_fold, best_model_index, best_model_acc) = fold_acc_scores[best_model_index]\n",
    "#best_model = models[best_model_index]\n",
    "#logging.info(f'fold acc score: {fold_acc_scores}')\n",
    "#logging.info(f'Best model is model {best_model_index+1}')\n",
    "\n",
    "# Evaluate the best model on the test set\n",
    "test_loss, test_acc = best_model.evaluate(x_test, y_test)\n",
    "logging.info(f'Test accuracy {test_acc}')"
   ]
  },
  {
   "cell_type": "code",
   "execution_count": 11,
   "metadata": {},
   "outputs": [
    {
     "data": {
      "text/plain": [
       "[[{'loss': [0.25841471552848816,\n",
       "    0.12553001940250397,\n",
       "    0.09597323834896088,\n",
       "    0.08062659204006195,\n",
       "    0.07203102111816406,\n",
       "    0.06582358479499817,\n",
       "    0.06090965121984482,\n",
       "    0.05767214298248291,\n",
       "    0.0544605627655983,\n",
       "    0.052263833582401276],\n",
       "   'accuracy': [0.9108312726020813,\n",
       "    0.957246720790863,\n",
       "    0.9673668742179871,\n",
       "    0.9724216461181641,\n",
       "    0.9754450917243958,\n",
       "    0.9773992300033569,\n",
       "    0.9791306853294373,\n",
       "    0.9801199436187744,\n",
       "    0.9812400937080383,\n",
       "    0.9819119572639465],\n",
       "   'val_loss': [0.15033113956451416,\n",
       "    0.1128445416688919,\n",
       "    0.0869276225566864,\n",
       "    0.0823303759098053,\n",
       "    0.07902760803699493,\n",
       "    0.07179480046033859,\n",
       "    0.06543990969657898,\n",
       "    0.06706825643777847,\n",
       "    0.05982617288827896,\n",
       "    0.06749038398265839],\n",
       "   'val_accuracy': [0.9484702348709106,\n",
       "    0.9626950025558472,\n",
       "    0.9705886244773865,\n",
       "    0.9724187254905701,\n",
       "    0.9733044505119324,\n",
       "    0.9757781028747559,\n",
       "    0.9785457253456116,\n",
       "    0.9775867462158203,\n",
       "    0.980170726776123,\n",
       "    0.9773816466331482]}],\n",
       " [{'loss': [0.26193827390670776,\n",
       "    0.12547588348388672,\n",
       "    0.09554076939821243,\n",
       "    0.08071813732385635,\n",
       "    0.07145383208990097,\n",
       "    0.06517660617828369,\n",
       "    0.060863371938467026,\n",
       "    0.05648175626993179,\n",
       "    0.05347341671586037,\n",
       "    0.05132213607430458],\n",
       "   'accuracy': [0.9106046557426453,\n",
       "    0.9578843712806702,\n",
       "    0.9676315784454346,\n",
       "    0.9725221991539001,\n",
       "    0.9755720496177673,\n",
       "    0.977613091468811,\n",
       "    0.9789822101593018,\n",
       "    0.9805027842521667,\n",
       "    0.9814910292625427,\n",
       "    0.9821150898933411],\n",
       "   'val_loss': [0.14892567694187164,\n",
       "    0.1125166267156601,\n",
       "    0.09634748846292496,\n",
       "    0.08303043246269226,\n",
       "    0.07736652344465256,\n",
       "    0.07007191330194473,\n",
       "    0.06806154549121857,\n",
       "    0.06518929451704025,\n",
       "    0.061728585511446,\n",
       "    0.06739891320466995],\n",
       "   'val_accuracy': [0.9509243965148926,\n",
       "    0.9620592594146729,\n",
       "    0.9675446152687073,\n",
       "    0.9719587564468384,\n",
       "    0.9742419719696045,\n",
       "    0.97658771276474,\n",
       "    0.9773885011672974,\n",
       "    0.9782370924949646,\n",
       "    0.9794851541519165,\n",
       "    0.9777253866195679]}]]"
      ]
     },
     "execution_count": 11,
     "metadata": {},
     "output_type": "execute_result"
    }
   ],
   "source": [
    "model_histories"
   ]
  },
  {
   "cell_type": "code",
   "execution_count": 26,
   "metadata": {},
   "outputs": [
    {
     "ename": "TypeError",
     "evalue": "'NoneType' object is not subscriptable",
     "output_type": "error",
     "traceback": [
      "\u001b[1;31m---------------------------------------------------------------------------\u001b[0m",
      "\u001b[1;31mTypeError\u001b[0m                                 Traceback (most recent call last)",
      "Cell \u001b[1;32mIn[26], line 4\u001b[0m\n\u001b[0;32m      1\u001b[0m \u001b[39mimport\u001b[39;00m \u001b[39mmatplotlib\u001b[39;00m\u001b[39m.\u001b[39;00m\u001b[39mpyplot\u001b[39;00m \u001b[39mas\u001b[39;00m \u001b[39mplt\u001b[39;00m\n\u001b[0;32m      2\u001b[0m \u001b[39mimport\u001b[39;00m \u001b[39mnumpy\u001b[39;00m \u001b[39mas\u001b[39;00m \u001b[39mnp\u001b[39;00m\n\u001b[1;32m----> 4\u001b[0m \u001b[39mprint\u001b[39m(best_model_history[\u001b[39m'\u001b[39;49m\u001b[39mloss\u001b[39;49m\u001b[39m'\u001b[39;49m])\n\u001b[0;32m      5\u001b[0m \u001b[39m# summarize history for accuracy\u001b[39;00m\n\u001b[0;32m      6\u001b[0m plt\u001b[39m.\u001b[39mplot(best_model_history[\u001b[39m'\u001b[39m\u001b[39maccuracy\u001b[39m\u001b[39m'\u001b[39m])\n",
      "\u001b[1;31mTypeError\u001b[0m: 'NoneType' object is not subscriptable"
     ]
    }
   ],
   "source": [
    "\n",
    "import matplotlib.pyplot as plt\n",
    "import numpy as np\n",
    "\n",
    "print(best_model_history['loss'])\n",
    "# summarize history for accuracy\n",
    "plt.plot(best_model_history['accuracy'])\n",
    "plt.plot(best_model_history['val_accuracy'])\n",
    "plt.title('model accuracy')\n",
    "plt.ylabel('accuracy')\n",
    "plt.xlabel('epoch')\n",
    "plt.legend(['train', 'test'], loc='upper left')\n",
    "plt.show()\n",
    "# summarize history for loss\n",
    "plt.plot(best_model_history['loss'])\n",
    "plt.plot(best_model_history['val_loss'])\n",
    "plt.title('model loss')\n",
    "plt.ylabel('loss')\n",
    "plt.xlabel('epoch')\n",
    "plt.legend(['train', 'test'], loc='upper left')\n",
    "plt.show()"
   ]
  },
  {
   "cell_type": "code",
   "execution_count": 35,
   "metadata": {},
   "outputs": [
    {
     "data": {
      "text/plain": [
       "array([[0., 0., 0., 0., 1., 0.],\n",
       "       [0., 0., 0., 1., 0., 0.],\n",
       "       [1., 0., 0., 0., 0., 0.],\n",
       "       ...,\n",
       "       [1., 0., 0., 0., 0., 0.],\n",
       "       [0., 0., 1., 0., 0., 0.],\n",
       "       [0., 0., 0., 1., 0., 0.]], dtype=float32)"
      ]
     },
     "execution_count": 35,
     "metadata": {},
     "output_type": "execute_result"
    }
   ],
   "source": []
  },
  {
   "attachments": {},
   "cell_type": "markdown",
   "metadata": {},
   "source": []
  },
  {
   "cell_type": "code",
   "execution_count": null,
   "metadata": {},
   "outputs": [],
   "source": [
    "# Create a Baseline Model"
   ]
  },
  {
   "cell_type": "code",
   "execution_count": null,
   "metadata": {},
   "outputs": [
    {
     "ename": "ValueError",
     "evalue": "Failed to convert a NumPy array to a Tensor (Unsupported object type float).",
     "output_type": "error",
     "traceback": [
      "\u001b[1;31m---------------------------------------------------------------------------\u001b[0m",
      "\u001b[1;31mValueError\u001b[0m                                Traceback (most recent call last)",
      "Cell \u001b[1;32mIn[59], line 16\u001b[0m\n\u001b[0;32m     14\u001b[0m X \u001b[39m=\u001b[39m df_yvo\u001b[39m.\u001b[39mvalues[:, \u001b[39m1\u001b[39m:\u001b[39m13\u001b[39m]\n\u001b[0;32m     15\u001b[0m X_train, X_test, y_train, y_test \u001b[39m=\u001b[39m train_test_split(X, y, test_size\u001b[39m=\u001b[39m\u001b[39m0.2\u001b[39m, random_state\u001b[39m=\u001b[39m\u001b[39m42\u001b[39m)\n\u001b[1;32m---> 16\u001b[0m y_pred \u001b[39m=\u001b[39m best_model\u001b[39m.\u001b[39;49mpredict(X_test)\n",
      "File \u001b[1;32m~\\AppData\\Roaming\\Python\\Python311\\site-packages\\keras\\utils\\traceback_utils.py:70\u001b[0m, in \u001b[0;36mfilter_traceback.<locals>.error_handler\u001b[1;34m(*args, **kwargs)\u001b[0m\n\u001b[0;32m     67\u001b[0m     filtered_tb \u001b[39m=\u001b[39m _process_traceback_frames(e\u001b[39m.\u001b[39m__traceback__)\n\u001b[0;32m     68\u001b[0m     \u001b[39m# To get the full stack trace, call:\u001b[39;00m\n\u001b[0;32m     69\u001b[0m     \u001b[39m# `tf.debugging.disable_traceback_filtering()`\u001b[39;00m\n\u001b[1;32m---> 70\u001b[0m     \u001b[39mraise\u001b[39;00m e\u001b[39m.\u001b[39mwith_traceback(filtered_tb) \u001b[39mfrom\u001b[39;00m \u001b[39mNone\u001b[39m\n\u001b[0;32m     71\u001b[0m \u001b[39mfinally\u001b[39;00m:\n\u001b[0;32m     72\u001b[0m     \u001b[39mdel\u001b[39;00m filtered_tb\n",
      "File \u001b[1;32m~\\AppData\\Roaming\\Python\\Python311\\site-packages\\tensorflow\\python\\framework\\constant_op.py:103\u001b[0m, in \u001b[0;36mconvert_to_eager_tensor\u001b[1;34m(value, ctx, dtype)\u001b[0m\n\u001b[0;32m    101\u001b[0m     dtype \u001b[39m=\u001b[39m dtypes\u001b[39m.\u001b[39mas_dtype(dtype)\u001b[39m.\u001b[39mas_datatype_enum\n\u001b[0;32m    102\u001b[0m ctx\u001b[39m.\u001b[39mensure_initialized()\n\u001b[1;32m--> 103\u001b[0m \u001b[39mreturn\u001b[39;00m ops\u001b[39m.\u001b[39;49mEagerTensor(value, ctx\u001b[39m.\u001b[39;49mdevice_name, dtype)\n",
      "\u001b[1;31mValueError\u001b[0m: Failed to convert a NumPy array to a Tensor (Unsupported object type float)."
     ]
    }
   ],
   "source": [
    "# Yvo\n",
    "df_yvo = pd.read_csv(\"Yvo_Messung_Velo.csv\")\n",
    "df_yvo = df_yvo.drop(columns=[\"id\", \"user\", \"id_combined\"])\n",
    "df_yvo.drop(['Unnamed: 0'], axis=1, inplace=True)\n",
    "# get all types of the df\n",
    "df_yvo['time'] = pd.to_datetime(df['time'])\n",
    "df_yvo['time'] = df_yvo['time'].astype('int64')//1e9\n",
    "\n",
    "window_size = 5\n",
    "step_size = 1\n",
    "\n",
    "# Reshape X to 2D format (samples, features)\n",
    "X = df_yvo.values[:, 1:13]\n",
    "X_train, X_test, y_train, y_test = train_test_split(X, y, test_size=0.2, random_state=42)\n",
    "y_pred = best_model.predict(X_test)"
   ]
  },
  {
   "cell_type": "code",
   "execution_count": 64,
   "metadata": {},
   "outputs": [
    {
     "name": "stdout",
     "output_type": "stream",
     "text": [
      "[[-0.2554014694036916 0.0627739246252924 -0.068917468881607 ...\n",
      "  0.0241107369990773 -0.0168847335445076 -0.955092131987144]\n",
      " [-0.648255526189506 -0.2549644296932965 -0.1621072092324495 ...\n",
      "  0.0240223349667984 -0.0167318289707819 -0.954951742041129]\n",
      " [-0.3446060491085052 -0.1319966600637883 -0.2441407647967338 ...\n",
      "  0.0247001870844381 -0.0167058077282564 -0.954835088892052]\n",
      " ...\n",
      " [3.7737110214784737 1.30152245080024 -1.0938228264331815 ...\n",
      "  -0.2965141152758624 0.0537645161008005 -0.6393428096786451]\n",
      " [3.4788784725815054 1.4988500264957547 -0.9363555519610642 ...\n",
      "  -0.3032294463855013 0.0590262027053206 -0.6485499191743929]\n",
      " [3.3580855627730486 1.5443082938566803 -0.5835130049049854 ...\n",
      "  -0.3098368620703562 0.063513684254773 -0.6581362936520376]]\n",
      "12\n"
     ]
    },
    {
     "ename": "ValueError",
     "evalue": "Failed to convert a NumPy array to a Tensor (Unsupported object type float).",
     "output_type": "error",
     "traceback": [
      "\u001b[1;31m---------------------------------------------------------------------------\u001b[0m",
      "\u001b[1;31mValueError\u001b[0m                                Traceback (most recent call last)",
      "Cell \u001b[1;32mIn[64], line 20\u001b[0m\n\u001b[0;32m     14\u001b[0m X_windows \u001b[39m=\u001b[39m X_windows\u001b[39m.\u001b[39mreshape(\u001b[39m-\u001b[39m\u001b[39m1\u001b[39m, timesteps, n_features)\n\u001b[0;32m     16\u001b[0m \u001b[39m# Create the corresponding y labels for the sliding windows\u001b[39;00m\n\u001b[0;32m     17\u001b[0m \n\u001b[0;32m     18\u001b[0m \u001b[39m# Split the dataset into training and testing sets\u001b[39;00m\n\u001b[1;32m---> 20\u001b[0m y_pred \u001b[39m=\u001b[39m best_model\u001b[39m.\u001b[39;49mpredict(X_windows)\n",
      "File \u001b[1;32m~\\AppData\\Roaming\\Python\\Python311\\site-packages\\keras\\utils\\traceback_utils.py:70\u001b[0m, in \u001b[0;36mfilter_traceback.<locals>.error_handler\u001b[1;34m(*args, **kwargs)\u001b[0m\n\u001b[0;32m     67\u001b[0m     filtered_tb \u001b[39m=\u001b[39m _process_traceback_frames(e\u001b[39m.\u001b[39m__traceback__)\n\u001b[0;32m     68\u001b[0m     \u001b[39m# To get the full stack trace, call:\u001b[39;00m\n\u001b[0;32m     69\u001b[0m     \u001b[39m# `tf.debugging.disable_traceback_filtering()`\u001b[39;00m\n\u001b[1;32m---> 70\u001b[0m     \u001b[39mraise\u001b[39;00m e\u001b[39m.\u001b[39mwith_traceback(filtered_tb) \u001b[39mfrom\u001b[39;00m \u001b[39mNone\u001b[39m\n\u001b[0;32m     71\u001b[0m \u001b[39mfinally\u001b[39;00m:\n\u001b[0;32m     72\u001b[0m     \u001b[39mdel\u001b[39;00m filtered_tb\n",
      "File \u001b[1;32m~\\AppData\\Roaming\\Python\\Python311\\site-packages\\tensorflow\\python\\framework\\constant_op.py:103\u001b[0m, in \u001b[0;36mconvert_to_eager_tensor\u001b[1;34m(value, ctx, dtype)\u001b[0m\n\u001b[0;32m    101\u001b[0m     dtype \u001b[39m=\u001b[39m dtypes\u001b[39m.\u001b[39mas_dtype(dtype)\u001b[39m.\u001b[39mas_datatype_enum\n\u001b[0;32m    102\u001b[0m ctx\u001b[39m.\u001b[39mensure_initialized()\n\u001b[1;32m--> 103\u001b[0m \u001b[39mreturn\u001b[39;00m ops\u001b[39m.\u001b[39;49mEagerTensor(value, ctx\u001b[39m.\u001b[39;49mdevice_name, dtype)\n",
      "\u001b[1;31mValueError\u001b[0m: Failed to convert a NumPy array to a Tensor (Unsupported object type float)."
     ]
    }
   ],
   "source": [
    "# Reshape X to 2D format (samples, features)\n",
    "\n",
    "X = df_yvo.values[:, 1:13]\n",
    "print(X)\n",
    "\n",
    "\n",
    "# Create a sliding window of X with the specified window and step sizes\n",
    "X_windows = np.array([X[i:i+window_size,:] for i in range(0,X.shape[0]-window_size+1,step_size)])\n",
    "\n",
    "# Reshape X_windows to 3D format (samples, timesteps, features)\n",
    "timesteps = X_windows.shape[1]\n",
    "n_features = X_windows.shape[2]\n",
    "print(n_features)\n",
    "X_windows = X_windows.reshape(-1, timesteps, n_features)\n",
    "\n",
    "# Create the corresponding y labels for the sliding windows\n",
    "\n",
    "# Split the dataset into training and testing sets\n",
    "\n",
    "y_pred = best_model.predict(X_windows)"
   ]
  },
  {
   "cell_type": "code",
   "execution_count": 65,
   "metadata": {},
   "outputs": [],
   "source": [
    "df_yvo['time'] = pd.to_datetime(df['time'])\n",
    "df_yvo['time'] = df_yvo['time'].astype('int64')//1e9\n"
   ]
  },
  {
   "cell_type": "code",
   "execution_count": 68,
   "metadata": {},
   "outputs": [
    {
     "data": {
      "text/html": [
       "<div>\n",
       "<style scoped>\n",
       "    .dataframe tbody tr th:only-of-type {\n",
       "        vertical-align: middle;\n",
       "    }\n",
       "\n",
       "    .dataframe tbody tr th {\n",
       "        vertical-align: top;\n",
       "    }\n",
       "\n",
       "    .dataframe thead th {\n",
       "        text-align: right;\n",
       "    }\n",
       "</style>\n",
       "<table border=\"1\" class=\"dataframe\">\n",
       "  <thead>\n",
       "    <tr style=\"text-align: right;\">\n",
       "      <th></th>\n",
       "      <th>time</th>\n",
       "      <th>Accelerometer_x</th>\n",
       "      <th>Accelerometer_y</th>\n",
       "      <th>Accelerometer_z</th>\n",
       "      <th>Gyroscope_x</th>\n",
       "      <th>Gyroscope_y</th>\n",
       "      <th>Gyroscope_z</th>\n",
       "      <th>Magnetometer_x</th>\n",
       "      <th>Magnetometer_y</th>\n",
       "      <th>Magnetometer_z</th>\n",
       "      <th>Orientation_qx</th>\n",
       "      <th>Orientation_qy</th>\n",
       "      <th>Orientation_qz</th>\n",
       "      <th>class</th>\n",
       "    </tr>\n",
       "  </thead>\n",
       "  <tbody>\n",
       "    <tr>\n",
       "      <th>0</th>\n",
       "      <td>0.0</td>\n",
       "      <td>-0.255401</td>\n",
       "      <td>0.062774</td>\n",
       "      <td>-0.068917</td>\n",
       "      <td>-0.060281</td>\n",
       "      <td>-0.086030</td>\n",
       "      <td>0.122743</td>\n",
       "      <td>-20.240265</td>\n",
       "      <td>14.888126</td>\n",
       "      <td>-45.427979</td>\n",
       "      <td>0.024111</td>\n",
       "      <td>-0.016885</td>\n",
       "      <td>-0.955092</td>\n",
       "      <td>Velofahren</td>\n",
       "    </tr>\n",
       "    <tr>\n",
       "      <th>1</th>\n",
       "      <td>0.0</td>\n",
       "      <td>-0.648256</td>\n",
       "      <td>-0.254964</td>\n",
       "      <td>-0.162107</td>\n",
       "      <td>-0.010253</td>\n",
       "      <td>0.068555</td>\n",
       "      <td>0.066702</td>\n",
       "      <td>-20.279266</td>\n",
       "      <td>14.997738</td>\n",
       "      <td>-45.587585</td>\n",
       "      <td>0.024022</td>\n",
       "      <td>-0.016732</td>\n",
       "      <td>-0.954952</td>\n",
       "      <td>Velofahren</td>\n",
       "    </tr>\n",
       "    <tr>\n",
       "      <th>2</th>\n",
       "      <td>0.0</td>\n",
       "      <td>-0.344606</td>\n",
       "      <td>-0.131997</td>\n",
       "      <td>-0.244141</td>\n",
       "      <td>0.080815</td>\n",
       "      <td>0.189325</td>\n",
       "      <td>0.060628</td>\n",
       "      <td>-20.084534</td>\n",
       "      <td>14.874027</td>\n",
       "      <td>-45.695648</td>\n",
       "      <td>0.024700</td>\n",
       "      <td>-0.016706</td>\n",
       "      <td>-0.954835</td>\n",
       "      <td>Velofahren</td>\n",
       "    </tr>\n",
       "    <tr>\n",
       "      <th>3</th>\n",
       "      <td>0.0</td>\n",
       "      <td>-0.108857</td>\n",
       "      <td>-0.059905</td>\n",
       "      <td>-0.767689</td>\n",
       "      <td>0.243680</td>\n",
       "      <td>0.251499</td>\n",
       "      <td>0.070379</td>\n",
       "      <td>-19.931274</td>\n",
       "      <td>14.768127</td>\n",
       "      <td>-45.841370</td>\n",
       "      <td>0.026031</td>\n",
       "      <td>-0.017140</td>\n",
       "      <td>-0.954689</td>\n",
       "      <td>Velofahren</td>\n",
       "    </tr>\n",
       "    <tr>\n",
       "      <th>4</th>\n",
       "      <td>0.0</td>\n",
       "      <td>-0.026243</td>\n",
       "      <td>0.051545</td>\n",
       "      <td>-1.267084</td>\n",
       "      <td>0.402980</td>\n",
       "      <td>0.217648</td>\n",
       "      <td>0.060937</td>\n",
       "      <td>-19.975128</td>\n",
       "      <td>14.635101</td>\n",
       "      <td>-46.086731</td>\n",
       "      <td>0.027690</td>\n",
       "      <td>-0.018361</td>\n",
       "      <td>-0.954529</td>\n",
       "      <td>Velofahren</td>\n",
       "    </tr>\n",
       "    <tr>\n",
       "      <th>...</th>\n",
       "      <td>...</td>\n",
       "      <td>...</td>\n",
       "      <td>...</td>\n",
       "      <td>...</td>\n",
       "      <td>...</td>\n",
       "      <td>...</td>\n",
       "      <td>...</td>\n",
       "      <td>...</td>\n",
       "      <td>...</td>\n",
       "      <td>...</td>\n",
       "      <td>...</td>\n",
       "      <td>...</td>\n",
       "      <td>...</td>\n",
       "      <td>...</td>\n",
       "    </tr>\n",
       "    <tr>\n",
       "      <th>95</th>\n",
       "      <td>0.0</td>\n",
       "      <td>0.486918</td>\n",
       "      <td>-1.994945</td>\n",
       "      <td>0.285918</td>\n",
       "      <td>1.898905</td>\n",
       "      <td>0.541021</td>\n",
       "      <td>-0.117545</td>\n",
       "      <td>19.109344</td>\n",
       "      <td>38.572220</td>\n",
       "      <td>-31.641296</td>\n",
       "      <td>0.593289</td>\n",
       "      <td>0.337320</td>\n",
       "      <td>-0.650030</td>\n",
       "      <td>Velofahren</td>\n",
       "    </tr>\n",
       "    <tr>\n",
       "      <th>96</th>\n",
       "      <td>0.0</td>\n",
       "      <td>0.857179</td>\n",
       "      <td>-2.566238</td>\n",
       "      <td>0.452565</td>\n",
       "      <td>1.784690</td>\n",
       "      <td>0.615688</td>\n",
       "      <td>-0.008192</td>\n",
       "      <td>19.217743</td>\n",
       "      <td>38.056293</td>\n",
       "      <td>-31.995117</td>\n",
       "      <td>0.591982</td>\n",
       "      <td>0.330516</td>\n",
       "      <td>-0.651260</td>\n",
       "      <td>Velofahren</td>\n",
       "    </tr>\n",
       "    <tr>\n",
       "      <th>97</th>\n",
       "      <td>0.0</td>\n",
       "      <td>0.786069</td>\n",
       "      <td>-3.395395</td>\n",
       "      <td>0.661277</td>\n",
       "      <td>1.634128</td>\n",
       "      <td>0.538407</td>\n",
       "      <td>0.151720</td>\n",
       "      <td>19.217743</td>\n",
       "      <td>38.056293</td>\n",
       "      <td>-31.995117</td>\n",
       "      <td>0.591037</td>\n",
       "      <td>0.323713</td>\n",
       "      <td>-0.652460</td>\n",
       "      <td>Velofahren</td>\n",
       "    </tr>\n",
       "    <tr>\n",
       "      <th>98</th>\n",
       "      <td>0.0</td>\n",
       "      <td>1.329055</td>\n",
       "      <td>-3.588824</td>\n",
       "      <td>0.892727</td>\n",
       "      <td>1.393255</td>\n",
       "      <td>0.509532</td>\n",
       "      <td>0.365632</td>\n",
       "      <td>19.510803</td>\n",
       "      <td>37.516296</td>\n",
       "      <td>-32.750549</td>\n",
       "      <td>0.590502</td>\n",
       "      <td>0.317059</td>\n",
       "      <td>-0.653815</td>\n",
       "      <td>Velofahren</td>\n",
       "    </tr>\n",
       "    <tr>\n",
       "      <th>99</th>\n",
       "      <td>0.0</td>\n",
       "      <td>1.200010</td>\n",
       "      <td>-4.182302</td>\n",
       "      <td>1.489524</td>\n",
       "      <td>1.003291</td>\n",
       "      <td>0.336160</td>\n",
       "      <td>0.528288</td>\n",
       "      <td>19.793091</td>\n",
       "      <td>36.902847</td>\n",
       "      <td>-33.234375</td>\n",
       "      <td>0.590524</td>\n",
       "      <td>0.310977</td>\n",
       "      <td>-0.655206</td>\n",
       "      <td>Velofahren</td>\n",
       "    </tr>\n",
       "  </tbody>\n",
       "</table>\n",
       "<p>100 rows × 14 columns</p>\n",
       "</div>"
      ],
      "text/plain": [
       "    time  Accelerometer_x  Accelerometer_y  Accelerometer_z  Gyroscope_x  \\\n",
       "0    0.0        -0.255401         0.062774        -0.068917    -0.060281   \n",
       "1    0.0        -0.648256        -0.254964        -0.162107    -0.010253   \n",
       "2    0.0        -0.344606        -0.131997        -0.244141     0.080815   \n",
       "3    0.0        -0.108857        -0.059905        -0.767689     0.243680   \n",
       "4    0.0        -0.026243         0.051545        -1.267084     0.402980   \n",
       "..   ...              ...              ...              ...          ...   \n",
       "95   0.0         0.486918        -1.994945         0.285918     1.898905   \n",
       "96   0.0         0.857179        -2.566238         0.452565     1.784690   \n",
       "97   0.0         0.786069        -3.395395         0.661277     1.634128   \n",
       "98   0.0         1.329055        -3.588824         0.892727     1.393255   \n",
       "99   0.0         1.200010        -4.182302         1.489524     1.003291   \n",
       "\n",
       "    Gyroscope_y  Gyroscope_z  Magnetometer_x  Magnetometer_y  Magnetometer_z  \\\n",
       "0     -0.086030     0.122743      -20.240265       14.888126      -45.427979   \n",
       "1      0.068555     0.066702      -20.279266       14.997738      -45.587585   \n",
       "2      0.189325     0.060628      -20.084534       14.874027      -45.695648   \n",
       "3      0.251499     0.070379      -19.931274       14.768127      -45.841370   \n",
       "4      0.217648     0.060937      -19.975128       14.635101      -46.086731   \n",
       "..          ...          ...             ...             ...             ...   \n",
       "95     0.541021    -0.117545       19.109344       38.572220      -31.641296   \n",
       "96     0.615688    -0.008192       19.217743       38.056293      -31.995117   \n",
       "97     0.538407     0.151720       19.217743       38.056293      -31.995117   \n",
       "98     0.509532     0.365632       19.510803       37.516296      -32.750549   \n",
       "99     0.336160     0.528288       19.793091       36.902847      -33.234375   \n",
       "\n",
       "    Orientation_qx  Orientation_qy  Orientation_qz       class  \n",
       "0         0.024111       -0.016885       -0.955092  Velofahren  \n",
       "1         0.024022       -0.016732       -0.954952  Velofahren  \n",
       "2         0.024700       -0.016706       -0.954835  Velofahren  \n",
       "3         0.026031       -0.017140       -0.954689  Velofahren  \n",
       "4         0.027690       -0.018361       -0.954529  Velofahren  \n",
       "..             ...             ...             ...         ...  \n",
       "95        0.593289        0.337320       -0.650030  Velofahren  \n",
       "96        0.591982        0.330516       -0.651260  Velofahren  \n",
       "97        0.591037        0.323713       -0.652460  Velofahren  \n",
       "98        0.590502        0.317059       -0.653815  Velofahren  \n",
       "99        0.590524        0.310977       -0.655206  Velofahren  \n",
       "\n",
       "[100 rows x 14 columns]"
      ]
     },
     "execution_count": 68,
     "metadata": {},
     "output_type": "execute_result"
    }
   ],
   "source": [
    "\n",
    "df_yvo['time'] = df_yvo['time'].astype('int64')//1e9\n",
    "df_yvo.head(100)"
   ]
  },
  {
   "cell_type": "code",
   "execution_count": null,
   "metadata": {},
   "outputs": [],
   "source": [
    "# Compare Baseline vs best_model\n"
   ]
  },
  {
   "cell_type": "code",
   "execution_count": null,
   "metadata": {},
   "outputs": [],
   "source": [
    "# plot graph for learning curve and loss curve from baseline and best_model"
   ]
  },
  {
   "cell_type": "code",
   "execution_count": 29,
   "metadata": {},
   "outputs": [
    {
     "name": "stdout",
     "output_type": "stream",
     "text": [
      "Model: \"sequential_1\"\n",
      "_________________________________________________________________\n",
      " Layer (type)                Output Shape              Param #   \n",
      "=================================================================\n",
      " conv1d_1 (Conv1D)           (None, 1, 64)             1600      \n",
      "                                                                 \n",
      " lstm_1 (LSTM)               (None, 100)               66000     \n",
      "                                                                 \n",
      " dense_1 (Dense)             (None, 6)                 606       \n",
      "                                                                 \n",
      "=================================================================\n",
      "Total params: 68,206\n",
      "Trainable params: 68,206\n",
      "Non-trainable params: 0\n",
      "_________________________________________________________________\n"
     ]
    }
   ],
   "source": [
    "# summarise best model\n",
    "best_model.summary()\n"
   ]
  },
  {
   "cell_type": "code",
   "execution_count": null,
   "metadata": {},
   "outputs": [],
   "source": [
    "# print loss and accuracy for best model over epoch and steps plot"
   ]
  },
  {
   "cell_type": "code",
   "execution_count": null,
   "metadata": {},
   "outputs": [
    {
     "name": "stdout",
     "output_type": "stream",
     "text": [
      "16000/16000 [==============================] - 10s 603us/step\n"
     ]
    }
   ],
   "source": [
    "y_pred = model.predict(X_test)"
   ]
  },
  {
   "cell_type": "code",
   "execution_count": null,
   "metadata": {},
   "outputs": [
    {
     "name": "stdout",
     "output_type": "stream",
     "text": [
      "16000/16000 [==============================] - 11s 710us/step - loss: 0.2796 - accuracy: 0.9057\n"
     ]
    },
    {
     "data": {
      "text/plain": [
       "[0.27957311272621155, 0.9057142734527588]"
      ]
     },
     "execution_count": 36,
     "metadata": {},
     "output_type": "execute_result"
    }
   ],
   "source": [
    "model.evaluate(X_test, y_test)"
   ]
  },
  {
   "cell_type": "code",
   "execution_count": 36,
   "metadata": {},
   "outputs": [
    {
     "name": "stdout",
     "output_type": "stream",
     "text": [
      "16000/16000 [==============================] - 14s 880us/step\n"
     ]
    },
    {
     "ename": "ValueError",
     "evalue": "Classification metrics can't handle a mix of multilabel-indicator and multiclass targets",
     "output_type": "error",
     "traceback": [
      "\u001b[1;31m---------------------------------------------------------------------------\u001b[0m",
      "\u001b[1;31mValueError\u001b[0m                                Traceback (most recent call last)",
      "Cell \u001b[1;32mIn[36], line 6\u001b[0m\n\u001b[0;32m      3\u001b[0m \u001b[39mimport\u001b[39;00m \u001b[39mmatplotlib\u001b[39;00m\u001b[39m.\u001b[39;00m\u001b[39mpyplot\u001b[39;00m \u001b[39mas\u001b[39;00m \u001b[39mplt\u001b[39;00m\n\u001b[0;32m      4\u001b[0m y_pred \u001b[39m=\u001b[39m best_model\u001b[39m.\u001b[39mpredict(x_test)\n\u001b[1;32m----> 6\u001b[0m cm \u001b[39m=\u001b[39m confusion_matrix(y_test, y_pred\u001b[39m.\u001b[39;49margmax(axis\u001b[39m=\u001b[39;49m\u001b[39m1\u001b[39;49m))\n\u001b[0;32m      7\u001b[0m disp \u001b[39m=\u001b[39m ConfusionMatrixDisplay(confusion_matrix\u001b[39m=\u001b[39mcm, display_labels\u001b[39m=\u001b[39mle\u001b[39m.\u001b[39mclasses_)\n\u001b[0;32m      8\u001b[0m disp\u001b[39m.\u001b[39mplot()\n",
      "File \u001b[1;32mc:\\Python311\\Lib\\site-packages\\sklearn\\metrics\\_classification.py:317\u001b[0m, in \u001b[0;36mconfusion_matrix\u001b[1;34m(y_true, y_pred, labels, sample_weight, normalize)\u001b[0m\n\u001b[0;32m    232\u001b[0m \u001b[39mdef\u001b[39;00m \u001b[39mconfusion_matrix\u001b[39m(\n\u001b[0;32m    233\u001b[0m     y_true, y_pred, \u001b[39m*\u001b[39m, labels\u001b[39m=\u001b[39m\u001b[39mNone\u001b[39;00m, sample_weight\u001b[39m=\u001b[39m\u001b[39mNone\u001b[39;00m, normalize\u001b[39m=\u001b[39m\u001b[39mNone\u001b[39;00m\n\u001b[0;32m    234\u001b[0m ):\n\u001b[0;32m    235\u001b[0m \u001b[39m    \u001b[39m\u001b[39m\"\"\"Compute confusion matrix to evaluate the accuracy of a classification.\u001b[39;00m\n\u001b[0;32m    236\u001b[0m \n\u001b[0;32m    237\u001b[0m \u001b[39m    By definition a confusion matrix :math:`C` is such that :math:`C_{i, j}`\u001b[39;00m\n\u001b[1;32m   (...)\u001b[0m\n\u001b[0;32m    315\u001b[0m \u001b[39m    (0, 2, 1, 1)\u001b[39;00m\n\u001b[0;32m    316\u001b[0m \u001b[39m    \"\"\"\u001b[39;00m\n\u001b[1;32m--> 317\u001b[0m     y_type, y_true, y_pred \u001b[39m=\u001b[39m _check_targets(y_true, y_pred)\n\u001b[0;32m    318\u001b[0m     \u001b[39mif\u001b[39;00m y_type \u001b[39mnot\u001b[39;00m \u001b[39min\u001b[39;00m (\u001b[39m\"\u001b[39m\u001b[39mbinary\u001b[39m\u001b[39m\"\u001b[39m, \u001b[39m\"\u001b[39m\u001b[39mmulticlass\u001b[39m\u001b[39m\"\u001b[39m):\n\u001b[0;32m    319\u001b[0m         \u001b[39mraise\u001b[39;00m \u001b[39mValueError\u001b[39;00m(\u001b[39m\"\u001b[39m\u001b[39m%s\u001b[39;00m\u001b[39m is not supported\u001b[39m\u001b[39m\"\u001b[39m \u001b[39m%\u001b[39m y_type)\n",
      "File \u001b[1;32mc:\\Python311\\Lib\\site-packages\\sklearn\\metrics\\_classification.py:95\u001b[0m, in \u001b[0;36m_check_targets\u001b[1;34m(y_true, y_pred)\u001b[0m\n\u001b[0;32m     92\u001b[0m     y_type \u001b[39m=\u001b[39m {\u001b[39m\"\u001b[39m\u001b[39mmulticlass\u001b[39m\u001b[39m\"\u001b[39m}\n\u001b[0;32m     94\u001b[0m \u001b[39mif\u001b[39;00m \u001b[39mlen\u001b[39m(y_type) \u001b[39m>\u001b[39m \u001b[39m1\u001b[39m:\n\u001b[1;32m---> 95\u001b[0m     \u001b[39mraise\u001b[39;00m \u001b[39mValueError\u001b[39;00m(\n\u001b[0;32m     96\u001b[0m         \u001b[39m\"\u001b[39m\u001b[39mClassification metrics can\u001b[39m\u001b[39m'\u001b[39m\u001b[39mt handle a mix of \u001b[39m\u001b[39m{0}\u001b[39;00m\u001b[39m and \u001b[39m\u001b[39m{1}\u001b[39;00m\u001b[39m targets\u001b[39m\u001b[39m\"\u001b[39m\u001b[39m.\u001b[39mformat(\n\u001b[0;32m     97\u001b[0m             type_true, type_pred\n\u001b[0;32m     98\u001b[0m         )\n\u001b[0;32m     99\u001b[0m     )\n\u001b[0;32m    101\u001b[0m \u001b[39m# We can't have more than one value on y_type => The set is no more needed\u001b[39;00m\n\u001b[0;32m    102\u001b[0m y_type \u001b[39m=\u001b[39m y_type\u001b[39m.\u001b[39mpop()\n",
      "\u001b[1;31mValueError\u001b[0m: Classification metrics can't handle a mix of multilabel-indicator and multiclass targets"
     ]
    }
   ],
   "source": [
    "# plot a confusion matrix for not mulitclass classification\n",
    "from sklearn.metrics import confusion_matrix, ConfusionMatrixDisplay\n",
    "import matplotlib.pyplot as plt\n",
    "y_pred = best_model.predict(x_test)\n",
    "\n",
    "cm = confusion_matrix(y_test, y_pred.argmax(axis=1))\n",
    "disp = ConfusionMatrixDisplay(confusion_matrix=cm, display_labels=le.classes_)\n",
    "disp.plot()\n",
    "plt.show()"
   ]
  },
  {
   "cell_type": "code",
   "execution_count": 13,
   "metadata": {},
   "outputs": [
    {
     "name": "stdout",
     "output_type": "stream",
     "text": [
      "16000/16000 [==============================] - 21s 1ms/step\n"
     ]
    },
    {
     "data": {
      "image/png": "[encoded data removed]",
      "text/plain": [
       "<Figure size 640x480 with 2 Axes>"
      ]
     },
     "metadata": {},
     "output_type": "display_data"
    },
    {
     "data": {
      "text/plain": [
       "array([0.96918173, 0.98267626, 0.99574609, 0.99106698, 0.93446446,\n",
       "       0.98169706])"
      ]
     },
     "metadata": {},
     "output_type": "display_data"
    }
   ],
   "source": [
    "from sklearn.metrics import confusion_matrix, ConfusionMatrixDisplay\n",
    "import matplotlib.pyplot as plt\n",
    "#for multiclass classification\n",
    "y_pred = best_model.predict(x_test)\n",
    "y_test_labels = y_test.argmax(axis=1)\n",
    "y_pred_labels = y_pred.argmax(axis=1)\n",
    "\n",
    "cm = confusion_matrix(y_test_labels, y_pred_labels)\n",
    "disp = ConfusionMatrixDisplay(confusion_matrix=cm, display_labels=le.classes_)\n",
    "# get f1 score of each class\n",
    "from sklearn.metrics import f1_score\n",
    "f1 = f1_score(y_test_labels, y_pred_labels, average=None)\n",
    "# get f1 score of each class\n",
    "\n",
    "disp.plot()\n",
    "plt.show()\n",
    "display(f1)"
   ]
  },
  {
   "cell_type": "code",
   "execution_count": null,
   "metadata": {},
   "outputs": [
    {
     "name": "stderr",
     "output_type": "stream",
     "text": [
      "A subdirectory or file -p already exists.\n",
      "Error occurred while processing: -p.\n",
      "A subdirectory or file saved_model already exists.\n",
      "Error occurred while processing: saved_model.\n"
     ]
    },
    {
     "name": "stdout",
     "output_type": "stream",
     "text": [
      "INFO:tensorflow:Assets written to: saved_model/sensor_model\\assets\n"
     ]
    }
   ],
   "source": [
    "# Export Model for using in tensorflow.js\n",
    "!mkdir -p saved_model\n",
    "best_model.save('saved_model/sensor_model')\n",
    "best_model.save('saved_model/sensor_model.h5')"
   ]
  },
  {
   "cell_type": "code",
   "execution_count": null,
   "metadata": {},
   "outputs": [],
   "source": [
    "# Save the weight for the Js Model\n",
    "best_model.save_weights('./checkpoints/my_checkpoint')\n"
   ]
  },
  {
   "cell_type": "code",
   "execution_count": null,
   "metadata": {},
   "outputs": [],
   "source": [
    "# upload model to server to download it on tensorflow js"
   ]
  },
  {
   "cell_type": "code",
   "execution_count": null,
   "metadata": {},
   "outputs": [
    {
     "ename": "NameError",
     "evalue": "name 'dill' is not defined",
     "output_type": "error",
     "traceback": [
      "\u001b[1;31m---------------------------------------------------------------------------\u001b[0m",
      "\u001b[1;31mNameError\u001b[0m                                 Traceback (most recent call last)",
      "Cell \u001b[1;32mIn[68], line 1\u001b[0m\n\u001b[1;32m----> 1\u001b[0m dill\u001b[39m.\u001b[39mdump_session(\u001b[39m'\u001b[39m\u001b[39mnotebook_env.db\u001b[39m\u001b[39m'\u001b[39m)\n",
      "\u001b[1;31mNameError\u001b[0m: name 'dill' is not defined"
     ]
    }
   ],
   "source": [
    "dill.dump_session('notebook_env.db')"
   ]
  }
 ],
 "metadata": {
  "kernelspec": {
   "display_name": "Python 3",
   "language": "python",
   "name": "python3"
  },
  "language_info": {
   "codemirror_mode": {
    "name": "ipython",
    "version": 3
   },
   "file_extension": ".py",
   "mimetype": "text/x-python",
   "name": "python",
   "nbconvert_exporter": "python",
   "pygments_lexer": "ipython3",
   "version": "3.11.0"
  },
  "orig_nbformat": 4,
  "vscode": {
   "interpreter": {
    "hash": "c261aea317cc0286b3b3261fbba9abdec21eaa57589985bb7a274bf54d6cc0a7"
   }
  }
 },
 "nbformat": 4,
 "nbformat_minor": 2
}
