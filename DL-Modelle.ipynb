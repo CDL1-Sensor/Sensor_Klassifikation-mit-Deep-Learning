{
 "cells": [
  {
   "attachments": {},
   "cell_type": "markdown",
   "metadata": {},
   "source": [
    "# Sensor Based Activity Recoginition \n",
    "Challenge: cdl1 - Sensor based Activity Recognition  \n",
    "Team: Lea Bütler, Manjavy Kirupa, Etienne Roulet, Si Ben Tran  \n",
    "\n",
    "Aufgabe: DL Modell erstellen\n",
    "\n",
    "Hier in diesem Notebook erstellen wir unsere Deep Learning Modelle."
   ]
  },
  {
   "cell_type": "code",
   "execution_count": 2,
   "metadata": {},
   "outputs": [
    {
     "name": "stdout",
     "output_type": "stream",
     "text": [
      "[PhysicalDevice(name='/physical_device:CPU:0', device_type='CPU')]\n"
     ]
    }
   ],
   "source": [
    "import tensorflow as tf\n",
    "from sklearn.model_selection import KFold\n",
    "import numpy as np\n",
    "import logging\n",
    "from datetime import datetime\n",
    "import dataclasses\n",
    "import pandas as pd\n",
    "import tensorflow as tf\n",
    "from sklearn.preprocessing import LabelEncoder\n",
    "from sklearn import model_selection as ms\n",
    "from sklearn.model_selection import train_test_split, TimeSeriesSplit\n",
    "from keras.utils import to_categorical\n",
    "from sklearn.model_selection import train_test_split\n",
    "from keras.utils import to_categorical\n",
    "import os\n",
    "from tensorflow.keras.callbacks import TensorBoard\n",
    "\n",
    "tf.debugging.set_log_device_placement(False)\n",
    "\n",
    "# datetime as filename for logging\n",
    "now = datetime.now()\n",
    "date_time_string = now.strftime(\"%Y-%m-%d_%H-%M-%S\")\n",
    "\n",
    "logging.basicConfig(level=logging.INFO, filename = f\"{date_time_string}.txt\", filemode='a')\n",
    "print(tf.config.list_physical_devices())"
   ]
  },
  {
   "cell_type": "code",
   "execution_count": 3,
   "metadata": {},
   "outputs": [
    {
     "name": "stderr",
     "output_type": "stream",
     "text": [
      "UsageError: Line magic function `%tensorboard` not found.\n"
     ]
    }
   ],
   "source": [
    "%tensorboard --logdir logs"
   ]
  },
  {
   "cell_type": "code",
   "execution_count": 4,
   "metadata": {},
   "outputs": [],
   "source": [
    "from dataclasses import dataclass\n",
    "# Static Parameters\n",
    "@dataclass\n",
    "class Parameters():\n",
    "    batch_size: int = 128\n",
    "    epochs: int = 10\n",
    "    verbosity: str = \"auto\"\n",
    "    step_size: int = 374\n",
    "    number_folds: int = 2\n",
    "    output_size: int = 6"
   ]
  },
  {
   "cell_type": "code",
   "execution_count": 5,
   "metadata": {},
   "outputs": [
    {
     "data": {
      "text/html": [
       "<div>\n",
       "<style scoped>\n",
       "    .dataframe tbody tr th:only-of-type {\n",
       "        vertical-align: middle;\n",
       "    }\n",
       "\n",
       "    .dataframe tbody tr th {\n",
       "        vertical-align: top;\n",
       "    }\n",
       "\n",
       "    .dataframe thead th {\n",
       "        text-align: right;\n",
       "    }\n",
       "</style>\n",
       "<table border=\"1\" class=\"dataframe\">\n",
       "  <thead>\n",
       "    <tr style=\"text-align: right;\">\n",
       "      <th></th>\n",
       "      <th>Unnamed: 0</th>\n",
       "      <th>time</th>\n",
       "      <th>Accelerometer_x</th>\n",
       "      <th>Accelerometer_y</th>\n",
       "      <th>Accelerometer_z</th>\n",
       "      <th>Gyroscope_x</th>\n",
       "      <th>Gyroscope_y</th>\n",
       "      <th>Gyroscope_z</th>\n",
       "      <th>Magnetometer_x</th>\n",
       "      <th>Magnetometer_y</th>\n",
       "      <th>Magnetometer_z</th>\n",
       "      <th>Orientation_qx</th>\n",
       "      <th>Orientation_qy</th>\n",
       "      <th>Orientation_qz</th>\n",
       "      <th>id</th>\n",
       "      <th>user</th>\n",
       "      <th>class</th>\n",
       "      <th>id_combined</th>\n",
       "    </tr>\n",
       "  </thead>\n",
       "  <tbody>\n",
       "    <tr>\n",
       "      <th>0</th>\n",
       "      <td>1</td>\n",
       "      <td>2023-02-27 15:02:17.156</td>\n",
       "      <td>0.0</td>\n",
       "      <td>9.722</td>\n",
       "      <td>1.278</td>\n",
       "      <td>0.0</td>\n",
       "      <td>0.0</td>\n",
       "      <td>0.0</td>\n",
       "      <td>0.0</td>\n",
       "      <td>0.0</td>\n",
       "      <td>0.0</td>\n",
       "      <td>-0.21775</td>\n",
       "      <td>-0.719579</td>\n",
       "      <td>0.631111</td>\n",
       "      <td>01_SamsungA22-2023-02-27_15-02-03</td>\n",
       "      <td>Ben_Tran</td>\n",
       "      <td>Laufen</td>\n",
       "      <td>01_SamsungA22-2023-02-27_15-02-03Ben_TranLaufen</td>\n",
       "    </tr>\n",
       "  </tbody>\n",
       "</table>\n",
       "</div>"
      ],
      "text/plain": [
       "   Unnamed: 0                     time  Accelerometer_x  Accelerometer_y  \\\n",
       "0           1  2023-02-27 15:02:17.156              0.0            9.722   \n",
       "\n",
       "   Accelerometer_z  Gyroscope_x  Gyroscope_y  Gyroscope_z  Magnetometer_x  \\\n",
       "0            1.278          0.0          0.0          0.0             0.0   \n",
       "\n",
       "   Magnetometer_y  Magnetometer_z  Orientation_qx  Orientation_qy  \\\n",
       "0             0.0             0.0        -0.21775       -0.719579   \n",
       "\n",
       "   Orientation_qz                                 id      user   class  \\\n",
       "0        0.631111  01_SamsungA22-2023-02-27_15-02-03  Ben_Tran  Laufen   \n",
       "\n",
       "                                       id_combined  \n",
       "0  01_SamsungA22-2023-02-27_15-02-03Ben_TranLaufen  "
      ]
     },
     "execution_count": 5,
     "metadata": {},
     "output_type": "execute_result"
    }
   ],
   "source": [
    "# read the CSV file into a DataFrame\n",
    "df = pd.read_csv(\"Alle_Messungen_trimmed.csv\") \n",
    "df.head(1)"
   ]
  },
  {
   "cell_type": "code",
   "execution_count": 6,
   "metadata": {},
   "outputs": [],
   "source": [
    "# convert the string time column to datetime\n",
    "epoch = pd.Timestamp('1970-01-01')\n",
    "\n",
    "df['time'] = pd.to_datetime(df['time'])\n",
    "df['time'] = (df['time'] - epoch).apply(lambda x: int(x.total_seconds() * 1000))"
   ]
  },
  {
   "cell_type": "code",
   "execution_count": 7,
   "metadata": {},
   "outputs": [],
   "source": [
    "# drop the columns that are not needed\n",
    "df = df.drop(columns=[\"id\", \"user\", \"id_combined\"])\n",
    "df.drop(['Unnamed: 0'], axis=1, inplace=True)\n",
    "# get all types of the df\n",
    "#df['time'] = pd.to_datetime(df['time'])\n",
    "#df['time'] = df['time'].astype('int64')//1e9\n",
    "le = LabelEncoder()\n",
    "df[\"class\"] = le.fit_transform(df[\"class\"])\n"
   ]
  },
  {
   "cell_type": "code",
   "execution_count": 8,
   "metadata": {},
   "outputs": [],
   "source": [
    "# without rolling windows but with timesteps\n",
    "X = df.values[:, 1:13]\n",
    "y = df.values[:, 13]\n",
    "\n",
    "# Reshape X to 3D format (samples, timesteps, features)\n",
    "timesteps = 1  # You can choose a different number of timesteps based on the nature of your data\n",
    "n_features = X.shape[1]\n",
    "X = X.reshape(-1, timesteps, n_features)\n",
    "\n",
    "# Split the dataset into training and testing sets\n",
    "X_train, X_test, y_train, y_test = train_test_split(X, y, test_size=0.2, random_state=42)\n",
    "\n",
    "# Convert the labels to one-hot encoding\n",
    "y_train = to_categorical(y_train, num_classes=6)\n",
    "y_test = to_categorical(y_test, num_classes=6)\n",
    "# calculate_rolling_stats"
   ]
  },
  {
   "cell_type": "code",
   "execution_count": 9,
   "metadata": {},
   "outputs": [],
   "source": [
    "from sklearn.model_selection import TimeSeriesSplit\n",
    "\n",
    "# Set the window size and step size\n",
    "window_size = 5\n",
    "step_size = 1\n",
    "\n",
    "# Reshape X to 2D format (samples, features)\n",
    "X = df.values[:, 1:13]\n",
    "\n",
    "# Define y\n",
    "y = df[\"class\"].values\n",
    "\n",
    "# Create a sliding window of X with the specified window and step sizes\n",
    "X_windows = np.array([X[i:i+window_size,:] for i in range(0,X.shape[0]-window_size+1,step_size)])\n",
    "\n",
    "# Reshape X_windows to 3D format (samples, timesteps, features)\n",
    "timesteps = X_windows.shape[1]\n",
    "n_features = X_windows.shape[2]\n",
    "X_windows = X_windows.reshape(-1, timesteps, n_features)\n",
    "\n",
    "# Create the corresponding y labels for the sliding windows\n",
    "y_windows = np.array([y[i+window_size-1] for i in range(0,X.shape[0]-window_size+1,step_size)])\n",
    "y_windows = to_categorical(y_windows, num_classes=6)\n",
    "\n",
    "# Create the time-series cross-validator\n",
    "tscv = TimeSeriesSplit(n_splits=5)\n",
    "\n",
    "# Split the dataset into training and testing sets using time-series cross-validation\n",
    "for train_index, test_index in tscv.split(X_windows):\n",
    "    X_train, X_test = X_windows[train_index], X_windows[test_index]\n",
    "    y_train, y_test = y_windows[train_index], y_windows[test_index]\n"
   ]
  },
  {
   "cell_type": "code",
   "execution_count": 10,
   "metadata": {},
   "outputs": [],
   "source": [
    "\n",
    "# Set the window size and step size\n",
    "window_size = 5\n",
    "step_size = 1\n",
    "\n",
    "# Reshape X to 2D format (samples, features)\n",
    "X = df.values[:, 1:13]\n",
    "\n",
    "# Define y\n",
    "y = df[\"class\"].values\n",
    "\n",
    "# Create a sliding window of X with the specified window and step sizes\n",
    "X_windows = np.array([X[i:i+window_size,:] for i in range(0,X.shape[0]-window_size+1,step_size)])\n",
    "\n",
    "# Reshape X_windows to 3D format (samples, timesteps, features)\n",
    "timesteps = X_windows.shape[1]\n",
    "n_features = X_windows.shape[2]\n",
    "X_windows = X_windows.reshape(-1, timesteps, n_features)\n",
    "\n",
    "# Create the corresponding y labels for the sliding windows\n",
    "y_windows = np.array([y[i+window_size-1] for i in range(0,X.shape[0]-window_size+1,step_size)])\n",
    "y_windows = to_categorical(y_windows, num_classes=6)\n",
    "\n",
    "# Create the time-series cross-validator\n",
    "tscv = TimeSeriesSplit(n_splits=5)\n",
    "\n",
    "# Split the dataset into training and testing sets using time-series cross-validation\n",
    "for train_index, test_index in tscv.split(X_windows):\n",
    "    X_train, X_test = X_windows[train_index], X_windows[test_index]\n",
    "    y_train, y_test = y_windows[train_index], y_windows[test_index]"
   ]
  },
  {
   "cell_type": "code",
   "execution_count": 11,
   "metadata": {},
   "outputs": [],
   "source": [
    "# log it with logging\n",
    "logging.info(f\"X.shape: {X.shape}, y.shape: {y.shape}, X_train.shape: {X_train.shape}, y_train.shape: {y_train.shape}, X_test.shape: {X_test.shape}, y_test.shape: {y_test.shape}\")"
   ]
  },
  {
   "cell_type": "code",
   "execution_count": 15,
   "metadata": {},
   "outputs": [],
   "source": [
    "# Something like this as first Model\n",
    "def create_model_1():\n",
    "    model = tf.keras.Sequential([\n",
    "        # Add a 1D convolutional layer\n",
    "        tf.keras.layers.Conv1D(filters=128, kernel_size=2, activation='relu', padding='same', input_shape=(timesteps, n_features)),\n",
    "        \n",
    "        tf.keras.layers.LSTM(100, dropout=0.2, recurrent_dropout=0.2),\n",
    "        tf.keras.layers.Dropout(0.2),\n",
    "\n",
    "        # Add a dense output layer\n",
    "        tf.keras.layers.Dense(6, activation='softmax')  # Change activation function based on the nature of the output\n",
    "    ])\n",
    "    model.compile(optimizer='adam',   loss='categorical_crossentropy', metrics=['accuracy', tf.keras.metrics.Precision(), tf.keras.metrics.Recall()])  # Change the loss function based on the nature of the output\n",
    "    return model\n",
    "\n",
    "\n",
    "# Something like this as second Model\n",
    "def create_model_2():\n",
    "    model = tf.keras.Sequential([\n",
    "        # Add a 1D convolutional layer\n",
    "        tf.keras.layers.Conv1D(filters=256, kernel_size=2, activation='relu', padding='same', input_shape=(timesteps, n_features)),\n",
    "        \n",
    "        # Add LSTM layer\n",
    "        tf.keras.layers.LSTM(100, dropout=0.2, recurrent_dropout=0.2),\n",
    "        tf.keras.layers.Dropout(0.2),\n",
    "\n",
    "        # Add a dense output layer\n",
    "        tf.keras.layers.Dense(6, activation='softmax')  # Change activation function based on the nature of the output\n",
    "    ])\n",
    "    model.compile(optimizer='adam',   loss='categorical_crossentropy', metrics=['accuracy', tf.keras.metrics.Precision(), tf.keras.metrics.Recall()])  # Change the loss function based on the nature of the output\n",
    "    return model\n",
    "\n",
    "# Something like this as Third Model\n",
    "def create_model_3():\n",
    "    model = tf.keras.Sequential([\n",
    "        # Add a 1D convolutional layer\n",
    "        tf.keras.layers.Conv1D(filters=64, kernel_size=4, activation='relu', padding='same', input_shape=(timesteps, n_features)),\n",
    "        \n",
    "        tf.keras.layers.LSTM(100, dropout=0.2, recurrent_dropout=0.2),\n",
    "        tf.keras.layers.Dropout(0.2),\n",
    "\n",
    "        # Add a dense output layer\n",
    "        tf.keras.layers.Dense(6, activation='softmax')  # Change activation function based on the nature of the output\n",
    "    ])\n",
    "    model.compile(optimizer='adam',   loss='categorical_crossentropy', metrics=['accuracy', tf.keras.metrics.Precision(), tf.keras.metrics.Recall()])  # Change the loss function based on the nature of the output\n",
    "    return model\n",
    "\n",
    "def create_model_4():\n",
    "    model = tf.keras.Sequential([\n",
    "        # Add a 1D convolutional layer\n",
    "        tf.keras.layers.Conv1D(filters=64, kernel_size=2, activation='relu', padding='same', input_shape=(timesteps, n_features)),\n",
    "        \n",
    "        tf.keras.layers.LSTM(100, dropout=0.2, recurrent_dropout=0.2),\n",
    "        tf.keras.layers.Dropout(0.2),\n",
    "\n",
    "        # Add a dense output layer\n",
    "        tf.keras.layers.Dense(6, activation='softmax')  # Change activation function based on the nature of the output\n",
    "    ])\n",
    "    model.compile(optimizer='adam',   loss='categorical_crossentropy', metrics=['accuracy', tf.keras.metrics.Precision(), tf.keras.metrics.Recall()])  # Change the loss function based on the nature of the output\n",
    "    return model"
   ]
  },
  {
   "cell_type": "code",
   "execution_count": 16,
   "metadata": {},
   "outputs": [
    {
     "name": "stdout",
     "output_type": "stream",
     "text": [
      "Epoch 1/10\n",
      "8130/8130 [==============================] - 157s 19ms/step - loss: 0.1532 - accuracy: 0.9474 - precision: 0.9549 - recall: 0.9407 - val_loss: 0.0903 - val_accuracy: 0.9698 - val_precision: 0.9725 - val_recall: 0.9673\n",
      "Epoch 2/10\n",
      "8130/8130 [==============================] - 156s 19ms/step - loss: 0.0714 - accuracy: 0.9758 - precision: 0.9773 - recall: 0.9744 - val_loss: 0.0673 - val_accuracy: 0.9774 - val_precision: 0.9787 - val_recall: 0.9763\n",
      "Epoch 3/10\n",
      "3251/8130 [==========>...................] - ETA: 1:15 - loss: 0.0566 - accuracy: 0.9809 - precision: 0.9819 - recall: 0.9800"
     ]
    },
    {
     "ename": "KeyboardInterrupt",
     "evalue": "",
     "output_type": "error",
     "traceback": [
      "\u001b[1;31m---------------------------------------------------------------------------\u001b[0m",
      "\u001b[1;31mKeyboardInterrupt\u001b[0m                         Traceback (most recent call last)",
      "Cell \u001b[1;32mIn[16], line 44\u001b[0m\n\u001b[0;32m     42\u001b[0m logging\u001b[39m.\u001b[39minfo(\u001b[39mf\u001b[39m\u001b[39m'\u001b[39m\u001b[39mModel \u001b[39m\u001b[39m{\u001b[39;00mj\u001b[39m+\u001b[39m\u001b[39m1\u001b[39m\u001b[39m}\u001b[39;00m\u001b[39m'\u001b[39m)\n\u001b[0;32m     43\u001b[0m model_name \u001b[39m=\u001b[39m \u001b[39mf\u001b[39m\u001b[39m'\u001b[39m\u001b[39mfold_\u001b[39m\u001b[39m{\u001b[39;00mi\u001b[39m \u001b[39m\u001b[39m+\u001b[39m\u001b[39m \u001b[39m\u001b[39m1\u001b[39m\u001b[39m}\u001b[39;00m\u001b[39m_model_\u001b[39m\u001b[39m{\u001b[39;00mj\u001b[39m \u001b[39m\u001b[39m+\u001b[39m\u001b[39m \u001b[39m\u001b[39m1\u001b[39m\u001b[39m}\u001b[39;00m\u001b[39m'\u001b[39m\n\u001b[1;32m---> 44\u001b[0m model, history \u001b[39m=\u001b[39m train_model_with_tensorboard(model_creator, train_x, train_y, test_x, test_y, model_name)\n\u001b[0;32m     46\u001b[0m test_loss, acc \u001b[39m=\u001b[39m model\u001b[39m.\u001b[39mevaluate(test_x, test_y, verbose\u001b[39m=\u001b[39mParameters\u001b[39m.\u001b[39mverbosity)\n\u001b[0;32m     47\u001b[0m logging\u001b[39m.\u001b[39minfo(\u001b[39mf\u001b[39m\u001b[39m'\u001b[39m\u001b[39mValidation accuracy: \u001b[39m\u001b[39m{\u001b[39;00macc\u001b[39m}\u001b[39;00m\u001b[39m'\u001b[39m)\n",
      "Cell \u001b[1;32mIn[16], line 13\u001b[0m, in \u001b[0;36mtrain_model_with_tensorboard\u001b[1;34m(model_creator, train_x, train_y, test_x, test_y, model_name)\u001b[0m\n\u001b[0;32m     10\u001b[0m tensorboard_callback \u001b[39m=\u001b[39m TensorBoard(log_dir\u001b[39m=\u001b[39mlog_dir, histogram_freq\u001b[39m=\u001b[39m\u001b[39m1\u001b[39m)\n\u001b[0;32m     12\u001b[0m model \u001b[39m=\u001b[39m model_creator()\n\u001b[1;32m---> 13\u001b[0m history \u001b[39m=\u001b[39m model\u001b[39m.\u001b[39;49mfit(\n\u001b[0;32m     14\u001b[0m     train_x, train_y,\n\u001b[0;32m     15\u001b[0m     epochs\u001b[39m=\u001b[39;49mParameters\u001b[39m.\u001b[39;49mepochs,\n\u001b[0;32m     16\u001b[0m     batch_size\u001b[39m=\u001b[39;49mParameters\u001b[39m.\u001b[39;49mbatch_size,\n\u001b[0;32m     17\u001b[0m     validation_data\u001b[39m=\u001b[39;49m(test_x, test_y),\n\u001b[0;32m     18\u001b[0m     verbose\u001b[39m=\u001b[39;49mParameters\u001b[39m.\u001b[39;49mverbosity,\n\u001b[0;32m     19\u001b[0m     callbacks\u001b[39m=\u001b[39;49m[tensorboard_callback]\n\u001b[0;32m     20\u001b[0m )\n\u001b[0;32m     22\u001b[0m \u001b[39mreturn\u001b[39;00m model, history\n",
      "File \u001b[1;32m~\\AppData\\Roaming\\Python\\Python311\\site-packages\\keras\\utils\\traceback_utils.py:65\u001b[0m, in \u001b[0;36mfilter_traceback.<locals>.error_handler\u001b[1;34m(*args, **kwargs)\u001b[0m\n\u001b[0;32m     63\u001b[0m filtered_tb \u001b[39m=\u001b[39m \u001b[39mNone\u001b[39;00m\n\u001b[0;32m     64\u001b[0m \u001b[39mtry\u001b[39;00m:\n\u001b[1;32m---> 65\u001b[0m     \u001b[39mreturn\u001b[39;00m fn(\u001b[39m*\u001b[39;49margs, \u001b[39m*\u001b[39;49m\u001b[39m*\u001b[39;49mkwargs)\n\u001b[0;32m     66\u001b[0m \u001b[39mexcept\u001b[39;00m \u001b[39mException\u001b[39;00m \u001b[39mas\u001b[39;00m e:\n\u001b[0;32m     67\u001b[0m     filtered_tb \u001b[39m=\u001b[39m _process_traceback_frames(e\u001b[39m.\u001b[39m__traceback__)\n",
      "File \u001b[1;32m~\\AppData\\Roaming\\Python\\Python311\\site-packages\\keras\\engine\\training.py:1691\u001b[0m, in \u001b[0;36mModel.fit\u001b[1;34m(self, x, y, batch_size, epochs, verbose, callbacks, validation_split, validation_data, shuffle, class_weight, sample_weight, initial_epoch, steps_per_epoch, validation_steps, validation_batch_size, validation_freq, max_queue_size, workers, use_multiprocessing)\u001b[0m\n\u001b[0;32m   1689\u001b[0m logs \u001b[39m=\u001b[39m tmp_logs\n\u001b[0;32m   1690\u001b[0m end_step \u001b[39m=\u001b[39m step \u001b[39m+\u001b[39m data_handler\u001b[39m.\u001b[39mstep_increment\n\u001b[1;32m-> 1691\u001b[0m callbacks\u001b[39m.\u001b[39;49mon_train_batch_end(end_step, logs)\n\u001b[0;32m   1692\u001b[0m \u001b[39mif\u001b[39;00m \u001b[39mself\u001b[39m\u001b[39m.\u001b[39mstop_training:\n\u001b[0;32m   1693\u001b[0m     \u001b[39mbreak\u001b[39;00m\n",
      "File \u001b[1;32m~\\AppData\\Roaming\\Python\\Python311\\site-packages\\keras\\callbacks.py:475\u001b[0m, in \u001b[0;36mCallbackList.on_train_batch_end\u001b[1;34m(self, batch, logs)\u001b[0m\n\u001b[0;32m    468\u001b[0m \u001b[39m\u001b[39m\u001b[39m\"\"\"Calls the `on_train_batch_end` methods of its callbacks.\u001b[39;00m\n\u001b[0;32m    469\u001b[0m \n\u001b[0;32m    470\u001b[0m \u001b[39mArgs:\u001b[39;00m\n\u001b[0;32m    471\u001b[0m \u001b[39m    batch: Integer, index of batch within the current epoch.\u001b[39;00m\n\u001b[0;32m    472\u001b[0m \u001b[39m    logs: Dict. Aggregated metric results up until this batch.\u001b[39;00m\n\u001b[0;32m    473\u001b[0m \u001b[39m\"\"\"\u001b[39;00m\n\u001b[0;32m    474\u001b[0m \u001b[39mif\u001b[39;00m \u001b[39mself\u001b[39m\u001b[39m.\u001b[39m_should_call_train_batch_hooks:\n\u001b[1;32m--> 475\u001b[0m     \u001b[39mself\u001b[39;49m\u001b[39m.\u001b[39;49m_call_batch_hook(ModeKeys\u001b[39m.\u001b[39;49mTRAIN, \u001b[39m\"\u001b[39;49m\u001b[39mend\u001b[39;49m\u001b[39m\"\u001b[39;49m, batch, logs\u001b[39m=\u001b[39;49mlogs)\n",
      "File \u001b[1;32m~\\AppData\\Roaming\\Python\\Python311\\site-packages\\keras\\callbacks.py:322\u001b[0m, in \u001b[0;36mCallbackList._call_batch_hook\u001b[1;34m(self, mode, hook, batch, logs)\u001b[0m\n\u001b[0;32m    320\u001b[0m     \u001b[39mself\u001b[39m\u001b[39m.\u001b[39m_call_batch_begin_hook(mode, batch, logs)\n\u001b[0;32m    321\u001b[0m \u001b[39melif\u001b[39;00m hook \u001b[39m==\u001b[39m \u001b[39m\"\u001b[39m\u001b[39mend\u001b[39m\u001b[39m\"\u001b[39m:\n\u001b[1;32m--> 322\u001b[0m     \u001b[39mself\u001b[39;49m\u001b[39m.\u001b[39;49m_call_batch_end_hook(mode, batch, logs)\n\u001b[0;32m    323\u001b[0m \u001b[39melse\u001b[39;00m:\n\u001b[0;32m    324\u001b[0m     \u001b[39mraise\u001b[39;00m \u001b[39mValueError\u001b[39;00m(\n\u001b[0;32m    325\u001b[0m         \u001b[39mf\u001b[39m\u001b[39m\"\u001b[39m\u001b[39mUnrecognized hook: \u001b[39m\u001b[39m{\u001b[39;00mhook\u001b[39m}\u001b[39;00m\u001b[39m. \u001b[39m\u001b[39m\"\u001b[39m\n\u001b[0;32m    326\u001b[0m         \u001b[39m'\u001b[39m\u001b[39mExpected values are [\u001b[39m\u001b[39m\"\u001b[39m\u001b[39mbegin\u001b[39m\u001b[39m\"\u001b[39m\u001b[39m, \u001b[39m\u001b[39m\"\u001b[39m\u001b[39mend\u001b[39m\u001b[39m\"\u001b[39m\u001b[39m]\u001b[39m\u001b[39m'\u001b[39m\n\u001b[0;32m    327\u001b[0m     )\n",
      "File \u001b[1;32m~\\AppData\\Roaming\\Python\\Python311\\site-packages\\keras\\callbacks.py:345\u001b[0m, in \u001b[0;36mCallbackList._call_batch_end_hook\u001b[1;34m(self, mode, batch, logs)\u001b[0m\n\u001b[0;32m    342\u001b[0m     batch_time \u001b[39m=\u001b[39m time\u001b[39m.\u001b[39mtime() \u001b[39m-\u001b[39m \u001b[39mself\u001b[39m\u001b[39m.\u001b[39m_batch_start_time\n\u001b[0;32m    343\u001b[0m     \u001b[39mself\u001b[39m\u001b[39m.\u001b[39m_batch_times\u001b[39m.\u001b[39mappend(batch_time)\n\u001b[1;32m--> 345\u001b[0m \u001b[39mself\u001b[39;49m\u001b[39m.\u001b[39;49m_call_batch_hook_helper(hook_name, batch, logs)\n\u001b[0;32m    347\u001b[0m \u001b[39mif\u001b[39;00m \u001b[39mlen\u001b[39m(\u001b[39mself\u001b[39m\u001b[39m.\u001b[39m_batch_times) \u001b[39m>\u001b[39m\u001b[39m=\u001b[39m \u001b[39mself\u001b[39m\u001b[39m.\u001b[39m_num_batches_for_timing_check:\n\u001b[0;32m    348\u001b[0m     end_hook_name \u001b[39m=\u001b[39m hook_name\n",
      "File \u001b[1;32m~\\AppData\\Roaming\\Python\\Python311\\site-packages\\keras\\callbacks.py:393\u001b[0m, in \u001b[0;36mCallbackList._call_batch_hook_helper\u001b[1;34m(self, hook_name, batch, logs)\u001b[0m\n\u001b[0;32m    391\u001b[0m \u001b[39mfor\u001b[39;00m callback \u001b[39min\u001b[39;00m \u001b[39mself\u001b[39m\u001b[39m.\u001b[39mcallbacks:\n\u001b[0;32m    392\u001b[0m     hook \u001b[39m=\u001b[39m \u001b[39mgetattr\u001b[39m(callback, hook_name)\n\u001b[1;32m--> 393\u001b[0m     hook(batch, logs)\n\u001b[0;32m    395\u001b[0m \u001b[39mif\u001b[39;00m \u001b[39mself\u001b[39m\u001b[39m.\u001b[39m_check_timing:\n\u001b[0;32m    396\u001b[0m     \u001b[39mif\u001b[39;00m hook_name \u001b[39mnot\u001b[39;00m \u001b[39min\u001b[39;00m \u001b[39mself\u001b[39m\u001b[39m.\u001b[39m_hook_times:\n",
      "File \u001b[1;32m~\\AppData\\Roaming\\Python\\Python311\\site-packages\\keras\\callbacks.py:1093\u001b[0m, in \u001b[0;36mProgbarLogger.on_train_batch_end\u001b[1;34m(self, batch, logs)\u001b[0m\n\u001b[0;32m   1092\u001b[0m \u001b[39mdef\u001b[39;00m \u001b[39mon_train_batch_end\u001b[39m(\u001b[39mself\u001b[39m, batch, logs\u001b[39m=\u001b[39m\u001b[39mNone\u001b[39;00m):\n\u001b[1;32m-> 1093\u001b[0m     \u001b[39mself\u001b[39;49m\u001b[39m.\u001b[39;49m_batch_update_progbar(batch, logs)\n",
      "File \u001b[1;32m~\\AppData\\Roaming\\Python\\Python311\\site-packages\\keras\\callbacks.py:1170\u001b[0m, in \u001b[0;36mProgbarLogger._batch_update_progbar\u001b[1;34m(self, batch, logs)\u001b[0m\n\u001b[0;32m   1167\u001b[0m \u001b[39mif\u001b[39;00m \u001b[39mself\u001b[39m\u001b[39m.\u001b[39mverbose \u001b[39m==\u001b[39m \u001b[39m1\u001b[39m:\n\u001b[0;32m   1168\u001b[0m     \u001b[39m# Only block async when verbose = 1.\u001b[39;00m\n\u001b[0;32m   1169\u001b[0m     logs \u001b[39m=\u001b[39m tf_utils\u001b[39m.\u001b[39msync_to_numpy_or_python_type(logs)\n\u001b[1;32m-> 1170\u001b[0m     \u001b[39mself\u001b[39;49m\u001b[39m.\u001b[39;49mprogbar\u001b[39m.\u001b[39;49mupdate(\u001b[39mself\u001b[39;49m\u001b[39m.\u001b[39;49mseen, \u001b[39mlist\u001b[39;49m(logs\u001b[39m.\u001b[39;49mitems()), finalize\u001b[39m=\u001b[39;49m\u001b[39mFalse\u001b[39;49;00m)\n",
      "File \u001b[1;32m~\\AppData\\Roaming\\Python\\Python311\\site-packages\\keras\\utils\\generic_utils.py:296\u001b[0m, in \u001b[0;36mProgbar.update\u001b[1;34m(self, current, values, finalize)\u001b[0m\n\u001b[0;32m    293\u001b[0m         info \u001b[39m+\u001b[39m\u001b[39m=\u001b[39m \u001b[39m\"\u001b[39m\u001b[39m\\n\u001b[39;00m\u001b[39m\"\u001b[39m\n\u001b[0;32m    295\u001b[0m     message \u001b[39m+\u001b[39m\u001b[39m=\u001b[39m info\n\u001b[1;32m--> 296\u001b[0m     io_utils\u001b[39m.\u001b[39;49mprint_msg(message, line_break\u001b[39m=\u001b[39;49m\u001b[39mFalse\u001b[39;49;00m)\n\u001b[0;32m    297\u001b[0m     message \u001b[39m=\u001b[39m \u001b[39m\"\u001b[39m\u001b[39m\"\u001b[39m\n\u001b[0;32m    299\u001b[0m \u001b[39melif\u001b[39;00m \u001b[39mself\u001b[39m\u001b[39m.\u001b[39mverbose \u001b[39m==\u001b[39m \u001b[39m2\u001b[39m:\n",
      "File \u001b[1;32m~\\AppData\\Roaming\\Python\\Python311\\site-packages\\keras\\utils\\io_utils.py:80\u001b[0m, in \u001b[0;36mprint_msg\u001b[1;34m(message, line_break)\u001b[0m\n\u001b[0;32m     78\u001b[0m     \u001b[39melse\u001b[39;00m:\n\u001b[0;32m     79\u001b[0m         sys\u001b[39m.\u001b[39mstdout\u001b[39m.\u001b[39mwrite(message)\n\u001b[1;32m---> 80\u001b[0m     sys\u001b[39m.\u001b[39;49mstdout\u001b[39m.\u001b[39;49mflush()\n\u001b[0;32m     81\u001b[0m \u001b[39melse\u001b[39;00m:\n\u001b[0;32m     82\u001b[0m     logging\u001b[39m.\u001b[39minfo(message)\n",
      "File \u001b[1;32m~\\AppData\\Roaming\\Python\\Python311\\site-packages\\ipykernel\\iostream.py:497\u001b[0m, in \u001b[0;36mOutStream.flush\u001b[1;34m(self)\u001b[0m\n\u001b[0;32m    495\u001b[0m     \u001b[39mself\u001b[39m\u001b[39m.\u001b[39mpub_thread\u001b[39m.\u001b[39mschedule(evt\u001b[39m.\u001b[39mset)\n\u001b[0;32m    496\u001b[0m     \u001b[39m# and give a timeout to avoid\u001b[39;00m\n\u001b[1;32m--> 497\u001b[0m     \u001b[39mif\u001b[39;00m \u001b[39mnot\u001b[39;00m evt\u001b[39m.\u001b[39;49mwait(\u001b[39mself\u001b[39;49m\u001b[39m.\u001b[39;49mflush_timeout):\n\u001b[0;32m    498\u001b[0m         \u001b[39m# write directly to __stderr__ instead of warning because\u001b[39;00m\n\u001b[0;32m    499\u001b[0m         \u001b[39m# if this is happening sys.stderr may be the problem.\u001b[39;00m\n\u001b[0;32m    500\u001b[0m         \u001b[39mprint\u001b[39m(\u001b[39m\"\u001b[39m\u001b[39mIOStream.flush timed out\u001b[39m\u001b[39m\"\u001b[39m, file\u001b[39m=\u001b[39msys\u001b[39m.\u001b[39m__stderr__)\n\u001b[0;32m    501\u001b[0m \u001b[39melse\u001b[39;00m:\n",
      "File \u001b[1;32mc:\\Python311\\Lib\\threading.py:622\u001b[0m, in \u001b[0;36mEvent.wait\u001b[1;34m(self, timeout)\u001b[0m\n\u001b[0;32m    620\u001b[0m signaled \u001b[39m=\u001b[39m \u001b[39mself\u001b[39m\u001b[39m.\u001b[39m_flag\n\u001b[0;32m    621\u001b[0m \u001b[39mif\u001b[39;00m \u001b[39mnot\u001b[39;00m signaled:\n\u001b[1;32m--> 622\u001b[0m     signaled \u001b[39m=\u001b[39m \u001b[39mself\u001b[39;49m\u001b[39m.\u001b[39;49m_cond\u001b[39m.\u001b[39;49mwait(timeout)\n\u001b[0;32m    623\u001b[0m \u001b[39mreturn\u001b[39;00m signaled\n",
      "File \u001b[1;32mc:\\Python311\\Lib\\threading.py:324\u001b[0m, in \u001b[0;36mCondition.wait\u001b[1;34m(self, timeout)\u001b[0m\n\u001b[0;32m    322\u001b[0m \u001b[39melse\u001b[39;00m:\n\u001b[0;32m    323\u001b[0m     \u001b[39mif\u001b[39;00m timeout \u001b[39m>\u001b[39m \u001b[39m0\u001b[39m:\n\u001b[1;32m--> 324\u001b[0m         gotit \u001b[39m=\u001b[39m waiter\u001b[39m.\u001b[39;49macquire(\u001b[39mTrue\u001b[39;49;00m, timeout)\n\u001b[0;32m    325\u001b[0m     \u001b[39melse\u001b[39;00m:\n\u001b[0;32m    326\u001b[0m         gotit \u001b[39m=\u001b[39m waiter\u001b[39m.\u001b[39macquire(\u001b[39mFalse\u001b[39;00m)\n",
      "\u001b[1;31mKeyboardInterrupt\u001b[0m: "
     ]
    }
   ],
   "source": [
    "# Create a function for training models with TensorBoard\n",
    "\n",
    "x_train = X_train\n",
    "x_test = X_test\n",
    "y_train = y_train\n",
    "y_test = y_test\n",
    "\n",
    "def train_model_with_tensorboard(model_creator, train_x, train_y, test_x, test_y, model_name):\n",
    "    log_dir = os.path.join(\"logs\", model_name, datetime.now().strftime(\"%Y%m%d-%H%M%S\"))\n",
    "    tensorboard_callback = TensorBoard(log_dir=log_dir, histogram_freq=1)\n",
    "\n",
    "    model = model_creator()\n",
    "    history = model.fit(\n",
    "        train_x, train_y,\n",
    "        epochs=Parameters.epochs,\n",
    "        batch_size=Parameters.batch_size,\n",
    "        validation_data=(test_x, test_y),\n",
    "        verbose=Parameters.verbosity,\n",
    "        callbacks=[tensorboard_callback]\n",
    "    )\n",
    "    \n",
    "    return model, history\n",
    "\n",
    "best_model_history = None  # Keep track of the best model's history\n",
    "model_histories = []\n",
    "\n",
    "# Perform cross-validation\n",
    "models = [create_model_1,create_model_2,create_model_3,create_model_4]\n",
    "best_model = None\n",
    "num_folds = Parameters.number_folds\n",
    "kfold = KFold(n_splits=num_folds, shuffle=True)\n",
    "fold_acc_scores = []\n",
    "\n",
    "for i, (train, test) in enumerate(kfold.split(x_train, y_train)):\n",
    "    logging.info(f'Fold {i+1}')\n",
    "    train_x, train_y = x_train[train], y_train[train]\n",
    "    test_x, test_y = x_train[test], y_train[test]\n",
    "    \n",
    "    fold_histories = []\n",
    "\n",
    "    for j, model_creator in enumerate(models):\n",
    "        logging.info(f'Model {j+1}')\n",
    "        model_name = f'fold_{i + 1}_model_{j + 1}'\n",
    "        model, history = train_model_with_tensorboard(model_creator, train_x, train_y, test_x, test_y, model_name)\n",
    "\n",
    "        test_loss, acc = model.evaluate(test_x, test_y, verbose=Parameters.verbosity)\n",
    "        logging.info(f'Validation accuracy: {acc}')\n",
    "        \n",
    "        fold_histories.append(history.history)\n",
    "        \n",
    "        for epoch in range(Parameters.epochs):\n",
    "            # Log accuracy after each epoch\n",
    "            acc_epoch = history.history['val_accuracy'][epoch]\n",
    "            logging.info(f'Epoch {epoch + 1}, Validation accuracy: {acc_epoch}')\n",
    "        fold_acc_scores.append((i, j, acc))\n",
    "        \n",
    "        if best_model_history is None or acc > best_model_acc:\n",
    "            best_model_history = history\n",
    "            best_model = model\n",
    "            best_model_acc = acc\n",
    "    \n",
    "    model_histories.append(fold_histories)\n",
    "\n",
    "# Find the best model\n",
    "best_model_index = np.argmax([score[2] for score in fold_acc_scores])\n",
    "best_fold_idx, best_model_idx, _ = max(fold_acc_scores, key=lambda x: x[2])\n",
    "best_model_history = model_histories[best_fold_idx][best_model_idx]\n",
    "\n",
    "# Evaluate the best model on the test set\n",
    "test_loss, test_acc = best_model.evaluate(x_test, y_test)\n",
    "logging.info(f'Test accuracy {test_acc}')\n"
   ]
  },
  {
   "cell_type": "code",
   "execution_count": 36,
   "metadata": {},
   "outputs": [
    {
     "data": {
      "text/plain": [
       "[[{'loss': [0.25769704580307007,\n",
       "    0.12571962177753448,\n",
       "    0.09509823471307755,\n",
       "    0.08032198250293732,\n",
       "    0.07046161592006683,\n",
       "    0.06395179033279419,\n",
       "    0.059530019760131836,\n",
       "    0.05598163977265358,\n",
       "    0.05254220589995384,\n",
       "    0.05009842664003372],\n",
       "   'accuracy': [0.9110851883888245,\n",
       "    0.9570886492729187,\n",
       "    0.9674150943756104,\n",
       "    0.9723440408706665,\n",
       "    0.9757274985313416,\n",
       "    0.9779247045516968,\n",
       "    0.9794702529907227,\n",
       "    0.9805443286895752,\n",
       "    0.9815773963928223,\n",
       "    0.9825904369354248],\n",
       "   'val_loss': [0.15062780678272247,\n",
       "    0.1104658767580986,\n",
       "    0.09079216420650482,\n",
       "    0.08003628253936768,\n",
       "    0.07696308195590973,\n",
       "    0.06884759664535522,\n",
       "    0.06626738607883453,\n",
       "    0.06896661967039108,\n",
       "    0.06965992599725723,\n",
       "    0.06295178085565567],\n",
       "   'val_accuracy': [0.9485871195793152,\n",
       "    0.9616633057594299,\n",
       "    0.9687905311584473,\n",
       "    0.9729247093200684,\n",
       "    0.9743421077728271,\n",
       "    0.9769898056983948,\n",
       "    0.9779947996139526,\n",
       "    0.9767765402793884,\n",
       "    0.976375162601471,\n",
       "    0.9792971014976501]}],\n",
       " [{'loss': [0.255086213350296,\n",
       "    0.12405466288328171,\n",
       "    0.09429681301116943,\n",
       "    0.07896479219198227,\n",
       "    0.06931895762681961,\n",
       "    0.06289844214916229,\n",
       "    0.058197155594825745,\n",
       "    0.05447579547762871,\n",
       "    0.05138188600540161,\n",
       "    0.04923214763402939],\n",
       "   'accuracy': [0.9116078019142151,\n",
       "    0.9572958946228027,\n",
       "    0.9674281477928162,\n",
       "    0.9726754426956177,\n",
       "    0.9759557247161865,\n",
       "    0.9781399369239807,\n",
       "    0.9797695875167847,\n",
       "    0.9810308814048767,\n",
       "    0.9820989370346069,\n",
       "    0.9828877449035645],\n",
       "   'val_loss': [0.14563758671283722,\n",
       "    0.11004571616649628,\n",
       "    0.09216099232435226,\n",
       "    0.07857423275709152,\n",
       "    0.07864975929260254,\n",
       "    0.07031367719173431,\n",
       "    0.06453024595975876,\n",
       "    0.06427232921123505,\n",
       "    0.06172935292124748,\n",
       "    0.0638800635933876],\n",
       "   'val_accuracy': [0.9499574303627014,\n",
       "    0.9620346426963806,\n",
       "    0.9678425192832947,\n",
       "    0.9730678200721741,\n",
       "    0.9723761081695557,\n",
       "    0.9762179851531982,\n",
       "    0.9780027866363525,\n",
       "    0.9785032868385315,\n",
       "    0.9789787530899048,\n",
       "    0.9783982038497925]}]]"
      ]
     },
     "execution_count": 36,
     "metadata": {},
     "output_type": "execute_result"
    }
   ],
   "source": [
    "model_histories"
   ]
  },
  {
   "cell_type": "code",
   "execution_count": 79,
   "metadata": {},
   "outputs": [
    {
     "name": "stdout",
     "output_type": "stream",
     "text": [
      "1953/1953 [==============================] - 7s 4ms/step\n",
      "[[7.87351624e-08 1.62944488e-07 3.07707851e-05 4.34411095e-06\n",
      "  1.08637471e-06 9.99963522e-01]\n",
      " [8.21598292e-08 6.02295742e-08 4.39178766e-05 2.52636642e-06\n",
      "  4.78698439e-07 9.99952912e-01]\n",
      " [7.60544552e-08 3.07119024e-08 3.68612309e-05 1.96513633e-06\n",
      "  2.36935009e-07 9.99960780e-01]\n",
      " ...\n",
      " [1.13503158e-03 6.44940941e-04 1.39978705e-02 9.83879089e-01\n",
      "  6.95186027e-05 2.73550308e-04]\n",
      " [1.65032444e-03 2.18125992e-03 2.93452647e-02 9.66126204e-01\n",
      "  1.12664340e-04 5.84299851e-04]\n",
      " [6.74462644e-03 8.30822531e-03 1.32167328e-03 9.74555254e-01\n",
      "  5.07745659e-04 8.56247451e-03]]\n",
      "Class 0 count: 15745\n",
      "Class 1 count: 1034\n",
      "Class 2 count: 879\n",
      "Class 3 count: 4313\n",
      "Class 4 count: 17637\n",
      "Class 5 count: 22884\n"
     ]
    }
   ],
   "source": [
    "# Manual Test with unseen Data Future it should be the webapp\n",
    "# Yvo\n",
    "# Uff its now worse than before\n",
    "\n",
    "from scipy.stats import mode\n",
    "df_yvo = pd.read_csv(\"Yvo_Messung_Velo.csv\")\n",
    "df_yvo = df_yvo.drop(columns=[\"id\", \"user\", \"id_combined\"])\n",
    "df_yvo.drop(['Unnamed: 0'], axis=1, inplace=True)\n",
    "epoch = pd.Timestamp('1970-01-01')\n",
    "df_yvo['time'] = pd.to_datetime(df['time'])\n",
    "df_yvo['time'] = (df_yvo['time'] - epoch).apply(lambda x: int(x.total_seconds() * 1000))\n",
    "# get all types of the df\n",
    "X = df_yvo.values[:, 1:13]\n",
    "window_size = 10\n",
    "step_size = 1\n",
    "# Create a sliding window of X with the specified window and step sizes\n",
    "X_windows = np.array([X[i:i+window_size,:] for i in range(0,X.shape[0]-window_size+1,step_size)])\n",
    "# Reshape X_windows to 3D format (samples, timesteps, features)\n",
    "timesteps = X_windows.shape[1]\n",
    "n_features = X_windows.shape[2]\n",
    "X_windows = X_windows.reshape(-1, timesteps, n_features)\n",
    "X_windows = X_windows.astype('float32')\n",
    "# Create the corresponding y labels for the sliding windows\n",
    "# Get the predicted class probabilities for each input window\n",
    "y_pred_probs = best_model.predict(X_windows)\n",
    "print(y_pred_probs)\n",
    "# Get the predicted class labels for each input window\n",
    "y_pred_labels = np.argmax(y_pred_probs, axis=1)\n",
    "# instead of the median print the most frequent label\n",
    "\n",
    "class_counts = np.bincount(y_pred_labels)\n",
    "for i, count in enumerate(class_counts):\n",
    "    print(f\"Class {i} count: {count}\")\n",
    "\n"
   ]
  },
  {
   "cell_type": "code",
   "execution_count": 80,
   "metadata": {},
   "outputs": [
    {
     "name": "stdout",
     "output_type": "stream",
     "text": [
      "[0.25769704580307007, 0.12571962177753448, 0.09509823471307755, 0.08032198250293732, 0.07046161592006683, 0.06395179033279419, 0.059530019760131836, 0.05598163977265358, 0.05254220589995384, 0.05009842664003372]\n"
     ]
    },
    {
     "data": {
      "image/png": "[encoded data removed]",
      "text/plain": [
       "<Figure size 640x480 with 1 Axes>"
      ]
     },
     "metadata": {},
     "output_type": "display_data"
    },
    {
     "data": {
      "image/png": "[encoded data removed]",
      "text/plain": [
       "<Figure size 640x480 with 1 Axes>"
      ]
     },
     "metadata": {},
     "output_type": "display_data"
    }
   ],
   "source": [
    "# visualize the training process\n",
    "import matplotlib.pyplot as plt\n",
    "import numpy as np\n",
    "\n",
    "print(best_model_history['loss'])\n",
    "# summarize history for accuracy\n",
    "plt.plot(best_model_history['accuracy'])\n",
    "plt.plot(best_model_history['val_accuracy'])\n",
    "plt.title('model accuracy')\n",
    "plt.ylabel('accuracy')\n",
    "plt.xlabel('epoch')\n",
    "plt.legend(['train', 'test'], loc='upper left')\n",
    "plt.show()\n",
    "# summarize history for loss\n",
    "plt.plot(best_model_history['loss'])\n",
    "plt.plot(best_model_history['val_loss'])\n",
    "plt.title('model loss')\n",
    "plt.ylabel('loss')\n",
    "plt.xlabel('epoch')\n",
    "plt.legend(['train', 'test'], loc='upper left')\n",
    "plt.show()"
   ]
  },
  {
   "cell_type": "code",
   "execution_count": 43,
   "metadata": {},
   "outputs": [
    {
     "name": "stdout",
     "output_type": "stream",
     "text": [
      "Model: \"sequential_8\"\n",
      "_________________________________________________________________\n",
      " Layer (type)                Output Shape              Param #   \n",
      "=================================================================\n",
      " conv1d_8 (Conv1D)           (None, 5, 64)             1600      \n",
      "                                                                 \n",
      " lstm_8 (LSTM)               (None, 100)               66000     \n",
      "                                                                 \n",
      " dense_8 (Dense)             (None, 6)                 606       \n",
      "                                                                 \n",
      "=================================================================\n",
      "Total params: 68,206\n",
      "Trainable params: 68,206\n",
      "Non-trainable params: 0\n",
      "_________________________________________________________________\n"
     ]
    }
   ],
   "source": [
    "# summarise best model\n",
    "best_model.summary()"
   ]
  },
  {
   "cell_type": "code",
   "execution_count": 44,
   "metadata": {},
   "outputs": [
    {
     "name": "stdout",
     "output_type": "stream",
     "text": [
      "15610/15610 [==============================] - 35s 2ms/step\n"
     ]
    }
   ],
   "source": [
    "y_pred = model.predict(X_test)"
   ]
  },
  {
   "cell_type": "code",
   "execution_count": null,
   "metadata": {},
   "outputs": [],
   "source": [
    "model.evaluate(X_test, y_test)"
   ]
  },
  {
   "cell_type": "code",
   "execution_count": 46,
   "metadata": {},
   "outputs": [
    {
     "name": "stdout",
     "output_type": "stream",
     "text": [
      "15610/15610 [==============================] - 39s 2ms/step\n"
     ]
    },
    {
     "data": {
      "image/png": "[encoded data removed]",
      "text/plain": [
       "<Figure size 640x480 with 2 Axes>"
      ]
     },
     "metadata": {},
     "output_type": "display_data"
    },
    {
     "data": {
      "text/plain": [
       "array([0.97142525, 0.9805476 , 0.99615265, 0.9912555 , 0.93724814,\n",
       "       0.98548012])"
      ]
     },
     "metadata": {},
     "output_type": "display_data"
    }
   ],
   "source": [
    "from sklearn.metrics import confusion_matrix, ConfusionMatrixDisplay\n",
    "import matplotlib.pyplot as plt\n",
    "#for multiclass classification\n",
    "y_pred = best_model.predict(x_test)\n",
    "y_test_labels = y_test.argmax(axis=1)\n",
    "y_pred_labels = y_pred.argmax(axis=1)\n",
    "\n",
    "cm = confusion_matrix(y_test_labels, y_pred_labels)\n",
    "disp = ConfusionMatrixDisplay(confusion_matrix=cm, display_labels=le.classes_)\n",
    "# get f1 score of each class\n",
    "from sklearn.metrics import f1_score\n",
    "f1 = f1_score(y_test_labels, y_pred_labels, average=None)\n",
    "# get f1 score of each class\n",
    "\n",
    "disp.plot()\n",
    "plt.show()\n",
    "display(f1)"
   ]
  },
  {
   "cell_type": "code",
   "execution_count": null,
   "metadata": {},
   "outputs": [],
   "source": [
    "# Create a Baseline Model"
   ]
  },
  {
   "cell_type": "code",
   "execution_count": null,
   "metadata": {},
   "outputs": [],
   "source": [
    "# Compare Baseline vs best_model"
   ]
  },
  {
   "cell_type": "code",
   "execution_count": null,
   "metadata": {},
   "outputs": [],
   "source": [
    "# plot graph for learning curve and loss curve from baseline and best_model"
   ]
  },
  {
   "cell_type": "code",
   "execution_count": null,
   "metadata": {},
   "outputs": [],
   "source": [
    "# print loss and accuracy for best model over epoch and steps plot"
   ]
  },
  {
   "cell_type": "code",
   "execution_count": null,
   "metadata": {},
   "outputs": [],
   "source": [
    "# Export Model for using in tensorflow.js\n",
    "!mkdir -p saved_model\n",
    "best_model.save('saved_model/sensor_model')\n",
    "best_model.save('saved_model/sensor_model.h5')"
   ]
  },
  {
   "cell_type": "code",
   "execution_count": null,
   "metadata": {},
   "outputs": [],
   "source": [
    "# Save the weight for the Js Model\n",
    "best_model.save_weights('./checkpoints/my_checkpoint')\n"
   ]
  },
  {
   "cell_type": "code",
   "execution_count": null,
   "metadata": {},
   "outputs": [],
   "source": [
    "# upload model to server to download it on tensorflow js"
   ]
  },
  {
   "cell_type": "code",
   "execution_count": null,
   "metadata": {},
   "outputs": [],
   "source": [
    "dill.dump_session('notebook_env.db')"
   ]
  }
 ],
 "metadata": {
  "kernelspec": {
   "display_name": "Python 3",
   "language": "python",
   "name": "python3"
  },
  "language_info": {
   "codemirror_mode": {
    "name": "ipython",
    "version": 3
   },
   "file_extension": ".py",
   "mimetype": "text/x-python",
   "name": "python",
   "nbconvert_exporter": "python",
   "pygments_lexer": "ipython3",
   "version": "3.11.0"
  },
  "orig_nbformat": 4,
  "vscode": {
   "interpreter": {
    "hash": "c261aea317cc0286b3b3261fbba9abdec21eaa57589985bb7a274bf54d6cc0a7"
   }
  }
 },
 "nbformat": 4,
 "nbformat_minor": 2
}
